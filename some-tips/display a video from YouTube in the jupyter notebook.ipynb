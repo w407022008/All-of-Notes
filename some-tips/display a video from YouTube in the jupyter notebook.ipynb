{
 "cells": [
  {
   "cell_type": "markdown",
   "metadata": {},
   "source": [
    "All right！ \n",
    "\n",
    "我先给一个例子：\n"
   ]
  },
  {
   "cell_type": "code",
   "execution_count": 1,
   "metadata": {
    "collapsed": false
   },
   "outputs": [
    {
     "data": {
      "text/html": [
       "<iframe width=\"560\" height=\"315\" src=\"https://www.youtube.com/embed/7-JvyzOddTM?list=PL2Fyra_8f6uOliaoz0QBV4rdhfpqPvUGI\" frameborder=\"0\" allowfullscreen></iframe>"
      ],
      "text/plain": [
       "<IPython.core.display.HTML object>"
      ]
     },
     "execution_count": 1,
     "metadata": {},
     "output_type": "execute_result"
    }
   ],
   "source": [
    "from IPython.display import HTML\n",
    "\n",
    "# Youtube\n",
    "HTML('<iframe width=\"560\" height=\"315\" src=\"https://www.youtube.com/embed/7-JvyzOddTM?list=PL2Fyra_8f6uOliaoz0QBV4rdhfpqPvUGI\" frameborder=\"0\" allowfullscreen></iframe>')\n"
   ]
  },
  {
   "cell_type": "markdown",
   "metadata": {},
   "source": [
    "代码当中只有个别部分是需要更换的，即：\n",
    "```python\n",
    "from IPython.display import HTML\n",
    "\n",
    "# Youtube\n",
    "```\n",
    "`HTML('<iframe width=\"560\" height=\"315\" src=\"https://www.youtube.com/embed/` 7-JvyzOddTM?list=PL2Fyra_8f6uOliaoz0QBV4rdhfpqPvUGI `\"frameborder=\"0\" allowfullscreen></iframe>')`\n"
   ]
  },
  {
   "cell_type": "markdown",
   "metadata": {},
   "source": [
    "此时，黑体部分代码是在YouTube视屏上:\n",
    "\n",
    "`右键`$-->$ `复制视频网址`$-->$截取关键部分:`https://youtu.be/`*7-JvyzOddTM?list=PL2Fyra_8f6uOliaoz0QBV4rdhfpqPvUGI*\n"
   ]
  }
 ],
 "metadata": {
  "kernelspec": {
   "display_name": "Python 3",
   "language": "python",
   "name": "python3"
  },
  "language_info": {
   "codemirror_mode": {
    "name": "ipython",
    "version": 3
   },
   "file_extension": ".py",
   "mimetype": "text/x-python",
   "name": "python",
   "nbconvert_exporter": "python",
   "pygments_lexer": "ipython3",
   "version": "3.6.0"
  }
 },
 "nbformat": 4,
 "nbformat_minor": 2
}
