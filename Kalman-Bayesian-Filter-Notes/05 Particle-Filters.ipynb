{
 "cells": [
  {
   "cell_type": "markdown",
   "metadata": {},
   "source": [
    "# 粒子滤波器Particle-Filters"
   ]
  },
  {
   "cell_type": "markdown",
   "metadata": {},
   "source": [
    "    本节介绍粒子滤波器，这个滤波器的想法类似于UKF方法，只是改换了UKF方法中sigma点而采用Monte-Carlo随机种子。这种情况下描述同一状态的描述点相比于UKF更多，能有更大可能对状态估计更加准确。粒子群是建立在随机分布Monte-Carlofen'x分析的基础上，通常在使用过程分为：已知初始状态而采用高斯分布处理；未知初始状态而采用均匀分布处理。\n",
    "    \n",
    "    This section introduces the particle filter. The nature of this filter is similar to the UKF method, except that the sigma point in the UKF method is changed and the Monte-Carlo random seed is used. In this case, these description points describing the same state are more than the UKF, and there is a greater possibility that the state estimation is more accurate. The particle swarm is based on the Monte-Carlo simulation of random distribution. It is usually divided into: known initial state and Gaussian distribution; unknown initial state and uniform distribution."
   ]
  },
  {
   "cell_type": "markdown",
   "metadata": {},
   "source": [
    "<img src='particle_filter_anim.gif'>"
   ]
  },
  {
   "cell_type": "markdown",
   "metadata": {},
   "source": [
    "# Algorithm\n",
    "\n",
    "接下来先给出整个算法过程，并分别叙述。"
   ]
  },
  {
   "cell_type": "markdown",
   "metadata": {},
   "source": [
    "**初始化 Initialization：**\n",
    "\n",
    "1. 确定NL个标定点的位置（Determine the position of NL calibration points）：**landmarkd = [ [ ], [ ],……]**\n",
    "2. 生成有N个随机点构成的粒子群（Generating a particle swarm of N random points）：\n",
    "\n",
    "    是否存在初始状态变量initial_x（Is there an initial state variable initial_x）：\n",
    "    - 存在 Yes：采用高斯分布方法(Gaussian distribution)：**create_gaussian_particles(mean, P_std, N)**\n",
    "    - 不存在 No： 采用均匀分布方法(Uniform distribution)：**create_uniform_particles(x_range, y_range, …, N)**\n",
    "3. 初始化权系数(Initialization weight coefficient)：**weights = np.zeros(N)**\n",
    "\n",
    "**循环部 Loop：**\n",
    "\n",
    "4. 粒子群状态先验预估计（Pre-estimation of particle swarm state）：**particles = predict(particles, u, Q_std)**\n",
    "5. 生成状态测量值（Generate status measurements）：**zs**\n",
    "6. 粒子群状态后验估计（Posterior estimation of particle swarm state）：**weights = update(particles, weights, z, R_std, landmarks)**\n",
    "7. Resample判断：  \n",
    "    if **neff(weights) < N/2**, then  \n",
    "      获取重抽样索引(Get resampled index)：**indexes**  \n",
    "      重抽样(Resampling)：**resample_from_indexes(particles, weights, indexes)**\n",
    "8. 估计状态变量(Estimate state variable)：**$\\mu, \\sigma^2$ = estimate(particles,weights)**"
   ]
  },
  {
   "cell_type": "markdown",
   "metadata": {},
   "source": [
    "接下来，我们给一个例题，并在例题前，逐步讲解每一个步骤的内容："
   ]
  },
  {
   "cell_type": "markdown",
   "metadata": {},
   "source": [
    "## 1、生成粒子群 Generating particle swarm\n",
    "\n",
    "前面已经知道了，通常生成粒子群有两种方案。  \n",
    "在未知初值情况下，我们采用均匀分布设置N个随机点，这样有利于等可能的考虑到全域内任何一个可能出现新状态的位置。但是相比于在已知初始点处采用高斯分布来设置随机点的方法，这样显然会更加粗糙更加不精确。因此，通常情况下，我们更愿意采用高斯分布的方法，而对于未知的初值，我们可以假设为接近初始测量值的值。  \n",
    "\n",
    "Aforementionedly, there are usually two scenarios for generating particle swarms.  \n",
    "In the case of unknown initial values, we use a uniform distribution to set N random points, which is beneficial to consider the possible location of any new state in the whole domain. However, this is obviously more rough and less accurate than the method of setting a random point using a Gaussian distribution at a known initial point. Therefore, in general, we prefer to use the Gaussian distribution method, and for the unknown initial value, we can assume the value close to the initial measurement."
   ]
  },
  {
   "cell_type": "code",
   "execution_count": 17,
   "metadata": {
    "collapsed": true
   },
   "outputs": [],
   "source": [
    "from numpy.random import uniform\n",
    "def create_uniform_particles(x_range, y_range, hdg_range, N):\n",
    "    particles = np.empty((N, 3))\n",
    "    particles[:, 0] = uniform(x_range[0], x_range[1], size=N)\n",
    "    particles[:, 1] = uniform(y_range[0], y_range[1], size=N)\n",
    "    particles[:, 2] = uniform(hdg_range[0], hdg_range[1], size=N)\n",
    "    particles[:, 2] %= 2 * np.pi\n",
    "    return particles\n",
    "\n",
    "def create_gaussian_particles(mean, P_std, N):\n",
    "    particles = np.empty((N, 3))\n",
    "    particles[:, 0] = mean[0] + (randn(N) * P_std[0])\n",
    "    particles[:, 1] = mean[1] + (randn(N) * P_std[1])\n",
    "    particles[:, 2] = mean[2] + (randn(N) * P_std[2])\n",
    "    particles[:, 2] %= 2 * np.pi\n",
    "    return particles"
   ]
  },
  {
   "cell_type": "markdown",
   "metadata": {},
   "source": [
    "## 2、状态先验假设预估计 Pre-estimation of particle states\n",
    "\n",
    "预估计阶段，事实上就是对这些粒子点在dt时间后的位置先验假设估计，从而使粒子群从前一状态推移到新状态附近。  \n",
    "\n",
    "The pre-estimation is to estimate the state of these particle points after the dt time according to the system model, so that these particles  moves from the previous state to the vicinity of the new state.\n",
    "\n",
    "$$particles <== predict(particles, u, Q_std, dt) $$"
   ]
  },
  {
   "cell_type": "code",
   "execution_count": 18,
   "metadata": {
    "collapsed": true
   },
   "outputs": [],
   "source": [
    "def predict(particles, u, Q_std, dt=1.):\n",
    "    \"\"\" move according to control input u (heading change, velocity)\n",
    "    with noise Q (std heading change, std velocity)`\"\"\"\n",
    "\n",
    "    N = len(particles)\n",
    "    # update heading\n",
    "    particles[:, 2] += u[0] + (randn(N) * Q_std[0])\n",
    "    particles[:, 2] %= 2 * np.pi\n",
    "\n",
    "    # move in the (noisy) commanded direction\n",
    "    dist = (u[1] * dt) + (randn(N) * Q_std[1])                #u[1]是速度控制标量，randn(N)是N维随机矢量\n",
    "    particles[:, 0] += np.cos(particles[:, 2]) * dist\n",
    "    particles[:, 1] += np.sin(particles[:, 2]) * dist"
   ]
  },
  {
   "cell_type": "markdown",
   "metadata": {},
   "source": [
    "## 3、状态后验假设估计 Posterior estimation of particles states\n",
    "\n",
    "在后验估计过程中，我们根据标定点测量到的那些数据得到实际状态的联合分布，并根据这个分布获得此时每个粒子的概率（即权值weights）。 \n",
    "\n",
    "In the a posteriori estimation process, we obtain the joint distribution of the actual states based on the data measured at the calibration point, and obtain the probability of each particle at this time according to this distribution.\n",
    "\n",
    "$$weights <== update(particles, weights, z, R_std, landmarks)$$"
   ]
  },
  {
   "cell_type": "code",
   "execution_count": 19,
   "metadata": {
    "collapsed": true
   },
   "outputs": [],
   "source": [
    "def update(particles, weights, z, R_std, landmarks):\n",
    "    weights.fill(1.)\n",
    "    for i, landmark in enumerate(landmarks):\n",
    "        distance = np.linalg.norm(particles[:, 0:2] - landmark, axis=1) # axis=1: 横向求两点间距离（方和根）），纵向维数一致； axis=0: 纵向求方和根\n",
    "        weights *= scipy.stats.norm(distance, R_std).pdf(z[i])\n",
    "\n",
    "    weights += 1.e-300      # avoid round-off to zero\n",
    "    weights /= sum(weights) # normalize"
   ]
  },
  {
   "cell_type": "markdown",
   "metadata": {},
   "source": [
    "## 4、重采用条件 Resample condition: neff(weights) < N/2\n",
    "\n",
    "neff函数求解得到有效值，当有效值小于N/2时（有时候也用N），则我们认为，这个时候很多的点意义不大了，我们可以将这些点忽略掉。\n",
    "\n",
    "The neff function solves the rms value. When the RMS value is less than N/2 (and sometimes N), we think that many points at this time are of little significance, we can ignore these points."
   ]
  },
  {
   "cell_type": "code",
   "execution_count": 20,
   "metadata": {
    "collapsed": true
   },
   "outputs": [],
   "source": [
    "def neff(weights):\n",
    "    return 1. / np.sum(np.square(weights))   # 这里的square函数是标量运算，是对数组中每个元素进行运算操作"
   ]
  },
  {
   "cell_type": "markdown",
   "metadata": {},
   "source": [
    "## 5、Resample\n",
    "\n",
    "进而，我们就将那些权值较大的点，也就是距离目标较近的粒子点保留下来。  \n",
    "\n",
    "Furthermore, we keep those points with larger weights,that the points closer to the target.\n",
    "\n",
    "在这时，在获取这些粒子点的索引时候，通常有四种方法：\n",
    "\n",
    "There are usually four ways to get the index of these particle points:\n",
    "```python\n",
    "import filterpy.monte-carlo as mc\n",
    "mc.multinomial_resample\n",
    "mc.residual_resample\n",
    "mc.stratified_resample\n",
    "mc.systematic_resample\n",
    "```\n",
    "这四种方法中，推荐使用后两种，其效率较高，具体对比可以参看书中最后部分。\n",
    "\n",
    "Of the four methods, the latter two are recommended, which are more efficient."
   ]
  },
  {
   "cell_type": "code",
   "execution_count": 21,
   "metadata": {
    "collapsed": true
   },
   "outputs": [],
   "source": [
    "def resample_from_index(particles, weights, indexes):\n",
    "    particles[:] = particles[indexes]\n",
    "    weights[:] = weights[indexes]\n",
    "    weights.fill (1.0 / len(weights))"
   ]
  },
  {
   "cell_type": "markdown",
   "metadata": {},
   "source": [
    "## 6、Estimation\n",
    "\n",
    "最后的估计部分，实际上就是对每个粒子作用于他自己的权值，从而获得这一状态的估计值，粒子分布的方差也就是这一状态的不确定性。  \n",
    "\n",
    "The final part of the estimation is actually to weight each particle to obtain an estimate of this state. The variance of the particle distribution is the uncertainty of this state."
   ]
  },
  {
   "cell_type": "code",
   "execution_count": 22,
   "metadata": {
    "collapsed": true
   },
   "outputs": [],
   "source": [
    "def estimate(particles, weights):\n",
    "    \"\"\"returns mean and variance of the weighted particles\"\"\"\n",
    "\n",
    "    pos = particles[:, 0:2]\n",
    "    mean = np.average(pos, weights=weights, axis=0)  #此时保持横向维度不变，纵向求均值，即对各粒子点加权求均值\n",
    "    var  = np.average((pos - mean)**2, weights=weights, axis=0)\n",
    "    return mean, var"
   ]
  },
  {
   "cell_type": "code",
   "execution_count": 23,
   "metadata": {},
   "outputs": [
    {
     "name": "stdout",
     "output_type": "stream",
     "text": [
      "final position error, variance:\n",
      "\t [-0.10621456  0.1061402 ] [ 0.00859646  0.00757081]\n"
     ]
    },
    {
     "data": {
      "image/png": "[encoded data removed]",
      "text/plain": [
       "<matplotlib.figure.Figure at 0x1e94d9184e0>"
      ]
     },
     "metadata": {},
     "output_type": "display_data"
    }
   ],
   "source": [
    "from filterpy.monte_carlo import systematic_resample\n",
    "import numpy as np\n",
    "from numpy.linalg import norm\n",
    "from numpy.random import randn\n",
    "import matplotlib.pyplot as plt\n",
    "import scipy.stats\n",
    "\n",
    "def run_pf1(N, iters=18, sensor_std_err=.1, \n",
    "            do_plot=True, plot_particles=False,\n",
    "            xlim=(0, 20), ylim=(0, 20),\n",
    "            initial_x=None):\n",
    "    landmarks = np.array([[-1, 2], [5, 10], [12,14], [18,21]])\n",
    "    NL = len(landmarks)\n",
    "    \n",
    "    plt.figure()\n",
    "   \n",
    "    # create particles and weights\n",
    "    if initial_x is not None:\n",
    "        particles = create_gaussian_particles(\n",
    "            mean=initial_x, P_std=(5, 5, np.pi/4), N=N)\n",
    "    else:\n",
    "        particles = create_uniform_particles((0,20), (0,20), (0, 6.28), N)\n",
    "    weights = np.zeros(N)\n",
    "\n",
    "    if plot_particles:\n",
    "        alpha = .20\n",
    "        if N > 5000:\n",
    "            alpha *= np.sqrt(5000)/np.sqrt(N)           \n",
    "        plt.scatter(particles[:, 0], particles[:, 1], \n",
    "                    alpha=alpha, color='g')\n",
    "    \n",
    "    xs = []\n",
    "    robot_pos = np.array([0., 0.])\n",
    "    for x in range(iters):\n",
    "        robot_pos += (1, 1)\n",
    "\n",
    "        # distance from robot to each landmark\n",
    "        zs = (norm(landmarks - robot_pos, axis=1) + \n",
    "              (randn(NL) * sensor_std_err))\n",
    "\n",
    "        # move diagonally forward to (x+1, x+1)\n",
    "        predict(particles, u=(0.00, 1.414), Q_std=(.2, .05))\n",
    "        \n",
    "        # incorporate measurements\n",
    "        update(particles, weights, z=zs, R_std=sensor_std_err, \n",
    "               landmarks=landmarks)\n",
    "        \n",
    "        # resample if too few effective particles\n",
    "        if neff(weights) < N/2:\n",
    "            indexes = systematic_resample(weights)          # 采用systematic_resample方法获取重抽样索引\n",
    "            resample_from_index(particles, weights, indexes)\n",
    "\n",
    "        mu, var = estimate(particles, weights)\n",
    "        xs.append(mu)\n",
    "\n",
    "        if plot_particles:\n",
    "            plt.scatter(particles[:, 0], particles[:, 1], \n",
    "                        color='k', marker=',', s=1)\n",
    "        p1 = plt.scatter(robot_pos[0], robot_pos[1], marker='+',\n",
    "                         color='k', s=180, lw=3)\n",
    "        p2 = plt.scatter(mu[0], mu[1], marker='s', color='r')\n",
    "    \n",
    "    xs = np.array(xs)\n",
    "    #plt.plot(xs[:, 0], xs[:, 1])\n",
    "    plt.legend([p1, p2], ['Actual', 'PF'], loc=4, numpoints=1)\n",
    "    plt.xlim(*xlim)\n",
    "    plt.ylim(*ylim)\n",
    "    print('final position error, variance:\\n\\t', mu - np.array([iters, iters]), var)\n",
    "    plt.show()\n",
    "\n",
    "from numpy.random import seed\n",
    "seed(2) \n",
    "run_pf1(N=5000, plot_particles=False)\n"
   ]
  }
 ],
 "metadata": {
  "kernelspec": {
   "display_name": "Python 3",
   "language": "python",
   "name": "python3"
  },
  "language_info": {
   "codemirror_mode": {
    "name": "ipython",
    "version": 3
   },
   "file_extension": ".py",
   "mimetype": "text/x-python",
   "name": "python",
   "nbconvert_exporter": "python",
   "pygments_lexer": "ipython3",
   "version": "3.6.3"
  }
 },
 "nbformat": 4,
 "nbformat_minor": 2
}
