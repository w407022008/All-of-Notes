{
 "cells": [
  {
   "cell_type": "code",
   "execution_count": 11,
   "metadata": {
    "collapsed": false
   },
   "outputs": [],
   "source": [
    "%matplotlib inline\n",
    "import numpy as np\n",
    "from kf_book.book_plots import figsize, set_figsize\n",
    "import kf_book.book_plots as book_plots\n",
    "import matplotlib.pyplot as plt\n",
    "from filterpy.discrete_bayes import update, predict, normalize\n"
   ]
  },
  {
   "cell_type": "markdown",
   "metadata": {},
   "source": [
    "这一章主要基于贝叶斯条件概率理论和全概率理论建立的Discrete_Bayes Filter。\n",
    "\n",
    "Bayes theorem is\n",
    "\n",
    "$$P(x_{i+1} \\mid Z) = \\frac{P(Z \\mid x_i) P(x_i)}{P(Z)}$$\n",
    "\n",
    "\n",
    "我们可以发现，**贝叶斯理论**正好表达的是这样的一个过程：\n",
    "\n",
    "$$ \\mathtt{posterior} = normalization( \\mathtt{likelihood}\\times \\mathtt{prior} )$$ \n",
    "\n",
    "这正好是后验假设度过程，即：\n",
    "\n",
    ">*在测量值为`Z`的情况下，下一个状态值为$x_{i+1}$*的**可能性** = 当前状态$x_i$的**可能性** X *在当前状态情况下,下一状态为$x_{i+1}$*的**可能性**\n",
    "\n",
    "Total Probability Theorem is\n",
    "\n",
    "$$P(x_i^{t+1}) = \\sum_j P(x_i^{t+1} | x_j^{t})  P(x_j^{t})$$\n",
    "\n",
    "**全概率理论**又正好表达的是先验假设的过程，即：\n",
    "\n",
    ">*在`t+1`时刻，`i`位置的状态存在*的**可能性描述**$x_i^{t+1}$ **$=$** *在`t`时刻，与`i`位置相关的`j`位置的状态存在*的**可能性描述**$x_i^{t}$ **$\\times$** *在`t`时刻`j`位置状态存在情况下，接下来`i`位置的状态也存在*的**可能性**\n",
    "\n",
    "<font face='楷体', size=5>\n",
    "因此，Discrete_Bayes Filter可以用来估计这样一类问题，即：\n",
    "</font>\n",
    "\n",
    "><font face='楷体', size=5>\n",
    "一个物体在一个确定的轨道上，从未知的某个地方开始，以差不多稳定的速度单项运动，其中差不多稳定的速度也可能造成短时低概率的逆向行驶。</font>\n",
    "\n",
    "\n",
    "其中重要的三个函数分别为：\n",
    "``` python\n",
    "from filterpy.discrete_bayes import update, predict\n",
    "\n",
    "likelihood = lh_hallway(hallway, z, z_prob);  #$P(Z \\mid x_i)$\n",
    "prior = predict(posterior, move, *kernel); # $P(x_i)$\n",
    "posterior = undate(likelihood,prior);  #$P(x_i \\mid Z)$\n",
    "```\n",
    "\n",
    "> 其中，`hallway`是由离散点描述的确定的轨道，`z`是相应轨道描述，每次采样得到当前位置状态的测量值，`z_prob`是测量状态的可信度，`move`是移动速度假设，`*kernel`正是在`t`时刻每个`j`位置状态存在情况下，接下来`i`位置的状态也存在的可能性预判\n",
    "\n",
    "接下来看各例子：\n"
   ]
  },
  {
   "cell_type": "code",
   "execution_count": 31,
   "metadata": {
    "collapsed": false
   },
   "outputs": [
    {
     "data": {
      "image/png": "[encoded data removed]",
      "text/plain": [
       "<matplotlib.figure.Figure at 0x1f5f7581780>"
      ]
     },
     "metadata": {},
     "output_type": "display_data"
    }
   ],
   "source": [
    "def predict_move(belief,move, *kernel):\n",
    "    n=len(belief)\n",
    "    prior = np.zeros(n)\n",
    "    p_correct, p_over, p_under = kernel\n",
    "    for i in range(n):\n",
    "        prior[i] = (\n",
    "            belief[(i-move) % n] * p_correct +\n",
    "            belief[(i-move-1) % n] * p_over +\n",
    "            belief[(i-move+1) % n] * p_under)\n",
    "    return prior\n",
    "\n",
    "belief = normalize([1,1,0,0,0,0,0,0,1,0])\n",
    "#belief = normalize(np.abs(np.random.randn(10)))\n",
    "\n",
    "prior = predict_move(belief, 2, .1, .8, .1)\n",
    "book_plots.plot_belief_vs_prior(belief,prior)\n",
    "set_figsize(y=1)\n"
   ]
  },
  {
   "cell_type": "markdown",
   "metadata": {},
   "source": [
    "这个例子仅仅描述了，对应`t`时刻，每个`i`位置状态存在的可能性，在经过一次运动后，受kernel的影响，`t+1`时刻，每个`i`位置状态存在的可能性。kernel描述的含义是：`t+1`时刻，运动到下一个位置处的状态存在的可能性，受到它及它的前后三个位置处原本状态存在的可能性的影响，影响因子为0.1, 0.8, 0.1。\n",
    "\n",
    "接下来，再看一下连续测量后，估计当前可能位置的例子;\n"
   ]
  },
  {
   "cell_type": "code",
   "execution_count": 32,
   "metadata": {
    "collapsed": false
   },
   "outputs": [
    {
     "name": "stdout",
     "output_type": "stream",
     "text": [
      "[1 0 1 0 0 1 0 1 0 0]\n"
     ]
    },
    {
     "data": {
      "image/png": "[encoded data removed]",
      "text/plain": [
       "<matplotlib.figure.Figure at 0x1f5f725fa58>"
      ]
     },
     "metadata": {},
     "output_type": "display_data"
    }
   ],
   "source": [
    "def lh_hallway(hall,z,z_prob):\n",
    "    \"\"\" compute likelihood that a measurement matches\n",
    "    positions in the hallway.\"\"\"\n",
    "    try:\n",
    "        scale = z_prob / (1. - z_prob)\n",
    "    except ZeroDivisionError:\n",
    "        scale = 1e8\n",
    "        \n",
    "    likelihood = np.ones(len(hall))\n",
    "    likelihood[hall == z] *= scale\n",
    "    return likelihood\n",
    "\n",
    "\n",
    "with figsize(y=5.5):\n",
    "    hallway = np.asarray([1, 0, 1, 0, 0]*2)   #表达的是一个由五个离散点来描述的循环轨道。\n",
    "    prior = np.asarray([.1]*10)\n",
    "    offset = 1\n",
    "    kernel = np.asarray([.1, .8, .1])\n",
    "    measurement = [0, 1, 0, 1, 0, 0, 1, 0, 1]  #表达的是连续九次测量，每次测量到当前所处位置的状态。\n",
    "    for i, m in enumerate(measurement):\n",
    "        likelihood = lh_hallway(hallway, z=m, z_prob=0.75)\n",
    "        posterior = update(likelihood,prior)\n",
    "        prior = predict(posterior, offset, kernel)\n",
    "        plt.subplot(3,3,i+1)\n",
    "        book_plots.bar_plot(posterior,ylim=(0,.4),title='step: {}'.format(i+1))\n",
    "    plt.tight_layout() #区别在于，可以让个子图彼此分离，不至于title和图片重叠\n",
    "print(hallway)\n"
   ]
  },
  {
   "cell_type": "markdown",
   "metadata": {},
   "source": [
    "为了更好验证题设，我们倒着来看。  \n",
    "measurement = [0, 1, 0, 1, 0, 0, 1, 0, 1]  \n",
    "hallway = [1 0 1 0 0 1 0 1 0 0]  \n",
    "首先，这两个list分别描述测量值和轨道描述。我们倒着来看measurement和图，我们可以发现：\n",
    "测量值为1，出现的最大概率在2位置和7位置，由于我们知道轨道是五个离散点描述的循环轨道，所以，2位置和7位置是一个位置。2位置符合hallway应有的状态\n",
    "随后，测量值为0，出现的最大概率在1位置，而1位置符合hallway应有的状态。\n",
    "依次向前，我们可以发现，每次概率较大的位置，都是测量值次序最符合hallway次序的当前状态位置，并且，随着测量的增多，无论测量是否存在错误，结果都会更加逼近准确估计。\n",
    "\n",
    "这个估计方法，我们通常可以用在流水线上，我们可能不知道他从哪里开始的，但是多次测量后，便可以知晓。\n"
   ]
  },
  {
   "cell_type": "code",
   "execution_count": 33,
   "metadata": {
    "collapsed": false
   },
   "outputs": [
    {
     "data": {
      "text/html": [
       "<iframe width=\"560\" height=\"315\" src=\"https://www.youtube.com/embed/9by46AAqz70\" frameborder=\"0\" allowfullscreen></iframe>"
      ],
      "text/plain": [
       "<IPython.core.display.HTML object>"
      ]
     },
     "execution_count": 33,
     "metadata": {},
     "output_type": "execute_result"
    }
   ],
   "source": [
    "from IPython.display import HTML\n",
    "\n",
    "# Youtube\n",
    "HTML('<iframe width=\"560\" height=\"315\" src=\"https://www.youtube.com/embed/9by46AAqz70\" frameborder=\"0\" allowfullscreen></iframe>')\n"
   ]
  }
 ],
 "metadata": {
  "kernelspec": {
   "display_name": "Python 3",
   "language": "python",
   "name": "python3"
  },
  "language_info": {
   "codemirror_mode": {
    "name": "ipython",
    "version": 3
   },
   "file_extension": ".py",
   "mimetype": "text/x-python",
   "name": "python",
   "nbconvert_exporter": "python",
   "pygments_lexer": "ipython3",
   "version": "3.6.0"
  }
 },
 "nbformat": 4,
 "nbformat_minor": 2
}
