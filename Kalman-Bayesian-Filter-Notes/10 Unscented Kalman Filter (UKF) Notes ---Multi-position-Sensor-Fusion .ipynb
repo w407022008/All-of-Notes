{
 "cells": [
  {
   "cell_type": "markdown",
   "metadata": {
    "collapsed": true
   },
   "source": [
    "# 无迹卡尔曼滤波器Unscented Kalman Filter\n",
    "        本节主要介绍UKF这一滤波器，在书中介绍到，这一方法相比于EKF这一传统的非线性卡尔曼滤波器有诸多有点，比如说计算量的降低。因此，我本着做工程的需要，便没有过多研读EKF这一滤波器，有兴趣深入研究的同学，可以回到原著中一窥究竟，我就不讲了，哈哈哈哈哈~\n",
    "        "
   ]
  },
  {
   "cell_type": "markdown",
   "metadata": {},
   "source": [
    "我们先给出这一方法的算法过程：\n"
   ]
  },
  {
   "cell_type": "markdown",
   "metadata": {},
   "source": [
    "### Predict Step\n",
    "\n",
    "The UKF's predict step computes the prior using the process model $f()$. $f()$ is assumed to be nonlinear, so we generate sigma points $\\mathcal{X}$ and their corresponding weights $W^m, W^c$\n",
    "according to some function:\n",
    "\n",
    "$$\\begin{aligned}\n",
    "\\boldsymbol\\chi &= \\text{sigma-function}(\\mathbf x, \\mathbf P) \\\\\n",
    "W^m, W^c &= \\text{weight-function}(\\mathtt{n, parameters})\\end{aligned}$$\n",
    "\n",
    "We pass each sigma point through $f(\\mathbf x, \\Delta t)$. This projects the sigma points forward in time according to the process model, forming the new prior, which is a set of sigma points we name $\\boldsymbol{\\mathcal Y}$:\n",
    "\n",
    "$$\\boldsymbol{\\mathcal{Y}} = f(\\boldsymbol{\\chi}, \\Delta t)$$\n",
    "\n",
    "We compute the mean and covariance of the prior using the *unscented transform* on the transformed sigma points.  \n",
    "\n",
    "$$\\mathbf{\\bar x}, \\mathbf{\\bar P} = \n",
    "UT(\\mathcal{Y}, w_m, w_c, \\mathbf Q)$$\n",
    "\n",
    "These are the equations for the unscented transform:\n",
    "\n",
    "$$\\begin{aligned}\n",
    "\\mathbf{\\bar x} &= \\sum_{i=0}^{2n} w^m_i\\boldsymbol{\\mathcal Y}_i \\\\\n",
    "\\mathbf{\\bar P} &= \\sum_{i=0}^{2n} w^c_i({\\boldsymbol{\\mathcal Y}_i - \\mathbf{\\bar x})(\\boldsymbol{\\mathcal Y}_i-\\mathbf{\\bar x})^\\mathsf{T}} + \\mathbf Q\n",
    "\\end{aligned}\n",
    "$$\n",
    "\n",
    "This table compares the linear Kalman filter with the Unscented Kalman Filter equations. I've dropped the subscript $i$ for readability.\n",
    "\n",
    "$$\\begin{array}{l|l}\n",
    "\\text{Kalman} & \\text{Unscented} \\\\\n",
    "\\hline \n",
    "& \\boldsymbol{\\mathcal Y} = f(\\boldsymbol\\chi) \\\\\n",
    "\\mathbf{\\bar x} = \\mathbf{Fx} & \n",
    "\\mathbf{\\bar x} = \\sum w^m\\boldsymbol{\\mathcal Y}  \\\\\n",
    "\\mathbf{\\bar P} = \\mathbf{FPF}^\\mathsf T + \\mathbf Q  & \n",
    "\\mathbf{\\bar P} = \\sum w^c({\\boldsymbol{\\mathcal Y} - \\mathbf{\\bar x})(\\boldsymbol{\\mathcal Y} - \\mathbf{\\bar x})^\\mathsf T}+\\mathbf Q\n",
    "\\end{array}$$"
   ]
  },
  {
   "cell_type": "markdown",
   "metadata": {},
   "source": [
    "### Update Step\n",
    "\n",
    "Kalman filters perform the update in measurement space. Thus we must convert the sigma points of the prior into measurements using a measurement function $h(x)$ that you define.\n",
    "\n",
    "$$\\boldsymbol{\\mathcal{Z}} = h(\\boldsymbol{\\mathcal{Y}})$$\n",
    "\n",
    "We compute the mean and covariance of these points using the unscented transform. The $z$ subscript denotes that these are the mean and covariance of the measurement sigma points.\n",
    "\n",
    "$$\\begin{aligned}\n",
    "\\boldsymbol\\mu_z, \\mathbf P_z &= \n",
    "UT(\\boldsymbol{\\mathcal Z}, w_m, w_c, \\mathbf R) \\\\\n",
    "\\boldsymbol\\mu_z &= \\sum_{i=0}^{2n} w^m_i\\boldsymbol{\\mathcal Z}_i \\\\\n",
    "\\mathbf P_z &= \\sum_{i=0}^{2n} w^c_i{(\\boldsymbol{\\mathcal Z}_i-\\boldsymbol{\\mu}_z)(\\boldsymbol{\\mathcal Z}_i-\\boldsymbol{\\mu}_z)^\\mathsf T} + \\mathbf R\n",
    "\\end{aligned}\n",
    "$$\n",
    "\n",
    "Next we compute the residual and Kalman gain. The residual of the measurement $\\mathbf z$ is trivial to compute:\n",
    "\n",
    "$$\\mathbf y = \\mathbf z - \\boldsymbol\\mu_z$$\n",
    "\n",
    "To compute the Kalman gain we first compute the [cross covariance](https://en.wikipedia.org/wiki/Cross-covariance) of the state and the measurements, which is defined as: \n",
    "\n",
    "$$\\mathbf P_{xz} =\\sum_{i=0}^{2n} w^c_i(\\boldsymbol{\\mathcal Y}_i-\\mathbf{\\bar x})(\\boldsymbol{\\mathcal Z}_i-\\boldsymbol\\mu_z)^\\mathsf T$$\n",
    "\n",
    "And then the Kalman gain is defined as\n",
    "\n",
    "$$\\mathbf{K} = \\mathbf P_{xz} \\mathbf P_z^{-1}$$\n",
    "\n",
    "If you think of the inverse as a *kind of* matrix reciprocal, you can see that the Kalman gain is a simple ratio which computes:\n",
    "\n",
    "$$\\mathbf{K} \\approx \\frac{\\mathbf P_{xz}}{\\mathbf P_z} \n",
    "\\approx \\frac{\\text{belief in state}}{\\text{belief in measurement}}$$\n",
    "\n",
    "Finally, we compute the new state estimate using the residual and Kalman gain:\n",
    "\n",
    "$$\\mathbf x = \\bar{\\mathbf x} + \\mathbf{Ky}$$\n",
    "\n",
    "and the new covariance is computed as:\n",
    "\n",
    "$$ \\mathbf P = \\mathbf{\\bar P} - \\mathbf{KP_z}\\mathbf{K}^\\mathsf{T}$$\n",
    "\n",
    "This step contains a few equations you have to take on faith, but you should be able to see how they relate to the linear Kalman filter equations. The linear algebra is slightly different from the linear Kalman filter, but the algorithm is the same Bayesian algorithm we have been implementing throughout the book. \n",
    "\n",
    "This table compares the equations of the linear KF and UKF equations.\n",
    "\n",
    "$$\\begin{array}{l|l}\n",
    "\\textrm{Kalman Filter} & \\textrm{Unscented Kalman Filter} \\\\\n",
    "\\hline \n",
    "& \\boldsymbol{\\mathcal Y} = f(\\boldsymbol\\chi) \\\\\n",
    "\\mathbf{\\bar x} = \\mathbf{Fx} & \n",
    "\\mathbf{\\bar x} = \\sum w^m\\boldsymbol{\\mathcal Y}  \\\\\n",
    "\\mathbf{\\bar P} = \\mathbf{FPF}^\\mathsf T+\\mathbf Q  & \n",
    "\\mathbf{\\bar P} = \\sum w^c({\\boldsymbol{\\mathcal Y} - \\mathbf{\\bar x})(\\boldsymbol{\\mathcal Y} - \\mathbf{\\bar x})^\\mathsf T}+\\mathbf Q \\\\\n",
    "\\hline \n",
    "& \\boldsymbol{\\mathcal Z} =  h(\\boldsymbol{\\mathcal{Y}}) \\\\\n",
    "& \\boldsymbol\\mu_z = \\sum w^m\\boldsymbol{\\mathcal{Z}} \\\\\n",
    "\\mathbf y = \\mathbf z - \\mathbf{Hx} &\n",
    "\\mathbf y = \\mathbf z - \\boldsymbol\\mu_z \\\\\n",
    "\\mathbf S = \\mathbf{H\\bar PH}^\\mathsf{T} + \\mathbf R & \n",
    "\\mathbf P_z = \\sum w^c{(\\boldsymbol{\\mathcal Z}-\\boldsymbol\\mu_z)(\\boldsymbol{\\mathcal{Z}}-\\boldsymbol\\mu_z)^\\mathsf{T}} + \\mathbf R \\\\ \n",
    "\\mathbf K = \\mathbf{\\bar PH}^\\mathsf T \\mathbf S^{-1} &\n",
    "\\mathbf K = \\left[\\sum w^c(\\boldsymbol{\\mathcal Y}-\\bar{\\mathbf x})(\\boldsymbol{\\mathcal{Z}}-\\boldsymbol\\mu_z)^\\mathsf{T}\\right] \\mathbf P_z^{-1} \\\\\n",
    "\\mathbf x = \\mathbf{\\bar x} + \\mathbf{Ky} & \\mathbf x = \\mathbf{\\bar x} + \\mathbf{Ky}\\\\\n",
    "\\mathbf P = (\\mathbf{I}-\\mathbf{KH})\\mathbf{\\bar P} & \\mathbf P = \\bar{\\mathbf P} - \\mathbf{KP_z}\\mathbf{K}^\\mathsf{T}\n",
    "\\end{array}$$"
   ]
  },
  {
   "cell_type": "markdown",
   "metadata": {},
   "source": [
    "怎么样，我们发现，其实UKF方法和KalmanFilter有着很多相似之处，可能唯一有出入的地方大概是每个状态的建立过程，其中包含了：$\\bar x 、 \\bar P$ 、 $mu_z$ 和 K。这些不同也几乎都最后指向了$w^m、w^c$是个什么鬼了。  \n",
    "这里我就要对这两个权系数引入点介绍：这些权系数其实是作用在描述当下状态的几个sigma点上，通过对sigma点的状态加权而得到当下状态。  \n",
    "那么，问题来了，sigma点又是什么？  \n",
    "我们看个图：\n"
   ]
  },
  {
   "cell_type": "code",
   "execution_count": 27,
   "metadata": {
    "collapsed": false
   },
   "outputs": [
    {
     "data": {
      "image/png": "[encoded data removed]",
      "text/plain": [
       "<matplotlib.figure.Figure at 0x20f1f298ac8>"
      ]
     },
     "metadata": {},
     "output_type": "display_data"
    }
   ],
   "source": [
    "import kf_book.ukf_internal as ukf_internal\n",
    "ukf_internal.show_sigma_selections()"
   ]
  },
  {
   "cell_type": "markdown",
   "metadata": {},
   "source": [
    "这张图中，黑点就是sigma点，而椭圆表示的是这个状态位置的$1\\sigma$分布，也即就是，sigma点就是为了更好的描述这个状态的位置分布而引入的点，这些点具有一定的对称性，在加权后能够更好的估计当前状态的位置。大概清楚了吗？书中有更详细的介绍，如果对这一部分不太清楚或者想更细的了解可以去书中看看更多的图。"
   ]
  },
  {
   "cell_type": "markdown",
   "metadata": {},
   "source": [
    "    那么，sigma点是怎么得到的呢？\n",
    "    "
   ]
  },
  {
   "cell_type": "markdown",
   "metadata": {},
   "source": [
    "### Sigma Points\n",
    "\n",
    "The equations for the sigma points are:\n",
    "\n",
    "$$\n",
    "\\begin{cases}\n",
    "\\mathcal{X}_0 = \\mu \\\\\n",
    "\\mathcal{X}_i = \\mu +  \\left[\\sqrt{(n+\\lambda)\\Sigma} \\right]_i, & \\texttt{for i=1..n} \\\\\n",
    "\\mathcal{X}_i = \\mu - \\left[\\sqrt{(n+\\lambda)\\Sigma}\\right]_{i-n} & \\texttt{for i=(n+1)..2n}\n",
    "\\end{cases}\n",
    "$$\n",
    "\n",
    "The Python is not difficult once we understand the $\\left[\\sqrt{(n+\\lambda)\\Sigma}  \\right]_i$ term.\n",
    "\n",
    "The term $\\sqrt{(n+\\lambda)\\Sigma}$ is a matrix because $\\Sigma$ is a matrix. The subscript $i$ in $[\\sqrt{(n+\\lambda)\\Sigma}]_i$ is choosing the column vector of the matrix. What is the square root of a matrix? There is no unique definition. One definition is that the square root of a matrix $\\Sigma$ is the matrix $S$ that, when multiplied by itself, yields $\\Sigma$: if  $\\Sigma = SS$ then $S = \\sqrt{\\Sigma}$.\n",
    "\n",
    "We will choose an alternative definition that has numerical properties which make it easier to compute. We can define the square root as the matrix S, which when multiplied by its transpose, returns $\\Sigma$:\n",
    "\n",
    "$$\n",
    "\\Sigma = \\mathbf{SS}^\\mathsf T\n",
    "$$\n",
    "\n",
    "This definition is favored because $\\mathbf S$ is computed using the [*Cholesky decomposition*](https://en.wikipedia.org/wiki/Cholesky_decomposition) [3]. It decomposes a Hermitian, positive-definite matrix into a triangular matrix and its conjugate transpose. The matrix can be either upper \n",
    "or lower triangular, like so:\n",
    "\n",
    "$$A=LL^{∗} \\\\ A=U^{∗}U$$\n",
    "\n",
    "The asterick denotes the conjugate transpose; we have only real numbers so for us we can write:\n",
    "\n",
    "$$A=LL^\\mathsf T \\\\ A=U^\\mathsf T U$$\n",
    "\n",
    "$\\mathbf P$ has these properties, so we can treat $\\mathbf S = \\text{cholesky}(\\mathbf P)$ as the square root of $\\mathbf P$.\n",
    "\n",
    "SciPy provides `cholesky()` method in `scipy.linalg`. If your language of choice is Fortran, C, or C++, libraries such as LAPACK provide this routine. Matlab provides `chol()`.\n",
    "\n",
    "By default `scipy.linalg.cholesky()` returns a upper triangular matrix, so I elected to write the code to expect an upper triangular matrix. If you provide your own square root implementation you will need to take this into account.\n",
    "\n",
    "这里要提一点：  \n",
    "这些参数对于高斯情况，应满足一下这些条件为好：  \n",
    "$\\beta=2$ is a good choice for Gaussian problems, $\\kappa=3-n$ where $n$ is the dimension of $\\mathbf x$ is a good choice for $\\kappa$, and $0 \\le \\alpha \\le 1$ is an appropriate choice for $\\alpha$, where a larger value for $\\alpha$ spreads the sigma points further from the mean."
   ]
  },
  {
   "cell_type": "markdown",
   "metadata": {},
   "source": [
    "于是，我们就要引入这几个权系数的求解方法了。继续上原文！\n"
   ]
  },
  {
   "cell_type": "markdown",
   "metadata": {},
   "source": [
    "### Weights\n",
    "\n",
    "Computing the weights with NumPy is easy. Recall that the Van der Merwe scaled sigma point implementation states:\n",
    "\n",
    "$$\n",
    "\\begin{aligned}\n",
    "\\lambda&=\\alpha^2(n+\\kappa)-n \\\\ \n",
    "W^m_0 &= \\frac{\\lambda}{n+\\lambda} \\\\\n",
    "W^c_0 &= \\frac{\\lambda}{n+\\lambda} + 1 -\\alpha^2 + \\beta \\\\\n",
    "W^m_i = W^c_i &= \\frac{1}{2(n+\\lambda)}\\;\\;\\;i=1..2n\n",
    "\\end{aligned}\n",
    "$$\n",
    "    \n",
    "Code for these is:\n",
    "\n",
    "```python\n",
    "lambda_ = alpha**2 * (n + kappa) - n\n",
    "Wc = np.full(2*n + 1,  1. / (2*(n + lambda_))\n",
    "Wm = np.full(2*n + 1,  1. / (2*(n + lambda_))\n",
    "Wc[0] = lambda_ / (n + lambda_) + (1. - alpha**2 + beta)\n",
    "Wm[0] = lambda_ / (n + lambda_)\n",
    "```\n",
    "\n",
    "I use the underscore in `lambda_` because `lambda` is a reserved word in Python. A trailing underscore is the Pythonic workaround."
   ]
  },
  {
   "cell_type": "markdown",
   "metadata": {},
   "source": [
    "在Dr.Rudolph Van der Merwe的努力下，给出了这样一个sigma点的获得的方法，我们将其也写成了一个类，在使用中我们可以直接指定对象point，从而完成上述所讲的权系数的确定和sigma点的确定的过程，方法如下：\n",
    "``` python\n",
    "from filterpy.kalman import MerweScaledSigmaPoints\n",
    "\n",
    "points = MerweScaledSigmaPoints(n, alpha, beta, kappa, subtract=residual_x)\n",
    "```\n",
    "其中n是状态量的维度，$\\alpha、\\beta、\\kappa$ 都是前文提到的参数"
   ]
  },
  {
   "cell_type": "markdown",
   "metadata": {},
   "source": [
    "## 练习\n",
    "接下来给一道例题：   \n",
    "    \n",
    "    先对例题有一个介绍：  \n",
    "        \n",
    "        这是一辆小车，它在一个有着三个监测点的平面上受控运行，它的初始方向认定为x轴，它的初始位置认定为原点建立平面直角坐标系。小车在受控中，只可以大致控制小车的前进速度和前进方向。每个监测点只可以检测到小车大致距离和相对于它在坐标系下的方位角。已经给出了各个不确定性。先设计一个ukf滤波器来最优估计。"
   ]
  },
  {
   "cell_type": "code",
   "execution_count": 28,
   "metadata": {
    "collapsed": false
   },
   "outputs": [
    {
     "data": {
      "image/png": "[encoded data removed]",
      "text/plain": [
       "<matplotlib.figure.Figure at 0x20f1f68d3c8>"
      ]
     },
     "metadata": {},
     "output_type": "display_data"
    }
   ],
   "source": [
    "import kf_book.ekf_internal as ekf_internal\n",
    "ekf_internal.plot_bicycle()\n"
   ]
  },
  {
   "cell_type": "markdown",
   "metadata": {},
   "source": [
    "那么，一下是设计过程，在设计过程中的注释里面会一步一步的解释这个过程，可以不断浏览不断回顾之前学过的思想与方法，从而掌握ukf的方法。\n"
   ]
  },
  {
   "cell_type": "code",
   "execution_count": 22,
   "metadata": {
    "collapsed": true
   },
   "outputs": [],
   "source": [
    "from math import tan, sin, cos, sqrt, atan2\n",
    "\n",
    "def move(x, u, dt, wheelbase):\n",
    "    \"\"\"    生成实际位置和方向的状态量，用于拟合出一组用于分析的测量量，现实中不存在。\"\"\"\n",
    "    hdg = x[2]\n",
    "    vel = u[0]\n",
    "    steering_angle = u[1]\n",
    "    dist = vel * dt\n",
    "\n",
    "    if abs(steering_angle) > 0.001: # is robot turning?\n",
    "        beta = (dist / wheelbase) * tan(steering_angle)\n",
    "        r = wheelbase / tan(steering_angle) # radius\n",
    "\n",
    "        sinh, sinhb = sin(hdg), sin(hdg + beta)\n",
    "        cosh, coshb = cos(hdg), cos(hdg + beta)\n",
    "        return x + np.array([-r*sinh + r*sinhb, \n",
    "                              r*cosh - r*coshb, beta])\n",
    "    else: # moving in straight line\n",
    "        return x + np.array([dist*cos(hdg), dist*sin(hdg), 0])"
   ]
  },
  {
   "cell_type": "code",
   "execution_count": 15,
   "metadata": {
    "collapsed": true
   },
   "outputs": [],
   "source": [
    "def normalize_angle(x):\n",
    "    \"\"\" 用于处理转动的周期性，使超过2pi的角度自动正规回2pi内\"\"\"\n",
    "    x = x % (2 * np.pi)    # force in range [0, 2 pi)\n",
    "    if x > np.pi:          # move to [-pi, pi)\n",
    "        x -= 2 * np.pi\n",
    "    return x"
   ]
  },
  {
   "cell_type": "code",
   "execution_count": 16,
   "metadata": {
    "collapsed": true
   },
   "outputs": [],
   "source": [
    "def residual_h(a, b):\n",
    "    y = a - b\n",
    "    # data in format [dist_1, bearing_1, dist_2, bearing_2,...]\n",
    "    for i in range(0, len(y), 2):\n",
    "        y[i + 1] = normalize_angle(y[i + 1])\n",
    "    return y\n",
    "\n",
    "def residual_x(a, b):\n",
    "    y = a - b\n",
    "    y[2] = normalize_angle(y[2])\n",
    "    return y"
   ]
  },
  {
   "cell_type": "code",
   "execution_count": 17,
   "metadata": {
    "collapsed": true
   },
   "outputs": [],
   "source": [
    "def fx(x, dt, u):\n",
    "    \"\"\" 初步确定下一个状态的预估值，相当于KalmanFilter中的 X_bar = FX + Bu。不过还需要state_mean过程，对每个sigma点进行加权\"\"\"\n",
    "    return move(x, u, dt, wheelbase)"
   ]
  },
  {
   "cell_type": "code",
   "execution_count": 18,
   "metadata": {
    "collapsed": true
   },
   "outputs": [],
   "source": [
    "def Hx(x, landmarks):\n",
    "    \"\"\" 输入得到的状态预估值。\n",
    "        输出：初步确定这个新状态，相对于这组landmarks，测量时所需要描述的维度上的值，相当于KalmanFilter中的 HX_bar。\n",
    "        不过还需要z_mean过程，对每个sigma点进行加权，\n",
    "    \"\"\"\n",
    "    hx = []\n",
    "    for lmark in landmarks:\n",
    "        px, py = lmark\n",
    "        dist = sqrt((px - x[0])**2 + (py - x[1])**2)\n",
    "        angle = atan2(py - x[1], px - x[0])\n",
    "        hx.extend([dist, normalize_angle(angle - x[2])])\n",
    "    return np.array(hx)"
   ]
  },
  {
   "cell_type": "code",
   "execution_count": 19,
   "metadata": {
    "collapsed": true
   },
   "outputs": [],
   "source": [
    "def state_mean(sigmas, Wm):\n",
    "    \"\"\" 对每个sigma点的状态预估值进行加权，最终确定下一状态的预估计值,即：KalmanFilter中的X_bar\"\"\"\n",
    "    x = np.zeros(3)\n",
    "\n",
    "    sum_sin = np.sum(np.dot(np.sin(sigmas[:, 2]), Wm))\n",
    "    #print(sum_sin-np.dot(np.sin(sigmas[:, 2]), Wm))\n",
    "    sum_cos = np.sum(np.dot(np.cos(sigmas[:, 2]), Wm))\n",
    "    x[0] = np.sum(np.dot(sigmas[:, 0], Wm))\n",
    "    x[1] = np.sum(np.dot(sigmas[:, 1], Wm))\n",
    "    x[2] = atan2(sum_sin, sum_cos)\n",
    "    return x\n",
    "\n",
    "def z_mean(sigmas, Wm):\n",
    "    \"\"\" 顺Hx()函数的结果，对每个sigma点加权，最终确定这一新状态，相对于这组landmarks，测量时所需要描述的维度上的值，即：KalmanFilter中的HX_bar\"\"\"\n",
    "    z_count = sigmas.shape[1]\n",
    "    x = np.zeros(z_count)\n",
    "\n",
    "    for z in range(0, z_count, 2):\n",
    "        sum_sin = np.sum(np.dot(np.sin(sigmas[:, z+1]), Wm))\n",
    "        sum_cos = np.sum(np.dot(np.cos(sigmas[:, z+1]), Wm))\n",
    "\n",
    "        x[z] = np.sum(np.dot(sigmas[:,z], Wm))\n",
    "        x[z+1] = atan2(sum_sin, sum_cos)\n",
    "    return x"
   ]
  },
  {
   "cell_type": "code",
   "execution_count": 20,
   "metadata": {
    "collapsed": true
   },
   "outputs": [],
   "source": [
    "from filterpy.stats import plot_covariance_ellipse\n",
    "from numpy.random import random, randn\n",
    "\n",
    "def run_localization(\n",
    "    cmds, landmarks, sigma_vel, sigma_steer, sigma_range, sigma_bearing, ellipse_step=1, step=10):\n",
    "\n",
    "## found the MSSP & UKF modle\n",
    "    plt.figure()\n",
    "    points = MerweScaledSigmaPoints(n=3, alpha=.00001, beta=2, kappa=0, \n",
    "                                    subtract=residual_x)  # n = dim_x\n",
    "                                      # 生成2n+1个sigma点，并生成对应每个sigma点的mean权系数W_m和covariance权系数W_c\n",
    "    ukf = UKF(dim_x=3, dim_z=2*len(landmarks), fx=fx, hx=Hx,\n",
    "              dt=dt, points=points, x_mean_fn=state_mean, \n",
    "              z_mean_fn=z_mean, residual_x=residual_x, \n",
    "              residual_z=residual_h)  # 生成dim_x个状态变量，dim_z个测试变量，作用在sigma点集points上的UKF模型。\n",
    "                                      # 其中由函数fx表达状态传递方程y=f(x)，由函数hx表达状态测量方程z=h(y)。\n",
    "                                      # x_mean_fn表示状态变量期望μ(x)计算函数，即wm对y加权求和，也即：KalmanFilter中的X_bar；\n",
    "                                      # z_mean_fn表示测试变量期望μ(z)计算函数，即wm对z加权求和，也即：KalmanFilter中的HX_bar。\n",
    "                                      # residual_x和residual_z都是用来解决变量做差运算时出现的不合题设要求（如周期）的问题。\n",
    "\n",
    "    ukf.x = np.array([2, 6, .3])      # 初始化状态量，分别为x、y位置量range和当前方向量bearing\n",
    "    ukf.P = np.diag([.1, .1, .05])    # 初始化状态协方差，分别描述x、y、bearing各自独立方向方差\n",
    "    ukf.R = np.diag([sigma_range**2, sigma_bearing**2]*len(landmarks))   # 描述len(landmarks)个标记点（测量点），各自测量测量的不准确性\n",
    "    ukf.Q = np.eye(3)*0.0001        # 描述状态变量在变化过程中出现的过程不确定性\n",
    "    \n",
    "##\n",
    "    sim_pos = ukf.x.copy()          # 对状态初值的浅层复制\n",
    "    \n",
    "    # plot landmarks\n",
    "    if len(landmarks) > 0:\n",
    "        plt.scatter(landmarks[:, 0], landmarks[:, 1], \n",
    "                    marker='s', s=60)\n",
    "    \n",
    "    # plot the points\n",
    "    track = []\n",
    "    for i, u in enumerate(cmds):     \n",
    "        sim_pos = move(sim_pos, u, dt/step, wheelbase)           # 真实状态的记录，实际上不用。其目在于生成之后的测量值，而一般这是实际测量的\n",
    "        track.append(sim_pos)\n",
    "\n",
    "        if i % step == 0:       \n",
    "            if i % ellipse_step == 0:\n",
    "                plot_covariance_ellipse(\n",
    "                    (ukf.x[0], ukf.x[1]), ukf.P[0:2, 0:2], std=6,\n",
    "                     facecolor='k', alpha=0.3)\n",
    "\n",
    "            [x, y, theta] = sim_pos                   \n",
    "            z = []\n",
    "            for lmark in landmarks:\n",
    "                dx, dy = lmark[0] - x, lmark[1] - y\n",
    "                d = sqrt(dx**2 + dy**2) + randn()*sigma_range   # 生成测量值中的目标距离测量点的距离\n",
    "                bearing = atan2(lmark[1] - y, lmark[0] - x)\n",
    "                a = normalize_angle(\n",
    "                    bearing - theta + randn()*sigma_bearing)    # 生成测量值中的测量点-目标-原点之间的夹角\n",
    "                z.extend([d, a])                                # creat the measurement variate\n",
    "            ## ukf滤波器求解，也可以用ukf.batch_filter()函数\n",
    "            ukf.predict(fx_args=u)                               # ukf.predict(u) 给一个输入的控制量，预估计一下接下来的状态\n",
    "            ukf.update(z, hx_args=(landmarks,))                   # ukf.update(z)  再用一组各测量点贡献的测量值，后验估计这一新状态\n",
    "\n",
    "            if i % ellipse_step == 0:\n",
    "                plot_covariance_ellipse(\n",
    "                    (ukf.x[0], ukf.x[1]), ukf.P[0:2, 0:2], std=6,\n",
    "                     facecolor='g', alpha=0.8)\n",
    "                \n",
    "    track = np.array(track)\n",
    "    plt.plot(track[:, 0], track[:,1], color='k', lw=2)\n",
    "    plt.axis('equal')\n",
    "    plt.title(\"UKF Robot localization\")\n",
    "    plt.show()\n",
    "    return ukf"
   ]
  },
  {
   "cell_type": "code",
   "execution_count": 21,
   "metadata": {
    "collapsed": false
   },
   "outputs": [
    {
     "data": {
      "image/png": "[encoded data removed]",
      "text/plain": [
       "<matplotlib.figure.Figure at 0x20f1f4e57f0>"
      ]
     },
     "metadata": {},
     "output_type": "display_data"
    },
    {
     "name": "stdout",
     "output_type": "stream",
     "text": [
      "Final P: [ 0.00950641  0.01914324  0.00070516]\n"
     ]
    }
   ],
   "source": [
    "#format the book\n",
    "%matplotlib inline\n",
    "from __future__ import division, print_function\n",
    "\n",
    "import numpy as np\n",
    "import matplotlib.pyplot as plt\n",
    "from filterpy.kalman import MerweScaledSigmaPoints\n",
    "from filterpy.kalman import UnscentedKalmanFilter as UKF\n",
    "\n",
    "dt = 1.0                                             # 采样时间\n",
    "wheelbase = 0.5                                      # 汽车前后轮轴距\n",
    "landmarks = np.array([[5, 10], [10, 5], [15, 15]])   # 给一组标定点位置，其实就是实际中观测对象的观测点，传感器的位置\n",
    "cmds = [np.array([1.1, .01])] * 200                  # 给一组控制，其实就是实际中不断地输入控制量\n",
    "\n",
    "ukf = run_localization(\n",
    "    cmds, landmarks, sigma_vel=0.1, sigma_steer=np.radians(1), sigma_range=0.3, sigma_bearing=0.1)\n",
    "\n",
    "print('Final P:', ukf.P.diagonal())"
   ]
  },
  {
   "cell_type": "markdown",
   "metadata": {},
   "source": [
    "好了！大概就这样了，其实思想很简单，就是通过描述sigma点来优化对状态的描述，基本过程还是KalmanFilter那一套。\n",
    "\n",
    "休息一下吧，看会儿小视频，然后没看懂的同学可以去书中看个究竟了，也不长一天就看完了。\n"
   ]
  },
  {
   "cell_type": "code",
   "execution_count": 29,
   "metadata": {
    "collapsed": false
   },
   "outputs": [
    {
     "data": {
      "text/html": [
       "<iframe width=\"560\" height=\"315\" src=\"https://www.youtube.com/embed/I7fWxlgRz6A\" frameborder=\"0\" allowfullscreen></iframe>"
      ],
      "text/plain": [
       "<IPython.core.display.HTML object>"
      ]
     },
     "execution_count": 29,
     "metadata": {},
     "output_type": "execute_result"
    }
   ],
   "source": [
    "from IPython.display import HTML\n",
    "\n",
    "# Youtube\n",
    "HTML('<iframe width=\"560\" height=\"315\" src=\"https://www.youtube.com/embed/I7fWxlgRz6A\" frameborder=\"0\" allowfullscreen></iframe>')"
   ]
  }
 ],
 "metadata": {
  "kernelspec": {
   "display_name": "Python 3",
   "language": "python",
   "name": "python3"
  },
  "language_info": {
   "codemirror_mode": {
    "name": "ipython",
    "version": 3
   },
   "file_extension": ".py",
   "mimetype": "text/x-python",
   "name": "python",
   "nbconvert_exporter": "python",
   "pygments_lexer": "ipython3",
   "version": "3.6.0"
  }
 },
 "nbformat": 4,
 "nbformat_minor": 2
}
