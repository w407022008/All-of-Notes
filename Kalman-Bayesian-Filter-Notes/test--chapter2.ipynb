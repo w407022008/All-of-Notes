{
 "cells": [
  {
   "cell_type": "code",
   "execution_count": 33,
   "metadata": {
    "collapsed": false
   },
   "outputs": [
    {
     "name": "stdout",
     "output_type": "stream",
     "text": [
      "[ 0.33333333  0.33333333  0.          0.          0.          0.          0.\n",
      "  0.          0.33333333  0.        ] [ 0.26666667  0.06666667  0.3         0.3         0.03333333  0.          0.\n",
      "  0.          0.          0.03333333]\n"
     ]
    },
    {
     "data": {
      "image/png": "[encoded data removed]",
      "text/plain": [
       "<matplotlib.figure.Figure at 0x170753f1828>"
      ]
     },
     "metadata": {},
     "output_type": "display_data"
    }
   ],
   "source": [
    "#matplotlib inline\n",
    "import numpy as np\n",
    "from kf_book.book_plots import figsize, set_figsize\n",
    "import kf_book.book_plots as book_plots\n",
    "import matplotlib.pyplot as plt\n",
    "from filterpy.discrete_bayes import normalize\n",
    "\n",
    "def predict_move(belief,move,p_under,p_correct,p_over):\n",
    "    n=len(belief)\n",
    "    prior = np.zeros(n)\n",
    "    for i in range(n):\n",
    "        prior[i] = (\n",
    "            belief[(i-move) % n] * p_correct +\n",
    "            belief[(i-move-1) % n] * p_over +\n",
    "            belief[(i-move+1) % n] * p_under)\n",
    "    return prior\n",
    "\n",
    "belief = normalize([1,1,0,0,0,0,0,0,1,0])\n",
    "#belief = normalize(np.abs(np.random.randn(10)))\n",
    "prior = predict_move(belief, 2, .1, .8, .1)\n",
    "book_plots.plot_belief_vs_prior(belief,prior)\n",
    "set_figsize(y=1)\n",
    "print(belief,prior)\n"
   ]
  },
  {
   "cell_type": "code",
   "execution_count": 48,
   "metadata": {
    "collapsed": false
   },
   "outputs": [
    {
     "name": "stdout",
     "output_type": "stream",
     "text": [
      "[1 0 1 0 0 1 0 1 0 0]\n"
     ]
    },
    {
     "data": {
      "image/png": "[encoded data removed]",
      "text/plain": [
       "<matplotlib.figure.Figure at 0x17075ae0978>"
      ]
     },
     "metadata": {},
     "output_type": "display_data"
    }
   ],
   "source": [
    "from filterpy.discrete_bayes import update, predict, normalize\n",
    "import numpy as np\n",
    "import kf_book.book_plots as book_plots\n",
    "from kf_book.book_plots import figsize, set_figsize\n",
    "import matplotlib.pyplot as plt\n",
    "\n",
    "def lh_hallway(hall,z,z_prob):\n",
    "    \"\"\" compute likelihood that a measurement matches\n",
    "    positions in the hallway.\"\"\"\n",
    "    try:\n",
    "        scale = z_prob / (1. - z_prob)\n",
    "    except ZeroDivisionError:\n",
    "        scale = 1e8\n",
    "        \n",
    "    likelihood = np.ones(len(hall))\n",
    "    likelihood[hall == z] *= scale\n",
    "    return likelihood\n",
    "\n",
    "%matplotlib inline\n",
    "with figsize(y=5.5):\n",
    "    hallway = np.asarray([1, 0, 1, 0, 0]*2)\n",
    "    prior = np.asarray([.1]*10)\n",
    "    offset = 1\n",
    "    kernel = np.asarray([.1, .8, .1])\n",
    "    measurement = [0, 1, 0, 1, 0, 0, 1, 0, 1]\n",
    "    for i, m in enumerate(measurement):\n",
    "        likelihood = lh_hallway(hallway, z=m, z_prob=0.75)\n",
    "        posterior = update(likelihood,prior)\n",
    "        prior = predict(posterior, offset, kernel)\n",
    "        plt.subplot(3,3,i+1)\n",
    "        book_plots.bar_plot(posterior,ylim=(0,.4),title='step: {}'.format(i+1))\n",
    "    plt.tight_layout() #区别在于，可以让个子图彼此分离，不至于title和图片重叠\n",
    "print(hallway)"
   ]
  },
  {
   "cell_type": "markdown",
   "metadata": {},
   "source": [
    "这一章主要基于贝叶斯条件概率理论和全概率理论建立的Discrete_Bayes Filter。\n",
    "\n",
    "其中重要的三个函数分别为：\n",
    "``` python\n",
    "from filterpy.discrete_bayes import update, predict\n",
    "\n",
    "likelihood = lh_hallway(hallway, z, z_prob);  #P(Z \\mid x_i)\n",
    "posterior = undate(likelihood,prior);  #P(x_i \\mid Z)\n",
    "prior = predict(posterior, move_distance, kernel); # P(x_i)\n",
    "```\n",
    "\n",
    "Bayes theorem is\n",
    "\n",
    "$$P(x_i \\mid Z) = \\frac{P(Z \\mid x_i) P(x_i)}{P(Z)}$$\n",
    "\n",
    "即：\n",
    "\n",
    "$$ \\mathtt{posterior} = \\frac{\\mathtt{likelihood}\\times \\mathtt{prior}}{\\mathtt{normalization}}$$ \n",
    "\n",
    "Total Probability Theorem is\n",
    "\n",
    "$$P(X_i^t) = \\sum_j P(X_j^{t-1})  P(x_i | x_j)$$\n",
    "\n",
    "\n",
    "\n",
    "\n",
    "\n",
    "\n",
    "\n"
   ]
  }
 ],
 "metadata": {
  "kernelspec": {
   "display_name": "Python 3",
   "language": "python",
   "name": "python3"
  },
  "language_info": {
   "codemirror_mode": {
    "name": "ipython",
    "version": 3
   },
   "file_extension": ".py",
   "mimetype": "text/x-python",
   "name": "python",
   "nbconvert_exporter": "python",
   "pygments_lexer": "ipython3",
   "version": "3.6.0"
  }
 },
 "nbformat": 4,
 "nbformat_minor": 2
}
