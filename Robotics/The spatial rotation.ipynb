{
 "cells": [
  {
   "cell_type": "markdown",
   "metadata": {},
   "source": [
    "[English version](http://nbviewer.jupyter.org/github/w407022008/All-of-Notes/blob/master/Robotics/The%20spatial%20rotation_English.ipynb)"
   ]
  },
  {
   "cell_type": "markdown",
   "metadata": {},
   "source": [
    "# Ⅰ.Spatial Rotation  \n",
    "\n",
    "描述空间变换通常有四种描述方式，分别是四元数、变换矩阵、欧拉角、绕轴转动。  \n",
    "本文将首先分别介绍这四种方法，随后探讨这四种方法之间的关系。  \n",
    "下图大体上清楚的表达了他们之间的转换关系。"
   ]
  },
  {
   "cell_type": "markdown",
   "metadata": {},
   "source": [
    "![transformation](https://github.com/w407022008/All-of-Notes/blob/master/Robotics/Transformation.png?raw=true)"
   ]
  },
  {
   "cell_type": "markdown",
   "metadata": {},
   "source": [
    "## 1. 绕轴转动 Axis–angle representation\n",
    "\n",
    "这个方法和euler角描述方法一样都是一种几何描述方法。绕轴转动方法定义了一个转动轴和转动角，沿着转动轴方向逆时针旋转为转动正方向，如下图所示。  \n",
    "In mathematics, the axis–angle representation of a rotation parameterizes a rotation in a three-dimensional Euclidean space by two quantities: a unit vector e indicating the direction of an axis of rotation, and an angle θ describing the magnitude of the rotation about the axis. "
   ]
  },
  {
   "cell_type": "markdown",
   "metadata": {},
   "source": [
    "![Axis–angle representation](https://upload.wikimedia.org/wikipedia/commons/thumb/7/7b/Angle_axis_vector.svg/300px-Angle_axis_vector.svg.png)"
   ]
  },
  {
   "cell_type": "markdown",
   "metadata": {},
   "source": [
    "The angle $\\theta$ scalar multiplied by the unit vector e is the axis-angle vector\n",
    "\n",
    "$$ \\theta = \\theta \\vec{e}$$"
   ]
  },
  {
   "cell_type": "markdown",
   "metadata": {},
   "source": [
    "## 2. 四元数 Quaternion\n",
    "\n",
    "四元数是绕轴转动的数学表达形式，由转动轴向量与转动角度的三角函数值构成，他有四个组成项，通常写作以下三种形式:\n",
    "$$q=(q_w,q_x,q_y,q_z)^T=(\\alpha,\\vec{\\omega})^T=q_w+q_x\\vec{i}+q_y\\vec{j}+q_z\\vec{k}$$\n",
    "其中，$\\alpha=cos(\\frac{\\theta}{2}),\\vec{\\omega}=sin(\\frac{\\theta}{2})\\vec{e}$"
   ]
  },
  {
   "cell_type": "markdown",
   "metadata": {},
   "source": [
    "### 四元数运算及性质\n",
    "\n",
    "- 加法：$p+q=(a+\\vec{u})+(t+\\vec{v})=(a+t)+(\\vec{u}+\\vec{v})$  \n",
    "- 乘法（格拉斯曼积）：$p*q=(a+\\vec{u})*(t+\\vec{v})=at-\\vec{u}\\vec{v}+a\\vec{v}+t\\vec{u}+\\vec{u}\\times\\vec{v}$  \n",
    "- 点积（欧几里得内积）：$p·q=(a,b,c,d)·(t,x,y,z)=at+bx+cy+dz=\\frac{p*q+q*p}{2}$  \n",
    "- 逆运算，共轭运算：$q^{-1}=q^*=(q_w,-q_x,-q_y,-q_z)^T$\n",
    "- 纯四元数：$p=x\\vec{i}+y\\vec{j}+z\\vec{k}$表示一个笛卡尔坐标系的点  \n",
    "- 单位四元数：即模长为1，$|q|=\\sqrt{a^2+b^2+c^2+d^2}=1$"
   ]
  },
  {
   "cell_type": "markdown",
   "metadata": {},
   "source": [
    "### 全局坐标系下空间变换的表述：\n",
    "\n",
    "- **一个绕轴转动的过程的表示：**通常我们采用一个**单位四元数**来表示一个转动，如：$q=cos(\\theta)+sin(\\theta)(\\vec{i}+\\vec{j}+\\vec{k})$表示空间绕转动轴$(\\vec{i},\\vec{j},\\vec{k})$逆时针转动$\\theta$角度。  \n",
    "\n",
    "- **一个笛卡尔坐标系点的表述：**通常我们使用一个**纯四元数**表示一个点，如：$P=x\\vec{i}+y\\vec{j}+z\\vec{k}$表示空间中一点(x,y,z)。  \n",
    "\n",
    "于是，空间中一点$P_{in}$绕一转轴$\\omega$逆时针转动$\\theta$角度得到空间中另一点$P_{out}$，这个过程被描述为：$$P_{out}=q*P_{in}*q^{-1}$$$$=0+[(q_w^2+q_x^2-q_y^2-q_z^2)x+2(q_xq_y-q_wq_z)y+2(q_xq_z+q_wq_y)z]\\vec{i}$$$$+[2(q_xq_y-q_wq_z)x+(q_w^2+q_y^2-q_x^2-q_z^2)y+2(q_yq_z-q_wq_x)z]\\vec{j}$$$$+[2(q_xq_z-q_yq_w)x+2(q_yq_z-q_wq_x)y+(q_w^2+q_z^2-q_x^2-q_y^2)z]\\vec{k}$$  \n",
    "\n",
    "- **连续转动**$q_1,q_2$，可以被看作是一个一次转动$q=q_1*q_2$，即：$$P_{out}=q_1*q_2*P_{in}*q_2^{-1}*q_1^{-1}=q*P_{in}*q^{-1}$$"
   ]
  },
  {
   "cell_type": "markdown",
   "metadata": {},
   "source": [
    "# 3.Euler角\n",
    "\n",
    "- **转动轴次序**  \n",
    "\n",
    "    在不考虑静止坐标系和随动坐标系之间的区别情况下，通常情况下会存在12种旋转轴组合情况，分别为：  \n",
    "    - **Proper Euler angles** (z-x-z, x-y-x, y-z-y, z-y-z, x-z-x, y-x-y)\n",
    "    - **Tait–Bryan angles** (x-y-z, y-z-x, z-x-y, x-z-y, z-y-x, y-x-z)    \n",
    "    Tait–Bryan angles经常也会被称作 *Heading, Elevation, and Bank* OR *Yaw, Pitch, and Roll*. 通常情况下，我们会把这两类旋转轴组合方式统称为Euler角。   \n",
    "\n",
    "\n",
    "- **全局坐标系下的表述(extrinsic)：**  \n",
    "    全局坐标系，又叫原始坐标系、静止坐标系。转动过程是按照某一个转动顺序逐次绕全局坐标系的坐标轴转动。\n",
    "\n",
    "- **局部坐标系下的表述(intrinsic)：**  \n",
    "    局部坐标系，又叫随动坐标系、机体坐标系。转动过程是按照某一个转动顺序逐次绕局部坐标系的坐标轴转动。"
   ]
  },
  {
   "cell_type": "markdown",
   "metadata": {},
   "source": [
    "# 4.变换矩阵 Rotation Matrix\n",
    "\n",
    "## 矩阵的意义：  \n",
    "\n",
    "- **空间**：n维矩阵通常情况下可以表述一个n空间，如：3个相互正交的向量$(1,0,0)^T,(0,1,0)^T,(0,0,1)^T$，可以张成一个张量$\\left [\\begin{matrix}\n",
    "  1 & 0 & 0\\\\  0 & 1 & 0 \\\\  0 & 0 & 1 \\end{matrix}\\right]$，表示一个空间。\n",
    "- **变换**：n维矩阵通常还可以描述一个空间变换，如：$\\left [\\begin{matrix} 0\\\\1\\\\0  \\end{matrix}\\right]=\\left [\\begin{matrix} 0 & -1 & 0\\\\1 & 0 & 0\\\\0 & 0 & 1  \\end{matrix}\\right]\\left [\\begin{matrix} 1\\\\0\\\\0  \\end{matrix}\\right]$，表示一个向量$\\left [\\begin{matrix} 1\\\\0\\\\0  \\end{matrix}\\right]$绕z轴逆时针旋转$90^o$\n",
    "- **空间变换**：即是描述一个空间$S_1$经旋转变换得到另一空间$S_2$，写作：$S_2=RS_1$\n",
    "\n",
    "## 空间变换：  \n",
    "\n",
    "- **绕坐标轴转动：**\n",
    "    - 绕x轴：$R_x=\\left [\\begin{matrix} 1&0&0\\\\0&cos(\\theta)&-sin(\\theta)\\\\0&sin(\\theta)&cos(\\theta)  \\end{matrix}\\right]$\n",
    "    - 绕y轴：$R_y=\\left [\\begin{matrix} cos(\\theta)&0&sin(\\theta)\\\\0&1&0\\\\-sin(\\theta)&0&cos(\\theta)  \\end{matrix}\\right]$\n",
    "    - 绕z轴：$R_z=\\left [\\begin{matrix} cos(\\theta)&-sin(\\theta)&0\\\\sin(\\theta)&cos(\\theta)&0\\\\0&0&1  \\end{matrix}\\right]$\n",
    "- **逐次绕坐标轴转动：**\n",
    "    - **全局坐标系坐标轴：**$R_G=R_3R_2R_1$表示绕轴次序为1、2、3\n",
    "\n",
    "    - **局部坐标系坐标轴：**$R_L=R_3R_2R_1$表示绕轴次序为3、2、1"
   ]
  },
  {
   "cell_type": "markdown",
   "metadata": {},
   "source": [
    "# 5.Quaternion 和 Angle-Axis representation 的关系\n",
    "    \n",
    "\n",
    "a. 在绕轴$\\vec e$逆时针旋转angle角时，有关系：\n",
    "$$P_1\\longrightarrow _{angle}^{\\vec e} \\longrightarrow P_2 \\Leftrightarrow P_2=qP_1q^{-1} \\Leftrightarrow P_2=RP_1=R_QP_1$$  \n",
    "\n",
    "b. 在绕轴$\\vec e$顺时针旋转angle角时，有关系：\n",
    "$$P_1\\longrightarrow _{-angle}^{\\vec e} \\longrightarrow P_2 \\Leftrightarrow P_2=q^{-1}P_1q \\Leftrightarrow P_2=RP_1=R_Q^TP_1$$\n",
    "  \n",
    "在这里轴$\\vec e$是定义在全局坐标系内的任意单位矢量(x,y,z),angle是标量转动角  \n",
    "\n",
    "q是由$\\vec q$与angle定义的单位四元数$q=q_w+q_xi+q_yj+q_zk=cos\\frac{angle}{2}+(xi+yj+zk)sin\\frac{angle}{2}$  \n",
    "  \n",
    "  即有：$$ \\left\\{\n",
    "\\begin{aligned}\n",
    "q_w & = & cos\\frac{angle}{2} \\\\\n",
    "q_x & = & x·sin\\frac{angle}{2} \\\\\n",
    "q_y & = & y·sin\\frac{angle}{2} \\\\\n",
    "q_z & = & z·sin\\frac{angle}{2}\n",
    "\\end{aligned}\n",
    "\\right.\n",
    "\\Leftrightarrow\n",
    "\\left\\{\n",
    "\\begin{aligned}\n",
    "angle & = & 2\\arccos {q_w} \\\\\n",
    "x & = & \\frac{q_x}{\\sqrt{1-q_w^2}} \\\\\n",
    "y & = & \\frac{q_y}{\\sqrt{1-q_w^2}} \\\\\n",
    "z & = & \\frac{q_z}{\\sqrt{1-q_w^2}}\n",
    "\\end{aligned}\n",
    "\\right.\n",
    "\\tag{1}\n",
    "$$"
   ]
  },
  {
   "cell_type": "markdown",
   "metadata": {},
   "source": [
    "# 6.Quaternion, Angle-Axis representation 和 Rotation Matrix的关系 \n",
    "\n",
    "通过等价的数学表达形式：$P_2=qP_1q^{-1}\\Leftrightarrow P_2=R_QP_1$可得：  \n",
    "## Quaternion,Angle-Axis $\\Rightarrow$ Matrix\n",
    "\n",
    "- 逆时针转动angle角时：  \n",
    "$$R=R_Q=\\left [\\begin{matrix}\n",
    "q_w^2+q_x^2-q_y^2-q_z^2 & 2q_xq_y-2q_zq_w & 2q_xq_z+2q_yq_w \\\\\n",
    "2q_xq_y+2q_zq_w & q_w^2+q_y^2-q_x^2-q_z^2 & 2q_yq_z-2q_xq_w \\\\\n",
    "2q_xq_z-2q_yq_w & 2q_yq_z+2q_xq_w & q_w^2+q_z^2-q_x^2-q_y^2 \\\\\n",
    "\\end{matrix}\\right]=\\left [\\begin{matrix}\n",
    "tx^2+c & txy-zs & txz+ys \\\\\n",
    "txy+zs & ty^2+c & tyz-xs \\\\\n",
    "txz-ys & tyz+xs & tz^2+c \\\\\n",
    "\\end{matrix}\\right]\\tag{2}$$\n",
    "\n",
    "- 顺时针转动angle角时：$R=R_Q^T$\n",
    "\n",
    "    符号：*$\\begin{matrix}\n",
    "c=cos(\\theta) & t=1-c \\\\\n",
    "s=sin(\\theta) & \\vec e=(x,y,z) \\end{matrix}$*  "
   ]
  },
  {
   "cell_type": "markdown",
   "metadata": {},
   "source": [
    "## Matrix $\\Rightarrow$ Quaternion\n",
    "\n",
    "\n",
    "if  $R=\\left [\\begin{matrix}\n",
    "      a_{11} & a_{12} & a_{13} \\\\\n",
    "      a_{21} & a_{22} & a_{23} \\\\\n",
    "      a_{31} & a_{32} & a_{33} \\\\\n",
    "      \\end{matrix}\\right]$  then  \n",
    "\n",
    "$$\\left\\{\n",
    "\\begin{aligned}\n",
    "4q_w^2=1+a_{11}+a{22}+a{33}\\\\\n",
    "4q_x^2=1+a_{11}-a{22}-a{33}\\\\\n",
    "4q_y^2=1-a_{11}+a{22}-a{33}\\\\\n",
    "4q_z^2=1-a_{11}-a{22}+a{33}\\\\\n",
    "4q_wq_x=a_{32}-a_{23}\\\\\n",
    "4q_wq_y=a_{13}-a_{31}\\\\\n",
    "4q_wq_z=a_{21}-a_{12}\\\\\n",
    "4q_xq_y=a_{21}+a_{12}\\\\\n",
    "4q_xq_z=a_{13}+a_{31}\\\\\n",
    "4q_yq_z=a_{23}+a_{32}\n",
    "\\end{aligned}\n",
    "\\right.$$"
   ]
  },
  {
   "cell_type": "markdown",
   "metadata": {},
   "source": [
    "# 7.Euler角和Rotation Matrix间的关系  \n",
    "\n",
    "考虑到Euler角描述有全局坐标系与局部坐标系的区分，和转动轴次序的要求，因此一下详细地解释逐次绕坐标轴转动：\n",
    "\n",
    "## Euler $\\Rightarrow$ Matrix\n",
    "\n",
    "- **全局坐标系坐标轴：**$R_G=R_3R_2R_1$表示绕轴次序为1、2、3\n",
    "    - **Proper Euler angles：**\n",
    "        - 绕轴顺序-x-y-x:$$R_G=R_xR_yR_x$$\n",
    "        - 绕轴顺序-x-z-x:$$R_G=R_xR_zR_x$$\n",
    "        - 绕轴顺序-y-x-y:$$R_G=R_yR_xR_y$$\n",
    "        - 绕轴顺序-y-z-y:$$R_G=R_yR_zR_y$$\n",
    "        - 绕轴顺序-z-x-z:$$R_G=R_zR_xR_z$$\n",
    "        - 绕轴顺序-z-y-z:$$R_G=R_zR_yR_z$$\n",
    "    - **Tait–Bryan angles：**\n",
    "        - 绕轴顺序-x-y-z:$$R_G=R_zR_yR_x$$\n",
    "        - 绕轴顺序-x-z-y:$$R_G=R_yR_zR_x$$\n",
    "        - 绕轴顺序-y-x-z:$$R_G=R_zR_xR_y$$\n",
    "        - 绕轴顺序-y-z-x:$$R_G=R_xR_zR_y$$\n",
    "        - 绕轴顺序-z-x-y:$$R_G=R_yR_xR_z$$\n",
    "        - 绕轴顺序-z-y-x:$$R_G=R_xR_yR_z$$\n",
    "- **局部坐标系坐标轴：**$R_L=R_3R_2R_1$表示绕轴次序为3、2、1\n",
    "    - **Proper Euler angles：**\n",
    "        **和局部坐标系Proper Euler angles的表达形式一致**\n",
    "    - **Tait–Bryan angles：**\n",
    "        - 绕轴顺序-x-y-z:$$R_L=R_xR_yR_z$$\n",
    "        - 绕轴顺序-x-z-y:$$R_L=R_xR_zR_y$$\n",
    "        - 绕轴顺序-y-x-z:$$R_L=R_yR_xR_z$$\n",
    "        - 绕轴顺序-y-z-x:$$R_L=R_yR_zR_x$$\n",
    "        - 绕轴顺序-z-x-y:$$R_L=R_zR_xR_y$$\n",
    "        - 绕轴顺序-z-y-x:$$R_L=R_zR_yR_x$$\n",
    "\n",
    "考虑到，数学形式的一致，这里就只提供一遍各种形式的矩阵，具体需要哪一种数学形式的矩阵，查表可知，如下：  \n",
    "\n",
    "**i.e. $X_1Y_2Z_3$表示数学形式形如$R_xR_yR_z$的所有转动过程，此时$c_1,s_1$分别表示$cos(<\\vec{x}>),sin(<\\vec{x}>)$**\n",
    "\n",
    "|Proper Euler angles|Tait-Bryan angles|\n",
    "|:---:|:---:|\n",
    "|![](https://wikimedia.org/api/rest_v1/media/math/render/svg/22ecc7d65613b53c38208ccdb9f3a05206222593)|![](https://wikimedia.org/api/rest_v1/media/math/render/svg/38d5c50b0be4c13b2b3a43ce32b37a14ab8c1f94)|\n",
    "|![](https://wikimedia.org/api/rest_v1/media/math/render/svg/47d2cef1c56a3058cf76c6717c72266c1588dcf5)|![](https://wikimedia.org/api/rest_v1/media/math/render/svg/88ca944aa8cbd89b7116b5171bd85a65472b5f9d)|\n",
    "|![](https://wikimedia.org/api/rest_v1/media/math/render/svg/c36e63d05a8166d8162ee9e29dd60fa4e40468de)|![](https://wikimedia.org/api/rest_v1/media/math/render/svg/315bca69e4cbda3218014b5a9b4878aa89231064)|\n",
    "|![](https://wikimedia.org/api/rest_v1/media/math/render/svg/fd69086f396f6ef72eed8e95b333537b60b406c9)|![](https://wikimedia.org/api/rest_v1/media/math/render/svg/ecef3eab0b5f54b66c7107f3ceeeb319a2e0e756)|\n",
    "|![](https://wikimedia.org/api/rest_v1/media/math/render/svg/547e522037de6467d948ecf3f7409975fe849d07)|![](https://wikimedia.org/api/rest_v1/media/math/render/svg/45583b01e584306f30f616307c8e53c349705b12)|\n",
    "|![](https://wikimedia.org/api/rest_v1/media/math/render/svg/1ece122a99938c6d8209a08822ec978d9492a170)|![](https://wikimedia.org/api/rest_v1/media/math/render/svg/3e7474f3e097e2f4bfe1e529fa321b5e0645275c)|"
   ]
  },
  {
   "cell_type": "markdown",
   "metadata": {},
   "source": [
    "## Matrix, Quaternion, Angle-Axis $\\Rightarrow$ Euler\n",
    "\n",
    "根据R矩阵，我们可以反推出相应的Euler角。不过，如果遇到了$\\frac{0}{0}$的形式，那么这样的结果不可取。  \n",
    "\n",
    "For example：对于**全局坐标系下，绕轴顺序为X-Y-Z的Tait–Bryan angles**，有：\n",
    "$$ \\left\\{\n",
    "\\begin{aligned}\n",
    "x & = & \\arctan\\frac{m_{21}}{m_{22}} & = & \\arctan\\frac{ 2q_yq_z+2q_wq_x}{ 2q_w^2+2q_z^2-1}  & = & \\arctan\\frac{tyz+xs}{tz^2+c} \\\\\n",
    "y & = & -\\arcsin(m_{20}) & = & -\\arcsin(2q_xq_z-2q_wq_y) & = & -\\arcsin(txz-ys)  \\\\\n",
    "z & = & \\arctan\\frac{m_{10}}{m_{00}} & = & \\arctan\\frac{ 2q_xq_y+2q_wq_z}{ 2q_w^2+2q_x^2-1} & = & \\arctan\\frac{txy+zs}{tx^2+c}\n",
    "\\end{aligned}\n",
    "\\right.\n",
    "\\tag{4}\n",
    "$$"
   ]
  },
  {
   "cell_type": "markdown",
   "metadata": {},
   "source": [
    "# 8. Euler角和Quaternion间的关系  \n",
    "\n",
    "考虑到Euler角描述有全局坐标系与局部坐标系的区分，和转动轴次序的要求，因此以下举例介绍如何从Euler角推导出Quaternion：   \n",
    "\n",
    "- **全局坐标系下**：表达式$P_{out}=(q_3*q_2*q_1)P_{in}(q_3*q_2*q_1)^{-1}$表示，逐次绕轴1-2-3\n",
    "- **局部坐标系下**：表达式$P_{out}=(q_3*q_2*q_1)P_{in}(q_3*q_2*q_1)^{-1}$表示，逐次绕轴3-2-1\n",
    "\n",
    "## Euler $\\Rightarrow$ Quaternion\n",
    "- **Example 1**：**全局坐标系**下逐次绕轴顺序**X-Y-Z**\n",
    "有：\n",
    "$$q_G=q_z*q_y*q_x=\\left [\\begin{matrix}q_w\\\\q_x\\\\q_y\\\\q_z\\end{matrix}\\right]=\n",
    "\\left [\\begin{matrix}\n",
    "cos\\frac{<\\vec x>}{2}cos\\frac{<\\vec y>}{2}cos\\frac{<\\vec z>}{2}+sin\\frac{<\\vec x>}{2}sin\\frac{<\\vec y>}{2}sin\\frac{<\\vec z>}{2} \\\\\n",
    "-cos\\frac{<\\vec x>}{2}sin\\frac{<\\vec y>}{2}sin\\frac{<\\vec z>}{2}+sin\\frac{<\\vec x>}{2}cos\\frac{<\\vec y>}{2}cos\\frac{<\\vec z>}{2} \\\\\n",
    "cos\\frac{<\\vec x>}{2}sin\\frac{<\\vec y>}{2}cos\\frac{<\\vec z>}{2}+sin\\frac{<\\vec x>}{2}cos\\frac{<\\vec y>}{2}sin\\frac{<\\vec z>}{2} \\\\\n",
    "cos\\frac{<\\vec x>}{2}cos\\frac{<\\vec y>}{2}sin\\frac{<\\vec z>}{2}-sin\\frac{<\\vec x>}{2}sin\\frac{<\\vec y>}{2}cos\\frac{<\\vec z>}{2}\n",
    "\\end{matrix}\\right] \\tag{a}$$\n",
    "\n",
    "- **Example 2**：**全局坐标系**下逐次绕轴顺序**X-Z-Y**\n",
    "有：\n",
    "$$q_G=q_y*q_z*q_x=\\left [\\begin{matrix}q_w\\\\q_x\\\\q_y\\\\q_z\\end{matrix}\\right]=\n",
    "\\left[\\begin{matrix}\n",
    "cos\\frac{<\\vec x>}{2}cos\\frac{<\\vec y>}{2}cos\\frac{<\\vec z>}{2}-sin\\frac{<\\vec x>}{2}sin\\frac{<\\vec y>}{2}sin\\frac{<\\vec z>}{2} \\\\\n",
    "cos\\frac{<\\vec x>}{2}sin\\frac{<\\vec y>}{2}sin\\frac{<\\vec z>}{2}+sin\\frac{<\\vec x>}{2}cos\\frac{<\\vec y>}{2}cos\\frac{<\\vec z>}{2} \\\\\n",
    "cos\\frac{<\\vec x>}{2}cos\\frac{<\\vec y>}{2}sin\\frac{<\\vec z>}{2}+sin\\frac{<\\vec x>}{2}sin\\frac{<\\vec y>}{2}cos\\frac{<\\vec z>}{2} \\\\\n",
    "cos\\frac{<\\vec x>}{2}sin\\frac{<\\vec y>}{2}cos\\frac{<\\vec z>}{2}-sin\\frac{<\\vec x>}{2}cos\\frac{<\\vec y>}{2}sin\\frac{<\\vec z>}{2}\n",
    "\\end{matrix}\\right] \\tag{b}$$\n",
    "\n",
    "- **Example 3**：**局部坐标系**下逐次绕轴顺序**X-Y-Z**\n",
    "有：\n",
    "$$q_G=q_y*q_z*q_x=\\left [\\begin{matrix}q_w\\\\q_x\\\\q_y\\\\q_z\\end{matrix}\\right]=\n",
    "\\left[\\begin{matrix}\n",
    "cos\\frac{<\\vec x>}{2}cos\\frac{<\\vec y>}{2}cos\\frac{<\\vec z>}{2}-sin\\frac{<\\vec x>}{2}sin\\frac{<\\vec y>}{2}sin\\frac{<\\vec z>}{2} \\\\\n",
    "sin\\frac{<\\vec x>}{2}cos\\frac{<\\vec y>}{2}cos\\frac{<\\vec z>}{2}+cos\\frac{<\\vec x>}{2}sin\\frac{<\\vec y>}{2}sin\\frac{<\\vec z>}{2} \\\\\n",
    "cos\\frac{<\\vec x>}{2}sin\\frac{<\\vec y>}{2}cos\\frac{<\\vec z>}{2}-sin\\frac{<\\vec x>}{2}cos\\frac{<\\vec y>}{2}sin\\frac{<\\vec z>}{2} \\\\\n",
    "sin\\frac{<\\vec x>}{2}sin\\frac{<\\vec y>}{2}cos\\frac{<\\vec z>}{2}+cos\\frac{<\\vec x>}{2}cos\\frac{<\\vec y>}{2}sin\\frac{<\\vec z>}{2}\n",
    "\\end{matrix}\\right] \\tag{c}$$"
   ]
  },
  {
   "cell_type": "markdown",
   "metadata": {},
   "source": [
    "# 9. 转换表达式$P_2=RP_1$的意义\n",
    "\n",
    "这个表达式应当可以写成3种形式：  \n",
    "\n",
    "  a. $P_2=RP_1 \\rightarrow$在$P_1$所在坐标中观察，$P_1$去哪儿了？  \n",
    "  b. $P_3^T=P_1^TR \\rightarrow$在$P_1$所在坐标中观察，$P_1^T$从那儿来？  \n",
    "  c. $P_4=R^TP_1 \\rightarrow$在$P_4$所在坐标中观察，绝对静止矢量$P_1$（在$P_1$所在坐标系中的描述）在哪儿？\n",
    "\n",
    "通常情况下，我们使用a式来表示，在全局坐标系下观察运动物体的空间变换；使用c式来表示，在随运动坐标系下观察绝对静止物体的相对位置，常用于位置校准。"
   ]
  },
  {
   "cell_type": "markdown",
   "metadata": {},
   "source": [
    "# Ⅱ.Some applications of quaternions"
   ]
  },
  {
   "cell_type": "markdown",
   "metadata": {},
   "source": [
    "- 空间多连杆机构中，一串联连杆逐次单自由度转动后的末端位姿问题：  \n",
    "\n",
    "    位置：$P=\\sum_{i=1}^n  q_i P_i q_i^{-1}$ ,$P_i$为每杆的长度矢量，$q_i$为当前转动四元数由轴$\\vec q_i$与角$\\alpha _i$确定\n",
    "    \n",
    "    姿态：$\\left\\{\\begin{aligned}\n",
    "    &\\vec d=\\vec d_{ini} \\rightarrow_{\\alpha_1,\\alpha_2...\\alpha_n}^{\\vec q_1,\\vec q_2...\\vec q_n}\\rightarrow \\vec d_n &\\\\\n",
    "    &\\vec q_i \\rightarrow_{\\alpha_1,...,\\alpha_{i-1}}^{\\vec q_1,...,\\vec q_{i-1}} \\rightarrow \\vec q_i & 其中i=2,3,4...\n",
    "    \\end{aligned}\\right.$,  \n",
    "    "
   ]
  },
  {
   "cell_type": "markdown",
   "metadata": {},
   "source": [
    "# Ⅲ.Precautions\n",
    "\n",
    "- **欧拉角**：  \n",
    "    - **万向节死锁**：这是欧拉角的一个本质上的缺点，因为他本身来源于陀螺仪的建模，所以不可避免的存在90°时的死锁现象（奇点，自由度退化），详情参考[这里](https://www.zhihu.com/question/47736315/answer/236284413)"
   ]
  }
 ],
 "metadata": {
  "kernelspec": {
   "display_name": "Python 3",
   "language": "python",
   "name": "python3"
  },
  "language_info": {
   "codemirror_mode": {
    "name": "ipython",
    "version": 3
   },
   "file_extension": ".py",
   "mimetype": "text/x-python",
   "name": "python",
   "nbconvert_exporter": "python",
   "pygments_lexer": "ipython3",
   "version": "3.6.3"
  }
 },
 "nbformat": 4,
 "nbformat_minor": 2
}
