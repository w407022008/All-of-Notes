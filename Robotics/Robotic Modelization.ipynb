{
 "cells": [
  {
   "cell_type": "markdown",
   "metadata": {},
   "source": [
    "# Serial robot modelization  \n",
    "\n",
    "if you haven't understood the "
   ]
  },
  {
   "cell_type": "markdown",
   "metadata": {},
   "source": [
    "- ## 空间系变换\n",
    "\n",
    "$R_i^{i-1}$——坐标系i相对于坐标系i-1的旋转坐标系变化，如：$\\left\\lgroup \\matrix{\\cos(\\alpha) & -\\sin(\\alpha) & 0 \\cr sin(\\alpha) & cos(\\alpha) & 0 \\cr 0 & 0 & 1} \\right\\rgroup$表示绕z有旋$\\alpha$  \n",
    "$P_I^{i-1}$——坐标系i相对于坐标系i-1的平移坐标变化  \n",
    "$T_I^{i-1}=\\left\\lgroup \\matrix{R_i^{i-1} & P_i^{i-1} \\cr 0 & 1} \\right\\rgroup$——坐标系i相对于坐标系i-1的空间变换  \n",
    "\n",
    "基座标系（或称全局坐标系、固定参考系）：$T_0^0 = I$  \n",
    "\n",
    "第i坐标系在基座标系中的描述：$T_i^0=T_1^0T_2^1···T_i^{i-1}=(T_{i+1}^i)^{-1}T_{i+1}^0$  \n",
    "\n",
    "    注意左乘与右乘区别：如：\n",
    "$$T_1^0=I\\left\\lgroup \\matrix{P_1^0} \\right\\rgroup \\left\\lgroup \\matrix{R_1^0} \\right\\rgroup = I\\left\\lgroup \\matrix{1 & P_1^0 \\cr 0 & 1} \\right\\rgroup \\left\\lgroup \\matrix{R_1^0 & 0 \\cr 0 & 1} \\right\\rgroup =\\left\\lgroup \\matrix{R_1^0 & P_1^0 \\cr 0 & 1} \\right\\rgroup \\neq I\\left\\lgroup \\matrix{R_1^0} \\right\\rgroup \\left\\lgroup \\matrix{P_1^0} \\right\\rgroup $$ \n",
    "$$=I\\left\\lgroup \\matrix{R_1^0} \\right\\rgroup \\left\\lgroup \\matrix{P_1^1} \\right\\rgroup=\\left\\lgroup \\matrix{R_1^0 & 0 \\cr 0 & 1} \\right\\rgroup \\left\\lgroup \\matrix{1 & P_1^1 \\cr 0 & 1} \\right\\rgroup$$"
   ]
  },
  {
   "cell_type": "markdown",
   "metadata": {},
   "source": [
    "- ## 速度与加速度分析  \n",
    "\n",
    "**Newton-Euler equation:**  \n",
    "- Forward recursion   \n",
    "$$V_i^0 = V_{i-1}^0 + \\omega _{i-1}^0 \\times r_{i-1->i}^0$$\n",
    "$$\\omega _i^0 = \\omega_{i-1}^0 +\\dot\\theta · k_i^0$$\n",
    "\n",
    "$$\\dot V_i^0 = \\dot V_{i-1}^0 + \\dot \\omega_i^0 \\times r_{i-1->i}^0 + \\omega_i^0 \\times (\\omega_i^0 \\times r_{i-1->i}^0)$$\n",
    "$$\\dot \\omega_i^0 = \\dot \\omega_{i-1}^0 + \\omega_{i-1}^0 \\times \\dot \\theta_{i-1} + \\ddot \\theta_{i-1}$$\n",
    "\n",
    "$$F_{ci} = m_i\\dot V_{ci}$$\n",
    "$$M_i = I_{ci}\\dot \\omega_i + \\omega_i \\times I_{ci}\\omega_i$$\n",
    "\n",
    "- Backward recursion  \n",
    "$$f_{i-1,i} = f_{i,i+1} - f_i +F_i$$\n",
    "$$m_{i-1,i} = r_{i-1,i} \\times f_{i,i+1} + m_{i,i+1} - r_{ci} \\times f_i -m_i + r_{ci} \\times F_{ci} + M_i$$"
   ]
  },
  {
   "cell_type": "markdown",
   "metadata": {},
   "source": [
    "### 雅克比矩阵：\n",
    "对于有m自由度的机构，假设每一广义坐标为$q_r$,(r=1,2,...,m)  \n",
    "\n",
    "则，有机构中某一处e的运动方程为：$\\dot q_e = J_e·\\dot q_r = \\left\\lgroup \\matrix{v^0_{ex} \\cr v^0_{ey} \\cr v^0_{ez} \\cr \\omega ^0_{ex} \\cr \\omega ^0_{ey} \\cr \\omega ^0_{ez}} \\right\\rgroup = \\left\\lgroup \\matrix{J_{11} &···& J_{1m} \\cr J_{21} &···& J_{2m} \\cr J_{31} &···&J_{3m} \\cr J_{41} &···& J_{4m} \\cr J_{51} &···& J_{5m} \\cr J_{61}&···&J_{6m}} \\right\\rgroup \\left\\lgroup \\matrix{\\dot q_1 \\cr \\dot q_2 \\cr ·\\cr · \\cr · \\cr q_m} \\right\\rgroup$\n"
   ]
  },
  {
   "cell_type": "markdown",
   "metadata": {},
   "source": [
    "其中，$J_{(1->6),r}=\\vec e_{e(1->6)} \\frac {\\partial \\vec r_e}{\\partial \\vec q_r}$，  \n",
    "$\\vec r_e$为目标e的广义坐标，有$\\vec r_e=\\sum _{i=1}^n \\alpha _i \\vec q_i$,$\\alpha_i$为加权因子  \n",
    "$\\vec e_{e(1->6)}$为目标e在基座标系中6自由度的方向向量"
   ]
  },
  {
   "cell_type": "markdown",
   "metadata": {},
   "source": [
    "因此，有：\n",
    "\n",
    ">对于所有关节为**转动关节**的空间连杆，目标e在关节i处有：$J_i=\\left\\lgroup \\matrix{J} \\right\\rgroup _{6\\times i}= \\left\\lgroup \\matrix{ \\left\\lgroup \\matrix{\\vec k_j \\times \\vec r_{j->i}} \\right\\rgroup _{3\\times (i-1)} &  \\left\\lgroup \\matrix{0} \\right\\rgroup \\cr  \\left\\lgroup \\matrix{\\vec k_j} \\right\\rgroup _{3 \\times (i-1)} & \\vec k_i} \\right\\rgroup $， j=1,2,3,...,(i-1)\n",
    "  \n",
    ">对于所有关节为**平动关节**的空间连杆，目标e在关节i处有：$J_i=\\left\\lgroup \\matrix{J} \\right\\rgroup _{6\\times i}= \\left\\lgroup \\matrix{ \\left\\lgroup \\matrix{\\vec k_j} \\right\\rgroup _{3 \\times j} \\cr \\left\\lgroup \\matrix{0} \\right\\rgroup _{3 \\times j}} \\right\\rgroup$， j= 1,2,3,...,i\n",
    "\n",
    ">对于既有转动关节又有平动关节的空间连杆，目标e在关节i处有：$\\dot q_e = \\left\\lgroup \\matrix{J} \\right\\rgroup_{trans}·\\left\\lgroup \\matrix{\\dot q_1 \\cr · \\cr · \\cr · \\cr \\dot q_n} \\right\\rgroup_{trans} + \\left\\lgroup \\matrix{J} \\right\\rgroup_{rot}·\\left\\lgroup \\matrix{\\dot q_1 \\cr · \\cr · \\cr · \\cr \\dot q_n} \\right\\rgroup_{rot} $  其中，$\\left\\lgroup \\matrix{J} \\right\\rgroup_{rot}$中的$\\vec r_{j->i}$受到transition的影响。"
   ]
  },
  {
   "cell_type": "markdown",
   "metadata": {},
   "source": [
    "- ## 运动方程求逆\n",
    "运动方程$\\dot q_e = J_e·\\dot q_r$  \n",
    "    - $m\\neq n$时，J非方阵，则$\\dot q_r = (J^T·J)^{-1}J^T\\dot q_e$     \n",
    "        - m<n时，驱动自由度小于末端运动自由度，方程无解，也即末端运动部分自由度固定，例如，五自由度操作机不满足末端六自由度的运动要求。\n",
    "        - m>n时，驱动自由度多于末端运动自由度，方程有无数解，其中冗余变量(m-n)个可进行优化。\n",
    "\n",
    "    - m=n时，J为方阵，  \n",
    "        - $|J|\\neq0$，存在$J^{-1}$，则$\\dot q_r =J^{-1}·\\dot q_e$\n",
    "        - |J|=0，此时称雅可比矩阵为奇异矩阵，表示此时某些关节自由度重叠，末端达到某级包络上。可建立奇异位形曲面方程如下：\n",
    "$$\\frac{\\partial r}{\\partial q_i}·(\\frac {\\partial r}{\\partial q_{n-1}} \\times \\frac {\\partial r}{\\partial q_n})=\\left\\lgroup \\matrix{\\frac{\\partial r_x}{\\partial q_i} & \\frac{\\partial r_x}{\\partial q_{m-1}} & \\frac{\\partial r_x}{\\partial q_n} \\cr \\frac{\\partial r_y}{\\partial q_i} & \\frac{\\partial r_y}{\\partial q_{m-1}} & \\frac{\\partial r_y}{\\partial q_m}\\cr \\frac{\\partial r_z}{\\partial q_i} & \\frac{\\partial r_z}{\\partial q_{m-1}} & \\frac{\\partial r_z}{\\partial q_m}} \\right\\rgroup=0$$ $$\\frac {\\partial r}{\\partial q_{m-1}} \\neq \\frac {\\partial r}{\\partial q_m}\\neq0$$\n",
    "    从而解得曲面方程"
   ]
  },
  {
   "cell_type": "markdown",
   "metadata": {},
   "source": [
    "- ## 微分运动（扰动）：\n",
    "\n",
    "    1. **关节广义坐标系r与世界直角坐标系e之间的微分关系**：$(\\dot q_e·dt)=\\delta p=J·\\delta q=J·(\\dot q_r dt)$  \n",
    "        \n",
    "    2. **世界直角坐标系与世界直角坐标系之间的微分**：  \n",
    "        a.**微小扰动的变换表达式**：$\\delta ^j_{j^*}=\\left\\lgroup \\matrix{1 & -\\delta _z & \\delta _y & dx \\cr \\delta _z & 1 & -\\delta_x & dy \\cr -\\delta_y & \\delta_x & 1 & dz \\cr 0 & 0 & 0 & 1} \\right\\rgroup$ 表示j坐标系相对于自身发生空间变换，得到$j^*$坐标系  \n",
    "            比如说:原本有空间连杆其末端在基座标系0下表示为：\n",
    "$$T_n^0 = IT_1^0T^1_2···T_N^{n-1}$$  \n",
    "            现在在第i自由度处产生一扰动，i坐标系稍微发生变化，那么空间连杆的末端在基座标系下就表示为：\n",
    "$$\\bar T^0_n= IT_1^0T^1_2···T^{i-2}_{i-1}(T^{i-1}_i·T^i_{i^*})T_{i+1}^{i^*}···T_N^{n-1}$$\n",
    "            在这里，我们不难想象坐标变换$T_{i+1}^{i^*}$其实就是$T_{i+1}^{i}$，因为无论i+1坐标系上一个坐标系是谁，他都是相对上一个坐标系转动或移动了相同的大小。\n",
    "        b. **扰动前后空间变换矩阵的关系**：设$T^{0}_{i^*}=T^{0}_i+dT$，那么：$dT=T^{0}_{i^*}-T^{0}_i=(\\delta ^0_{i^*}-1)T_i^{0}=T_i^{0}(\\delta ^i_{i^*}-1)=T_i^{0}\\delta$  \n",
    "        在这里，$\\delta^i_{i^*}$其实就是$T_{i+1}^{i^*}$是i坐标系相对自身坐标系发生的扰动，而$\\delta ^0_{i^*}$表示i坐标系相对于基座标系发生的扰动"
   ]
  },
  {
   "cell_type": "markdown",
   "metadata": {},
   "source": [
    "- ## 路径规划  \n",
    "    路径规划可分为两点间路径规划和多点间路径规划(PTP)；也可分为广义关节坐标空间路径规划，和世界直角坐标空间路径规划；也可分为PTP和CP（规定轨迹路径规划）。  \n",
    "    \n",
    ">例如：**PTP模型**，通常情况下，为避免机构受到较大的冲击而采用多项式方程来构造高次样条曲线，从而差值出路径。  \n",
    "\n",
    ">令$\\vec q(t)=\\sum^4_{i=0} \\vec a_it^i=\\sum _{i=0}^4 a_i(\\frac{h}{T})^i$构造出一个4次样条曲线，其中T为总运行时间，h取值0到1之间  \n",
    "\n",
    ">我们可以通过给定的边界条件，从而求解出权因子$\\vec a_i$,进而得到$\\vec q(h)=\\vec q(h|a_i)$\n",
    "\n",
    "我们把**多点路径不停顿问题**也看作是规定轨迹路径问题（CP问题），则可由**高阶拉格朗日差值多项式**或**四阶基函数分段曲线**来差值多点，构造成曲线P(s)，s为弧长，由扰动变化方程知道，$P(S|\\delta s)=I\\prod ^n_{i=0} P^{i-1}_i \\delta ^i_{i^*}$，其中$P(S|\\delta s)$表示$\\delta t$时间变化，基座标系下空间连杆末端的位姿矩阵。"
   ]
  },
  {
   "cell_type": "markdown",
   "metadata": {},
   "source": [
    "- ## 误差分析  \n",
    "    其实，我们在之前描述的扰动就是一种误差的存在，误差可以存在任意关节处，可以以控制精度存在、以零件制造精度存在、部件装配精度存在，还可以以测量精度存在等等，可以说误差总是或多或少的存在着。  \n",
    "    \n",
    ">以电位计为伺服定位装置的广义自由度误差呈现正态分布；以编码器为伺服定位装置的广义自由度误差呈现均匀分布。对于连杆几何参数的偏差，用测量过的构件装配出来的机器人，他的误差是唯一确定的；对于设计图纸上的机器人或者用任意构建装配的机器人，可以认为它在其对应的公差带内是随机的呈现均匀分布。\n",
    "\n",
    "**末端执行器位姿误差的方差和协方差**  \n",
    "$$V=\\left\\lgroup \\matrix{V(dx,dx) & V(dx,dy) & V(dx,dz) & V(dx,\\delta x) & V(dx,\\delta y) & V(dx,\\delta z) \\cr\n",
    "V(dy,dx) & V(dy,dy) & V(dy,dz) & V(dy,\\delta x) & V(dy,\\delta y) & V(dy,\\delta z) \\cr\n",
    "V(dz,dx) & V(dz,dy) & V(dz,dz) & V(dz,\\delta x) & V(dz,\\delta y) & V(dz,\\delta z) \\cr\n",
    "V(\\delta x,dx) & V(\\delta x,dy) & V(\\delta x,dz) & V(\\delta x,\\delta x) & V(\\delta x,\\delta y) & V(\\delta x,\\delta z) \\cr\n",
    "V(\\delta y,dx) & V(\\delta y,dy) & V(\\delta y,dz) & V(\\delta y,\\delta x) & V(\\delta y,\\delta y) & V(\\delta y,\\delta z) \\cr\n",
    "V(\\delta z,dx) & V(\\delta z,dy) & V(\\delta z,dz) & V(\\delta z,\\delta x) & V(\\delta z,\\delta y) & V(\\delta z,\\delta z) \\cr} \\right\\rgroup$$\n",
    "其中：  \n",
    "$V(dx)=\\sum_{i=1}^n \\alpha _{x_i}^2V(\\delta _i);$  \n",
    "$V(dy)=\\sum_{i=1}^n \\alpha _{y_i}^2V(\\delta _i);$  \n",
    "$V(dz)=\\sum_{i=1}^n \\alpha _{z_i}^2V(\\delta _i);$  \n",
    "$V(\\delta x)=\\sum_{i=1}^n \\beta _{x_i}^2V(\\delta _i);$  \n",
    "$V(\\delta y)=\\sum_{i=1}^n \\beta _{y_i}^2V(\\delta _i);$  \n",
    "$V(\\delta z)=\\sum_{i=1}^n \\beta _{z_i}^2V(\\delta _i);$  \n",
    "$V(dx,dy)=\\sum_{i=1}^n \\alpha_{x_i}\\alpha_{y_i}V(\\delta_i);$  \n",
    "$V(dx,dz)=\\sum_{i=1}^n \\alpha_{x_i}\\alpha_{z_i}V(\\delta_i);$  \n",
    "$V(dy,dz)=\\sum_{i=1}^n \\alpha_{y_i}\\alpha_{z_i}V(\\delta_i);$  \n",
    "\n"
   ]
  },
  {
   "cell_type": "markdown",
   "metadata": {},
   "source": [
    "那么，末端位姿误差接近正态分布。假设误差变量为三维变量为（dx,dy,dz），它的联合密度函数：\n",
    "$$f(dx,dy,dz)=\\frac{1}{(2\\pi)^{\\frac32}det(\\mathbf{V})}EXP(-\\frac12[dx,dy,dz]\\mathbf{V}^{-1}[dx,dy,dz]^T)$$"
   ]
  },
  {
   "cell_type": "markdown",
   "metadata": {},
   "source": [
    "如果，$\\mathbf{V}=\\left\\lgroup \\matrix{\\sigma _1 \\cr & \\sigma_2 \\cr & & \\sigma_3} \\right\\rgroup$,  \n",
    "\n",
    "则：$f(dx,dy,dz)=\\frac{1}{(2\\pi)^{\\frac32}\\sigma_1\\sigma_2\\sigma_3}EXP(-\\frac12((\\frac{dx}{\\sigma_1})^2+(\\frac{dy}{\\sigma_2})^2+(\\frac{dz}{\\sigma_3})^2))$"
   ]
  },
  {
   "cell_type": "markdown",
   "metadata": {},
   "source": [
    "**概率分布**"
   ]
  },
  {
   "cell_type": "markdown",
   "metadata": {},
   "source": [
    "$P(|\\omega_i|\\leq R_i)=\\int_{-R_i}^{R_i}f(\\omega_i)d\\omega_i$  \n",
    "\n",
    "其中，\n",
    "\n",
    "$f(\\omega_i)=\\frac{1}{(2\\pi)^{\\frac32}\\sigma_i}EXP(-\\frac12(\\frac{\\omega_i}{\\sigma_i})^2)$"
   ]
  }
 ],
 "metadata": {
  "kernelspec": {
   "display_name": "Python 3",
   "language": "python",
   "name": "python3"
  },
  "language_info": {
   "codemirror_mode": {
    "name": "ipython",
    "version": 3
   },
   "file_extension": ".py",
   "mimetype": "text/x-python",
   "name": "python",
   "nbconvert_exporter": "python",
   "pygments_lexer": "ipython3",
   "version": "3.6.3"
  }
 },
 "nbformat": 4,
 "nbformat_minor": 2
}
