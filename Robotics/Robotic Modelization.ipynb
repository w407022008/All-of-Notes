{
 "cells": [
  {
   "cell_type": "markdown",
   "metadata": {},
   "source": [
    "# 空间系变换\n",
    "  \n",
    "$R_i^{i-1}$——坐标系i相对于坐标系i-1的旋转坐标系变化，如：$\\left\\lgroup \\matrix{\\cos(\\alpha) & -\\sin(\\alpha) & 0 \\cr sin(\\alpha) & cos(\\alpha) & 0 \\cr 0 & 0 & 1} \\right\\rgroup$表示绕z有旋$\\alpha$  \n",
    "$P_I^{i-1}$——坐标系i相对于坐标系i-1的平移坐标变化  \n",
    "$T_I^{i-1}=\\left\\lgroup \\matrix{R_i^{i-1} & P_i^{i-1} \\cr 0 & 1} \\right\\rgroup$——坐标系i相对于坐标系i-1的空间变换  \n",
    "\n",
    "基座标系（或称全局坐标系、固定参考系）：$T_0^0 = I$  \n",
    "\n",
    "第i坐标系在基座标系中的描述：$T_i^0=T_1^0T_2^1···T_i^{i-1}=(T_{i+1}^i)^{-1}T_{i+1}^0$  \n",
    "\n",
    "    注意左乘与右乘区别：如：\n",
    "$$T_1^0=I\\left\\lgroup \\matrix{P_1^0} \\right\\rgroup \\left\\lgroup \\matrix{R_1^0} \\right\\rgroup = I\\left\\lgroup \\matrix{1 & P_1^0 \\cr 0 & 1} \\right\\rgroup \\left\\lgroup \\matrix{R_1^0 & 0 \\cr 0 & 1} \\right\\rgroup =\\left\\lgroup \\matrix{R_1^0 & P_1^0 \\cr 0 & 1} \\right\\rgroup \\neq I\\left\\lgroup \\matrix{R_1^0} \\right\\rgroup \\left\\lgroup \\matrix{P_1^0} \\right\\rgroup $$ \n",
    "$$=I\\left\\lgroup \\matrix{R_1^0} \\right\\rgroup \\left\\lgroup \\matrix{P_1^1} \\right\\rgroup=\\left\\lgroup \\matrix{R_1^0 & 0 \\cr 0 & 1} \\right\\rgroup \\left\\lgroup \\matrix{1 & P_1^1 \\cr 0 & 1} \\right\\rgroup$$"
   ]
  },
  {
   "cell_type": "markdown",
   "metadata": {},
   "source": [
    "# 速度与加速度分析  \n",
    "     \n",
    "   - ** Forward recursion ** \n",
    "        - **For prismatic joint:**\n",
    "$$r_{C_i}^{s_0} = r_{O_{i-1}}^{s_0} + R^{s_0}_{s_i} (r^{s_i}_{O_{i-1}\\rightarrow C_i}) = r_{O_{i-1}}^{s_0} + R_{s_i}^{s_0}(\\theta_{O_{i-1}}·z^{s_i}_{O_{i-1}})$$\n",
    "$$V_{C_i}^{s_0} = V_{O_{i-1}}^{s_0} + \\omega _{i}^{s_0} \\times R^{s_0}_{s_i}(r_{O_{i-1}\\rightarrow C_i}^{s_i}) + R^{s_0}_{s_i} (\\dot \\theta_{O_{i-1}}·z^{s_i}_{O_{i-1}})$$\n",
    "$$\\omega _i^{s_0} = \\omega_{i-1}^{s_0}$$\n",
    "$$\\dot V_{C_i}^{s_0} = \\dot V_{O_{i-1}}^{s_0} + \\dot \\omega_i^{s_0} \\times r_{O_{i-1}\\rightarrow C_i}^{s_0} + \\omega_i^{s_0} \\times (\\omega_i^{s_0} \\times r_{O_{i-1}\\rightarrow C_i}^{s_0}) + \\ddot \\theta_{O_{i-1}} · z^{s_0}_{O_{i-1}} + 2\\omega_i^{s_0} \\times \\dot \\theta_{O_{i-1}}·z^{s_0}_{O_{i-1}}$$\n",
    "$$\\dot \\omega_i^{s_0} = \\dot \\omega_{i-1}^{s_0}$$\n",
    "$$F_{C_i} = m_i\\dot V_{C_i}$$\n",
    "$$M_i =\\frac{\\partial L}{\\partial t}=\\frac{\\partial I_{C_i}\\omega_i}{\\partial t}= I_{C_i}\\dot \\omega_i + \\omega_i \\times I_{C_i}\\omega_i$$\n",
    "        - **For rotational joint:**\n",
    "$$r_{C_i}^{s_0} = r_{O_{i-1}}^{s_0} + r_{O_{i-1}\\rightarrow C_i}^{s_0}$$\n",
    "$$V_{C_i}^{s_0} = V_{O_{i-1}}^{s_0} + \\omega _{i}^{s_0} \\times r_{O_{i-1}\\rightarrow C_i}^{s_0}$$\n",
    "$$\\omega _i^{s_0} = \\omega_{i-1}^{s_0} +\\dot\\theta_{O_{i-1}} · z_{O_{i-1}}^{s_0}$$\n",
    "$$\\dot V_{C_i}^{s_0} = \\dot V_{O_{i-1}}^{s_0} + \\dot \\omega_i^{s_0} \\times r_{O_{i-1}\\rightarrow C_i}^{s_0} + \\omega_i^{s_0} \\times (\\omega_i^{s_0} \\times r_{O_{i-1}\\rightarrow C_i}^{s_0})$$\n",
    "$$\\dot \\omega_i^{s_0} = \\dot \\omega_{i-1}^{s_0} + \\omega_{i-1}^{s_0} \\times \\dot \\theta_{O_{i-1}}·z_{O_{i-1}}^{s_0} + \\ddot \\theta_{O_{i-1}}·z_{O_{i-1}}^{s_0}$$\n",
    "$$F_{C_i} = m_i\\dot V_{C_i}$$\n",
    "$$M_i =\\frac{\\partial L}{\\partial t}=\\frac{\\partial I_{C_i}\\omega_i}{\\partial t}= I_{C_i}\\dot \\omega_i + \\omega_i \\times I_{C_i}\\omega_i$$\n",
    "   - **Backward recursion**  \n",
    "$$f_{i-1,i} = f_{i,i+1} - f_i + F_{C_i}$$\n",
    "$$m_{i-1,i} = r_{O_{i}\\rightarrow O_{i+1}} \\times f_{i,i+1} + m_{i,i+1} - r_{O_i\\rightarrow C_i} \\times f_i -m_i + r_{O_i\\rightarrow C_i} \\times F_{C_i} + M_i$$\n",
    "$$=m_{i,i+1} + M_i - m_i + r_{C_{i}\\rightarrow O_{i+1}} \\times f_{i,i+1} + r_{O_{i}\\rightarrow C_{i}} \\times f_{i-1,i}$$\n",
    "$$\\tau_{O_{i-1}}=z_{O_{i-1}}^{s_0}·f_{i-1,i} \\text{, if the joint is of type P}$$\n",
    "$$\\tau_{O_{i-1}}=z_{O_{i-1}}^{s_0}·m_{i-1,i} \\text{, if the joint is of type R}$$"
   ]
  },
  {
   "cell_type": "markdown",
   "metadata": {},
   "source": [
    "# 串联机器人建模 \n",
    "\n",
    "if you haven't understood the spatial rotation matrix, you can click [here](http://nbviewer.jupyter.org/github/w407022008/All-of-Notes/blob/master/Robotics/The%20spatial%20rotation_English.ipynb) to have a look."
   ]
  },
  {
   "cell_type": "markdown",
   "metadata": {},
   "source": [
    "## - 雅克比矩阵(Jaccobi matrix)：\n",
    "对于有m自由度的机构，假设每一广义坐标为$q_r$,(r=1,2,...,m)  \n",
    "\n",
    "则，有机构中某一处p的运动方程为：$\\dot q_p = J·\\dot q_r = \\left\\lgroup \\matrix{v^0_{px} \\cr v^0_{py} \\cr v^0_{pz} \\cr \\omega ^0_{px} \\cr \\omega ^0_{py} \\cr \\omega ^0_{pz}} \\right\\rgroup = \\begin{bmatrix} J_{11} & \\cdots & J_{1m} \\\\ J_{21} & \\cdots & J_{2m} \\\\ J_{31} & \\cdots & J_{3m} \\\\ J_{41} & \\cdots & J_{4m} \\\\ J_{51} & \\cdots & J_{5m} \\\\ J_{61}& \\cdots &J_{6m} \\end{bmatrix} \\begin{pmatrix} \\dot q_1 \\\\ \\dot q_2 \\\\ \\vdots \\\\ q_m \\end{pmatrix} = \\begin{bmatrix} \\$_1& \\$_2 & \\cdots & \\$_n \\end{bmatrix} \\begin{pmatrix} \\dot q_1 \\\\ \\dot q_2 \\\\ \\vdots \\\\ q_m \\end{pmatrix} $\n"
   ]
  },
  {
   "cell_type": "markdown",
   "metadata": {},
   "source": [
    "因此，有：\n",
    "\n",
    ">对于**转动关节**i，在目标p处有：$ \\$_i \\dot q_i = \\begin{pmatrix} v_x^i \\\\ x_y^i \\\\ v_z^i \\\\ \\omega_x^i \\\\ \\omega_y^i \\\\ \\omega_z^i \\end{pmatrix}= \\begin{bmatrix} \\vec z_i \\times \\vec{O_ip} \\\\ \\vec z_i \\end{bmatrix} \\dot q_i$\n",
    "  \n",
    ">对于**平动关节**i，在目标p处有：$ \\$_i \\dot q_i = \\begin{pmatrix} v_x^i \\\\ x_y^i \\\\ v_z^i \\\\ \\omega_x^i \\\\ \\omega_y^i \\\\ \\omega_z^i \\end{pmatrix}= \\begin{bmatrix} \\vec z_i \\\\ \\vec 0 \\end{bmatrix} \\dot q_i$\n",
    "\n",
    ">对于既有转动关节又有平动关节的空间连杆，在目标p处有：$\\dot q_p = \\begin{bmatrix} J \\end{bmatrix}_{trans}·\\begin{pmatrix} \\dot q_1 \\\\\\vdots \\\\ \\dot q_n \\end{pmatrix}_{trans} + \\begin{bmatrix} J \\end{bmatrix}_{rot}·\\begin{pmatrix} \\dot q_1 \\\\ \\vdots \\\\ \\dot q_n \\end{pmatrix}_{rot} $ "
   ]
  },
  {
   "cell_type": "markdown",
   "metadata": {},
   "source": [
    "## - 多体运动方程（lagrange function）\n",
    "\n",
    ">**Lagrange function**: $$\\frac{\\partial}{\\partial t}(\\frac{\\partial L}{\\partial \\dot q}) - \\frac{\\partial L}{\\partial q}=Q$$\n",
    "where $$L=T-V,  T=\\frac{1}{2}\\dot q M\\dot q^T= \\frac{1}{2}\\sum_{i,j}M_{i,j}(q)\\dot q_i \\dot q_j$$\n",
    "\n",
    "$\\Rightarrow $$$\\underline{\\underline{M}}(q)\\ddot q+\\underline{\\underline{C}}(q,\\dot q)\\dot q+\\underline{g}(q)=\\underline{\\underline{Q}}u$$  \n",
    "where\n",
    "\n",
    "$$ \\begin{cases} \\underline{\\underline{M}}(q)=\\sum_{i=1}^n m^i J_v^{iT} J_v^i + J_{\\omega}^{iT} R^i \\bar I^i R^{iT} J_{\\omega}^i &\n",
    "J_v^i=\\begin{bmatrix}J_{1:3,:1:i}&0_{3\\times(n-i)}\\end{bmatrix}& J_{\\omega}^i=\\begin{bmatrix}J_{4:6,:1:i}&0_{3\\times(n-i)}\\end{bmatrix} \\\\\n",
    "C_{i,j}(q,\\dot q)=\\frac{\\partial M}{\\partial t}-\\frac{1}{2}\\dot q^T\\frac{\\partial M}{\\partial q}= 0+\\frac{1}{2}\\sum_{k=1}^n(\\frac{\\partial M_{ij}}{\\partial q_k}+\\frac{\\partial M_{ik}}{\\partial q_j}-\\frac{\\partial M_{kj}}{\\partial q_i})\\dot q_k  \\\\\n",
    "g_i(q)=\\frac{\\partial V}{\\partial q_i}  \\\\\n",
    "\\underline{\\underline{Q}}u=\\Upsilon=\\sum_iJ_i^T\\bar{\\tau_{S_i}^{adj}} + \\sum_iJ_i^T\\bar{\\tau_{S_i}^{ext}}= \\tau + \\sum_iJ_i^T\\begin{pmatrix} \\vec{f_i}\\times \\vec{C_iP} \\\\ \\vec{f_i} \\end{pmatrix} &\n",
    "J_i=\\begin{bmatrix}J_{:,1:i}&0_{6\\times(n-i)}\\end{bmatrix} \\end{cases}$$  "
   ]
  },
  {
   "cell_type": "markdown",
   "metadata": {},
   "source": [
    "假设$x=\\begin{pmatrix} q\\\\ \\dot q\\end{pmatrix}$是系统的状态变量，系统有平衡点$x_e=\\begin{pmatrix} q_e \\\\ 0 \\end{pmatrix}$，则有状态方程：\n",
    "$$ \\dot x=f(x)+g(x)u=\\begin{pmatrix}\\dot q \\\\ \\underline{\\underline{M}}^{-1}(q)(-\\underline{\\underline{C}}(q,\\dot q)\\dot q - \\underline{g}(q)) \\end{pmatrix} +\\begin{pmatrix} 0 \\\\ \\underline{\\underline{M}}^{-1}(q)\\underline{\\underline{Q}} \\end{pmatrix}u$$\n",
    "于是在平衡点处需要稳定输入：$u_e=\\underline{\\underline{Q}}^{-1}\\underline{g}(q_e)$  \n",
    "状态方程被写作：\n",
    "$$ \\dot X=AX+BU$$\n",
    "where:\n",
    "$$A=\\begin{bmatrix}O & I \\\\ -M^{-1}_{x_e}\\frac{\\partial g}{\\partial q}|_{x_e} & O \\end{bmatrix}, B=\\begin{bmatrix} O \\\\ M^{-1}_{x_e}Q|_{x_e} \\end{bmatrix}, X=x-x_e, U=u-u_e$$"
   ]
  },
  {
   "cell_type": "markdown",
   "metadata": {},
   "source": [
    "## - 运动方程求逆及奇异形\n",
    "运动方程$\\dot q_p = J·\\dot q_r$  \n",
    "\n",
    "   - $m\\neq n$时，$J\\in R^{n\\times m}$，则$J^{\\dagger}$是违逆     \n",
    "        - m<n时，$J^{\\dagger}=(J^TJ)^{-1}J^T$,驱动自由度小于末端运动自由度，方程只有一个近似解，满足$\\dot q=arg\\min_{\\dot q} ||\\dot X-J\\dot q||^2$，也即末端运动部分自由度固定，例如，五自由度操作机不满足末端六自由度的运动要求。\n",
    "        - m>n时，$J^{\\dagger}=J^T(JJ^T)^{-1}$,驱动自由度多于末端运动自由度，方程有无数解，其中冗余变量(m-n)个可进行优化。\n",
    "\n",
    "   - m=n时，J为方阵，  \n",
    "        - $|J|\\neq0$，存在$J^{-1}$，则$\\dot q_r =J^{-1}·\\dot q_p$\n",
    "        - |J|=0，此时称雅可比矩阵为奇异矩阵，表示此时某些关节自由度重叠，末端达到某级包络上。可建立奇异位形曲面方程如下：\n",
    "$$\\frac{\\partial r}{\\partial q_i}·(\\frac {\\partial r}{\\partial q_{n-1}} \\times \\frac {\\partial r}{\\partial q_n})=\\left\\lgroup \\matrix{\\frac{\\partial r_x}{\\partial q_i} & \\frac{\\partial r_x}{\\partial q_{n-1}} & \\frac{\\partial r_x}{\\partial q_n} \\cr \\frac{\\partial r_y}{\\partial q_i} & \\frac{\\partial r_y}{\\partial q_{n-1}} & \\frac{\\partial r_y}{\\partial q_n}\\cr \\frac{\\partial r_z}{\\partial q_i} & \\frac{\\partial r_z}{\\partial q_{n-1}} & \\frac{\\partial r_z}{\\partial q_n}} \\right\\rgroup=0$$ $$\\frac {\\partial r}{\\partial q_{n-1}} \\neq \\frac {\\partial r}{\\partial q_n}\\neq0$$\n",
    "    从而解得曲面方程"
   ]
  },
  {
   "cell_type": "markdown",
   "metadata": {},
   "source": [
    "# 并联机器人建模\n",
    "\n",
    "假设一个并联机器人有n条分路，每条分路有m个关节。取其中一条分路来研究，在平台上任意一p点有速度：\n",
    "$$ \\dot q_p = \\sum_i^m\\$_i \\dot q_i $$\n",
    "假设m个关节中，有第r个关节是受控的，那么存在一个$\\$^{rec}_r$，使得：\n",
    "$$ \\$^{rec}_r \\$_i=0, \\forall i=r$$\n",
    "有：\n",
    "$$\\$^{rec}_r \\dot q_p = \\$^{rec}_r \\sum_i^m\\$_i \\dot q_i= \\$^{rec}_r \\$_r \\dot q_r$$\n",
    "也可以写作：\n",
    "$$ D\\dot q_p = B \\dot q_r $$\n",
    "\n",
    "## - 奇异形\n",
    "- 若矩阵D不可逆，则存在共点现象。\n",
    "- 若矩阵B不可逆，则存在平行现象。"
   ]
  },
  {
   "cell_type": "markdown",
   "metadata": {},
   "source": [
    "# 微分运动（扰动）：\n",
    "\n",
    "   1. **关节广义坐标系r与世界直角坐标系e之间的微分关系**：$(\\dot q_e·dt)=\\delta p=J·\\delta q=J·(\\dot q_r dt)$  \n",
    "        \n",
    "   2. **世界直角坐标系与世界直角坐标系之间的微分**：  \n",
    "       a.**微小扰动的变换表达式**：$\\delta ^j_{j^*}=\\left\\lgroup \\matrix{1 & -\\delta _z & \\delta _y & dx \\cr \\delta _z & 1 & -\\delta_x & dy \\cr -\\delta_y & \\delta_x & 1 & dz \\cr 0 & 0 & 0 & 1} \\right\\rgroup$ 表示j坐标系相对于自身发生空间变换，得到$j^*$坐标系  \n",
    "            比如说:原本有空间连杆其末端在基座标系0下表示为：\n",
    "$$T_n^0 = IT_1^0T^1_2···T_N^{n-1}$$  \n",
    "            现在在第i自由度处产生一扰动，i坐标系稍微发生变化，那么空间连杆的末端在基座标系下就表示为：\n",
    "$$\\bar T^0_n= IT_1^0T^1_2···T^{i-2}_{i-1}(T^{i-1}_i·T^i_{i^*})T_{i+1}^{i^*}···T_N^{n-1}$$\n",
    "            在这里，我们不难想象坐标变换$T_{i+1}^{i^*}$其实就是$T_{i+1}^{i}$，因为无论i+1坐标系上一个坐标系是谁，他都是相对上一个坐标系转动或移动了相同的大小。\n",
    "      b. **扰动前后空间变换矩阵的关系**：设$T^{0}_{i^*}=T^{0}_i+dT$，那么：$dT=T^{0}_{i^*}-T^{0}_i=(\\delta ^0_{i^*}-1)T_i^{0}=T_i^{0}(\\delta ^i_{i^*}-1)=T_i^{0}\\delta$  \n",
    "        在这里，$\\delta^i_{i^*}$其实就是$T_{i+1}^{i^*}$是i坐标系相对自身坐标系发生的扰动，而$\\delta ^0_{i^*}$表示i坐标系相对于基座标系发生的扰动"
   ]
  },
  {
   "cell_type": "markdown",
   "metadata": {},
   "source": [
    "# 路径规划  \n",
    "   路径规划可分为两点间路径规划和多点间路径规划(PTP)；也可分为广义关节坐标空间路径规划，和世界直角坐标空间路径规划；也可分为PTP和CP（规定轨迹路径规划）。  \n",
    "    \n",
    ">例如：**PTP模型**，通常情况下，为避免机构受到较大的冲击而采用多项式方程来构造高次样条曲线，从而差值出路径。  \n",
    "\n",
    ">令$\\vec q(t)=\\sum^4_{i=0} \\vec a_it^i=\\sum _{i=0}^4 a_i(\\frac{h}{T})^i$构造出一个4次样条曲线，其中T为总运行时间，h取值0到1之间  \n",
    "\n",
    ">我们可以通过给定的边界条件，从而求解出权因子$\\vec a_i$,进而得到$\\vec q(h)=\\vec q(h|a_i)$\n",
    "\n",
    "我们把**多点路径不停顿问题**也看作是规定轨迹路径问题（CP问题），则可由**高阶拉格朗日差值多项式**或**四阶基函数分段曲线**来差值多点，构造成曲线P(s)，s为弧长，由扰动变化方程知道，$P(S|\\delta s)=I\\prod ^n_{i=0} P^{i-1}_i \\delta ^i_{i^*}$，其中$P(S|\\delta s)$表示$\\delta t$时间变化，基座标系下空间连杆末端的位姿矩阵。"
   ]
  },
  {
   "cell_type": "markdown",
   "metadata": {},
   "source": [
    "# 误差分析  \n",
    "   其实，我们在之前描述的扰动就是一种误差的存在，误差可以存在任意关节处，可以以控制精度存在、以零件制造精度存在、部件装配精度存在，还可以以测量精度存在等等，可以说误差总是或多或少的存在着。  \n",
    "    \n",
    ">以电位计为伺服定位装置的广义自由度误差呈现正态分布；以编码器为伺服定位装置的广义自由度误差呈现均匀分布。对于连杆几何参数的偏差，用测量过的构件装配出来的机器人，他的误差是唯一确定的；对于设计图纸上的机器人或者用任意构建装配的机器人，可以认为它在其对应的公差带内是随机的呈现均匀分布。\n",
    "\n",
    "**末端执行器位姿误差的方差和协方差**  \n",
    "$$V=\\left\\lgroup \\matrix{V(dx,dx) & V(dx,dy) & V(dx,dz) & V(dx,\\delta x) & V(dx,\\delta y) & V(dx,\\delta z) \\cr\n",
    "V(dy,dx) & V(dy,dy) & V(dy,dz) & V(dy,\\delta x) & V(dy,\\delta y) & V(dy,\\delta z) \\cr\n",
    "V(dz,dx) & V(dz,dy) & V(dz,dz) & V(dz,\\delta x) & V(dz,\\delta y) & V(dz,\\delta z) \\cr\n",
    "V(\\delta x,dx) & V(\\delta x,dy) & V(\\delta x,dz) & V(\\delta x,\\delta x) & V(\\delta x,\\delta y) & V(\\delta x,\\delta z) \\cr\n",
    "V(\\delta y,dx) & V(\\delta y,dy) & V(\\delta y,dz) & V(\\delta y,\\delta x) & V(\\delta y,\\delta y) & V(\\delta y,\\delta z) \\cr\n",
    "V(\\delta z,dx) & V(\\delta z,dy) & V(\\delta z,dz) & V(\\delta z,\\delta x) & V(\\delta z,\\delta y) & V(\\delta z,\\delta z) \\cr} \\right\\rgroup$$\n",
    "其中：  \n",
    "$V(dx)=\\sum_{i=1}^n \\alpha _{x_i}^2V(\\delta _i);$  \n",
    "$V(dy)=\\sum_{i=1}^n \\alpha _{y_i}^2V(\\delta _i);$  \n",
    "$V(dz)=\\sum_{i=1}^n \\alpha _{z_i}^2V(\\delta _i);$  \n",
    "$V(\\delta x)=\\sum_{i=1}^n \\beta _{x_i}^2V(\\delta _i);$  \n",
    "$V(\\delta y)=\\sum_{i=1}^n \\beta _{y_i}^2V(\\delta _i);$  \n",
    "$V(\\delta z)=\\sum_{i=1}^n \\beta _{z_i}^2V(\\delta _i);$  \n",
    "$V(dx,dy)=\\sum_{i=1}^n \\alpha_{x_i}\\alpha_{y_i}V(\\delta_i);$  \n",
    "$V(dx,dz)=\\sum_{i=1}^n \\alpha_{x_i}\\alpha_{z_i}V(\\delta_i);$  \n",
    "$V(dy,dz)=\\sum_{i=1}^n \\alpha_{y_i}\\alpha_{z_i}V(\\delta_i);$  \n",
    "\n"
   ]
  },
  {
   "cell_type": "markdown",
   "metadata": {},
   "source": [
    "那么，末端位姿误差接近正态分布。假设误差变量为三维变量为（dx,dy,dz），它的联合密度函数：\n",
    "$$f(dx,dy,dz)=\\frac{1}{(2\\pi)^{\\frac32}det(\\mathbf{V})}EXP(-\\frac12[dx,dy,dz]\\mathbf{V}^{-1}[dx,dy,dz]^T)$$"
   ]
  },
  {
   "cell_type": "markdown",
   "metadata": {},
   "source": [
    "如果，$\\mathbf{V}=\\left\\lgroup \\matrix{\\sigma _1 \\cr & \\sigma_2 \\cr & & \\sigma_3} \\right\\rgroup$,  \n",
    "\n",
    "则：$f(dx,dy,dz)=\\frac{1}{(2\\pi)^{\\frac32}\\sigma_1\\sigma_2\\sigma_3}EXP(-\\frac12((\\frac{dx}{\\sigma_1})^2+(\\frac{dy}{\\sigma_2})^2+(\\frac{dz}{\\sigma_3})^2))$"
   ]
  },
  {
   "cell_type": "markdown",
   "metadata": {},
   "source": [
    "**概率分布**"
   ]
  },
  {
   "cell_type": "markdown",
   "metadata": {},
   "source": [
    "$P(|\\omega_i|\\leq R_i)=\\int_{-R_i}^{R_i}f(\\omega_i)d\\omega_i$  \n",
    "\n",
    "其中，\n",
    "\n",
    "$f(\\omega_i)=\\frac{1}{(2\\pi)^{\\frac32}\\sigma_i}EXP(-\\frac12(\\frac{\\omega_i}{\\sigma_i})^2)$"
   ]
  }
 ],
 "metadata": {
  "kernelspec": {
   "display_name": "Python 3",
   "language": "python",
   "name": "python3"
  },
  "language_info": {
   "codemirror_mode": {
    "name": "ipython",
    "version": 3
   },
   "file_extension": ".py",
   "mimetype": "text/x-python",
   "name": "python",
   "nbconvert_exporter": "python",
   "pygments_lexer": "ipython3",
   "version": "3.6.3"
  }
 },
 "nbformat": 4,
 "nbformat_minor": 2
}
