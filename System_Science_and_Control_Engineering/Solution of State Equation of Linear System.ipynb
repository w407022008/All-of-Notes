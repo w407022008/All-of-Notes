{
 "cells": [
  {
   "cell_type": "markdown",
   "metadata": {},
   "source": [
    "[中文版](http://nbviewer.jupyter.org/github/w407022008/All-of-Notes/blob/master/System_Science_and_Control_Engineering/线性系统状态方程的解%20Solution%20of%20linear%20state%20space%20equation.ipynb)"
   ]
  },
  {
   "cell_type": "markdown",
   "metadata": {},
   "source": [
    "# Solution of linear system equation\n",
    "- Solution of State Equation of Linear Time-Invariant Continuous System\n",
    "- Solution of State Equation of Linear Time-Variant Continuous System\n",
    "- Discretization of state space model for linear continuous systems\n",
    "- Solution of State Equation of Linear Discrete System\n",
    "    - Linear Time-Invariant System\n",
    "    - Linear Time-Variant System"
   ]
  },
  {
   "cell_type": "markdown",
   "metadata": {},
   "source": [
    "## Solution of State Equation of Linear Time-Invariant Continuous System\n",
    "\n",
    "Defining the state of a movement from the state of $t_0$ to the time of $t$ is a transfer process. Then the mathematical form describing such a process is written as: $$X(t)=\\phi(t-t_0)X(t_0)$$ $\\phi$ is called the state transition matrix."
   ]
  },
  {
   "cell_type": "markdown",
   "metadata": {},
   "source": [
    "- For a state differential equation：$\\dot X=AX+BU$，there is a Laplace transform：$X(s)=(sI-A)^{-1}X_0+(sI-A)^{-1}BU(s)$，Then there is a ** state response** (Laplace inverse transform)：$$X(t)=L^{-1}((sI-A)^{-1}X_0)+L^{-1}((sI-A)^{-1}BU(s))$$\n",
    "$$=e^{A(t-t_0)}X_0+\\lmoustache _{t_0}^t e^{A(t-\\tau)}BU(\\tau)d\\tau$$\n",
    "$$=\\phi(t-t_0)X(t_0)+\\lmoustache_{t_0}^t\\phi(t-\\tau)BU(\\tau)d\\tau$$"
   ]
  },
  {
   "cell_type": "markdown",
   "metadata": {},
   "source": [
    "- For a state space model：$\\begin{cases} \\dot X=AX+BU \\\\ Y=CX+DU \\end{cases}$，there is a ** output response**：\n",
    "$$Y(t)=C\\phi(t-t_0)X(t_0)+\\lmoustache_{t_0}^tC\\phi(t-\\tau)BU(\\tau)d\\tau+DU(t)$$\n",
    "the product term$C\\phi(t-t_0)X(t_0)$ is called as **zero input response**，the convolution term$\\lmoustache_{t_0}^tC\\phi(t-\\tau)BU(\\tau)d\\tau$ is called as **zero state response**，the remaining item $DU(t)$ is called as **Input and Output Feed Forward**。\n",
    "> $\\phi(t-t_0)=e^{A(t-t_0)}X_0=I+A(t-t_0)+\\frac{A^2}{2!}(t-t_0)^2+\\cdots$\n",
    "if，$U(\\tau)=\\delta(\\tau)$(unit pulse function)，and $X(t_0)=0$，then $Y(t)=h(t)$(unit impulse response)，$h(t)=L^{-1}(C(sI-A)^{-1}B+D)$"
   ]
  },
  {
   "cell_type": "markdown",
   "metadata": {},
   "source": [
    "## - Calculation of matrix exponential function in Matlab\n",
    "\n",
    "- Numeral Calculations：$e^{At}=expm(A*t)$\n",
    "``` matlab\n",
    "expm(A*t)\n",
    "```\n",
    "- Symbolic calculation:\n",
    "``` matlab\n",
    "syms x t\n",
    "f1='sin(x)^2+cos(x)^3-3';\n",
    "A=sym('[f1 0; 0 0]');\n",
    "expm(A*t)\n",
    "```"
   ]
  },
  {
   "cell_type": "code",
   "execution_count": 4,
   "metadata": {},
   "outputs": [
    {
     "name": "stdout",
     "output_type": "stream",
     "text": [
      "\n",
      "f1 =\n",
      "\n",
      "    'sin(x)^2+cos(x)^3-3'\n",
      "\n",
      " \n",
      "A =\n",
      " \n",
      "[ A1_1, A1_2]\n",
      "[ A2_1, A2_2]\n",
      " \n",
      " \n",
      "ans =\n",
      " \n",
      "A1_1*A2_2*t^2 - A1_2*A2_1*t^2\n",
      " \n",
      "\n"
     ]
    }
   ],
   "source": [
    "syms x t\n",
    "f1='sin(x)^2+cos(x)^3-3'\n",
    "A = sym('A',[2 2])\n",
    "det(A*t)\n",
    "expm(A*t);"
   ]
  },
  {
   "cell_type": "markdown",
   "metadata": {},
   "source": [
    "## Solution of State Equation of Linear Time-Variant Continuous System\n",
    "\n",
    "For a state differential equation：$\\dot X(t)=A(t)X(t)+B(t)U(t)$，it exists **status response**：$$X(t)=\\Phi(t,t_0)X(t_0)+\\lmoustache_{t_0}^t\\Phi(t,\\tau)BU(\\tau)d\\tau$$\n",
    "the product term $\\Phi(t,t_0)X(t_0)$ is called as **zero input response**，the convolution term $\\lmoustache_{t_0}^t\\Phi(t,\\tau)BU(\\tau)d\\tau$ is called as **zero state response**  \n",
    "Obviously, the **output response**：$$Y(t)=C(t)X(t)+D(t)U(t)=C(t)\\Phi(t,t_0)X(t_0)+C(t)\\lmoustache_{t_0}^t\\Phi(t,\\tau)BU(\\tau)d\\tau+D(t)U(t)$$\n",
    "> $\\Phi(t,t_0)=e^{\\lmoustache_{t_0}^tA(\\tau)d\\tau}$"
   ]
  },
  {
   "cell_type": "markdown",
   "metadata": {},
   "source": [
    "Therefore, the linear continuous system state transition equation can be uniformly represented as：$$X(t)=\\Phi X(t_0)+\\lmoustache_{t_0}^t\\Phi BU(\\tau)d\\tau$$\n",
    "where，\n",
    "- Time-invariant system has：$\\Phi=\\phi(t-t_0)=e^{A(t-t_0)}$\n",
    "- Time-variant system has：$\\Phi=\\Phi(t,t_0)=e^{\\lmoustache_{t_0}^tA(\\tau)d\\tau}$"
   ]
  },
  {
   "cell_type": "markdown",
   "metadata": {},
   "source": [
    "## Discretization of state space model for linear continuous systems\n",
    "\n",
    "- Time-invariant system has a state equation：$\\dot X=AX+BU$，State transition equation：$X(t)=\\phi(t-t_0)X(t_0)+\\lmoustache_{t_0}^t\\phi(t-\\tau)BU(\\tau)d\\tau$\n",
    "    Can be seen as：$$X((k+1)T)=\\phi(T)X(kT)+\\lmoustache_{kT}^{(k+1)T}\\phi((k+1)T-\\tau)BU(\\tau)d\\tau=\\phi(T)X(kT)+\\lmoustache_{0}^{T}\\phi(\\tau)d\\tau BU(kT)$$  \n",
    "    Then there is，$\\begin{cases} G(T)=\\phi(T)=e^{AT} \\\\ H(T)=\\lmoustache_0^T\\phi(t)dtB=\\lmoustache_0^Te^{At}dtB \\end{cases}$ preserve first-order precision ('zoh'), there is：$\\begin{cases} G(T)=I+ AT \\\\ H(T)=BT \\end{cases}$"
   ]
  },
  {
   "cell_type": "markdown",
   "metadata": {},
   "source": [
    "- Time-variant system has a state equation：$\\dot X(t)=A(t)X(t)+B(t)U(t)$，State transition equation：$X(t)=\\Phi(t,t_0)X(t_0)+\\lmoustache_{t_0}^t\\Phi(t,\\tau)BU(\\tau)d\\tau$ Can be seen as：$$X((k+1)T)=\\phi((k+1)T,kT)X(kT)+\\lmoustache_{kT}^{(k+1)T}\\phi((k+1)T,\\tau)B(\\tau)U(\\tau)d\\tau=\\phi((k+1)T,kT)X(kT)+\\lmoustache_{kT}^{(k+1)T}\\phi((k+1)T,\\tau)Bd\\tau U(kT)$$\n",
    "Then there is，$\\begin{cases} G(kT)=\\phi((k+1)T,kT) \\\\ H(T)=\\lmoustache_{kT}^{(k+1)T}\\Phi((k+1)T,\\tau)B(\\tau)d\\tau \\end{cases}$ preserve first-order precision ('zoh'), there is：$\\begin{cases} G(T)=e^{\\lmoustache_{kT}^{(k+1)T}A(t)dt} \\\\ H(T)=\\lmoustache_{kT}^{(k+1)T}e^{\\lmoustache_{kT}^{(k+1)T}A(t)dt}B(\\tau)d\\tau \\end{cases}$"
   ]
  },
  {
   "cell_type": "markdown",
   "metadata": {},
   "source": [
    "## Continuous system discretization and discrete system continuity in Matlab\n",
    "\n",
    "``` matlab\n",
    "sys_dis=c2d(sys,Ts,'method') %①'zoh' :Zero-order hold (default)，②'foh' :modified first-order hold\n",
    "sys_con=d2c(sys_dis,'method')\n",
    "```"
   ]
  },
  {
   "cell_type": "code",
   "execution_count": 11,
   "metadata": {},
   "outputs": [
    {
     "name": "stdout",
     "output_type": "stream",
     "text": [
      "\n",
      "G =\n",
      "\n",
      "   87.8953  149.7836\n",
      "  224.6754  387.4625\n",
      "\n",
      "\n",
      "A =\n",
      "\n",
      "    1.0000    2.0000\n",
      "    3.0000    5.0000\n",
      "\n",
      "\n"
     ]
    }
   ],
   "source": [
    "A=[1 2;3 5];B=[2;2];C=[1 0];\n",
    "sys=ss(A,B,C,[]);\n",
    "sys_dis=c2d(sys,1,'zoh');\n",
    "sys_con=d2c(sys_dis);\n",
    "G=sys_dis.a\n",
    "A=sys_con.a"
   ]
  },
  {
   "cell_type": "markdown",
   "metadata": {},
   "source": [
    "## Solution of State Equation of Linear Discrete System\n",
    "\n",
    "- Zero input response：[y,x,t]=initial(sys,$x_0$,t)\n",
    "- Step function response：[y,x,t]=step(sys,t)\n",
    "- Pulse function response：[y,x,t]=impulse(sys,t)\n",
    "- System response with input：[y,x,t]=lsim(sys,u,t,$x_0$)  \n",
    "    Where u is the specified input vector. it can also generate input：[u,t]=gensig(type,cycle time,total time,sampling time),type='sin';'square';'puls'"
   ]
  },
  {
   "cell_type": "code",
   "execution_count": 14,
   "metadata": {},
   "outputs": [
    {
     "name": "stdout",
     "output_type": "stream",
     "text": [
      "\n"
     ]
    },
    {
     "data": {
      "image/png": "[encoded data removed]",
      "text/plain": [
       "<IPython.core.display.Image object>"
      ]
     },
     "metadata": {},
     "output_type": "display_data"
    }
   ],
   "source": [
    "impulse(sys)"
   ]
  }
 ],
 "metadata": {
  "kernelspec": {
   "display_name": "Matlab",
   "language": "matlab",
   "name": "matlab"
  },
  "language_info": {
   "codemirror_mode": "octave",
   "file_extension": ".m",
   "help_links": [
    {
     "text": "MetaKernel Magics",
     "url": "https://github.com/calysto/metakernel/blob/master/metakernel/magics/README.md"
    }
   ],
   "mimetype": "text/x-octave",
   "name": "matlab",
   "version": "0.15.2"
  }
 },
 "nbformat": 4,
 "nbformat_minor": 2
}
