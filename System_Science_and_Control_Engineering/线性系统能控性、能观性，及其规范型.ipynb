{
 "cells": [
  {
   "cell_type": "markdown",
   "metadata": {},
   "source": [
    "# 线性连续系统的能控性\n",
    "\n",
    ">**状态能控性**的直观定义：若状态变量$X(t)$能够受到输入的影响，从任意时刻开始在有限时间内，状态变量能够从任意初始状态回到原点，则称该系统状态能控。**输出能控性**同理。"
   ]
  },
  {
   "cell_type": "markdown",
   "metadata": {},
   "source": [
    "## - 线性定常连续系统的状态能控性判别\n",
    "   - **代数判据：**\n",
    "       - 若矩阵$e^{At}B$的各行线性无关，则系统能控\n",
    "       - **若能控性矩阵$Q_c=\\begin{bmatrix}B& AB& A^2B& \\cdots& A^{n-1}B\\end{bmatrix}$满足$rank(Q_c)=n$（$Q_c$各行线性无关），则系统能控**\n",
    "       - 当状态维数n，输入维数为p，$rank(B)=r$时，若$rank(Q_{n-r+1})=rank(\\begin{bmatrix}B& AB& \\cdots& A^{n-r}B\\end{bmatrix})=n$，则系统能控\n",
    "   - **模态判据：**\n",
    "   > 线性定常系统经线性变换后，状态能控性保持不变  \n",
    "   \n",
    "      - 若A为每个特征值仅有一个Jordan块的Jordan矩阵，则系统能控充要条件为：B矩阵中与A矩阵的每个Jordan块相对应的子矩阵的最后一行都不全为零。\n",
    "      - 若存在一个特征值对应多个Jordan块的情况，则系统能控的充要条件为：B矩阵中与A矩阵的每个特征值所对应得所有Jordan块得子矩阵得最后一行线性无关  \n",
    "      i.e. \n",
    "         1. $A=\\begin{bmatrix}-7&0\\\\0&-5\\end{bmatrix},B=\\begin{bmatrix}2\\\\5\\end{bmatrix}$，显然，A为特征值互异的Jordan矩阵，B中各行不全为零，所以系统完全可控\n",
    "         2. $A=\\begin{bmatrix}-4&1&0\\\\0&-4&0\\\\0&0&-3\\end{bmatrix},B=\\begin{bmatrix}0&0\\\\0&0\\\\1&1\\end{bmatrix}$，显然，存在特征值-4和特征值-3的Jordan块，其中，B矩阵的第二行全为零，所以系统不完全可控\n",
    "         3. $A=\\begin{bmatrix}-4&1&0&0\\\\0&-4&0&0\\\\0&0&-3&0\\\\0&0&0&-4\\end{bmatrix},B=\\begin{bmatrix}0\\\\1\\\\2\\\\3\\end{bmatrix}$，显然，存在特征值-4和特征值-3的Jordan块，且特征值-4存在两个Jordan块，其中，B矩阵的第二行和第四行线性相关，所以系统不完全可控\n",
    "    \n",
    "   - **PBH秩判据：**  \n",
    "        **若对于所有特征值$\\lambda_i$，有$rank(\\begin{bmatrix}\\lambda_iI-A& B\\end{bmatrix})=n$，则$\\sum(A,B)$状态完全可控**"
   ]
  },
  {
   "cell_type": "markdown",
   "metadata": {},
   "source": [
    "## - 线性定常连续系统的输出能控性判别\n",
    "    \n",
    "   充要条件：输出能控矩阵$Q_c=\\begin{bmatrix}CB& CAB& CA^2B& \\cdots& CA^{n-1}B& D\\end{bmatrix}$满秩\n",
    "    > 注意！输出能控性与状态能控性不等价，之间没有必然联系\n",
    "**MATLAB函数**\n",
    "``` matlab\n",
    "Qc=ctrb(A,B);```\n",
    "or\n",
    "``` matlab\n",
    "Qc=ctrb(sys);\n",
    "```"
   ]
  },
  {
   "cell_type": "code",
   "execution_count": 19,
   "metadata": {},
   "outputs": [
    {
     "name": "stdout",
     "output_type": "stream",
     "text": [
      "\n",
      "ans =\n",
      "\n",
      "  logical\n",
      "\n",
      "   0\n",
      "\n",
      "\n",
      "ans =\n",
      "\n",
      "  logical\n",
      "\n",
      "   1\n",
      "\n",
      "\n"
     ]
    }
   ],
   "source": [
    "A=[1 0;0 1]; B=[1;0];C=[1 0];D=[];\n",
    "Qc=ctrb(A,B);\n",
    "rank(Qc)==size(Qc,1)\n",
    "Q=[C*B C*A*B D];\n",
    "rank(Q)==size(Q,1)"
   ]
  },
  {
   "cell_type": "markdown",
   "metadata": {},
   "source": [
    "## - 线性时变连续系统的状态能控性\n",
    "\n",
    "   - Gram矩阵判据：若$\\exists t_1>t_0$，使得矩阵$W_c(t_0,t_1)=\\lmoustache_{t_0}^{t_1}\\phi(t_0,t)B(t)B^T(t)\\phi^T(t_0,t)dt$非奇异，则系统$\\sum(A(t),B(t))$在初始时刻$t_0$处系统状态完全可控。\n",
    "   - 秩判据（充分条件）：能控矩阵$Q_c(t)=\\begin{bmatrix}B_1(t)& B_2(t)& \\cdots& B_n(t)\\end{bmatrix}$，其中$\\begin{cases}B_1(t)=B(t)\\\\B_i(t)=-A(t)B_{i-1}(t)+\\dot B_{i-1}(t)\\end{cases}$。若$Q_c$满秩（$rank(Q_c(t))=n$），则系统状态完全可控。"
   ]
  },
  {
   "cell_type": "markdown",
   "metadata": {},
   "source": [
    "# 线性连续系统能观性\n",
    "\n",
    "> **状态能观性**的直观定义：在不考虑输入情况下，且在任意时刻$t_0$有任意初始状态$X_0$，若能够根据输出变量Y唯一确定系统的初始状态，则系统完全能观。"
   ]
  },
  {
   "cell_type": "markdown",
   "metadata": {},
   "source": [
    "## - 线性定常连续系统的状态能观性判据\n",
    "\n",
    "   - **代数判据**\n",
    "       - 矩阵函数$Ce^{At}$的各列线性无关，则系统状态完全能观\n",
    "       - **能观性矩阵$Q_o=\\begin{bmatrix}C\\\\CA\\\\ \\vdots\\\\CA^{n-1}\\end{bmatrix}$满秩（$rank(Q_o)=n$），则系统状态完全可观**  \n",
    "       \n",
    "        **MATLAB函数**\n",
    "``` matlab\n",
    "Qo=obsv(A,C);\n",
    "Qo=obsv(sys);\n",
    "```\n",
    "   - **模态判据**\n",
    "       > 线性定常连续系统经线性变换后，状态能观性不变  \n",
    "       \n",
    "       - 若A矩阵的每个特征值都仅有一个Jordan块，那么状态能观性的充要条件：C矩阵中与A矩阵的每个Jordan块相对应的子矩阵的最后一列都不全为零。\n",
    "       - 若存在一个特征值对应多个Jordan块的情况，则状态能观性的充要条件为：C矩阵中与A矩阵的每个特征值所对应得所有Jordan块得子矩阵得最后一列线性无关\n",
    "   - **PBH秩判据**  \n",
    "       **若对于所有特征值$\\lambda_i$，有$rank(\\begin{bmatrix}\\lambda_iI-A \\\\ C\\end{bmatrix})=n$，则$\\sum(A,C)$状态完全能观**"
   ]
  },
  {
   "cell_type": "markdown",
   "metadata": {},
   "source": [
    "## - 线性时变连续系统的状态能观性判据\n",
    "\n",
    "   - Gram矩阵判据：若$\\exists t_1>t_0$，使得矩阵$W_o(t_0,t_1)=\\lmoustache_{t_0}^{t_1}\\phi^T(t_0,t)C^T(t)C(t)\\phi(t_0,t)dt$非奇异，则系统$\\sum(A(t),C(t))$在初始时刻$t_0$处系统状态完全可观。\n",
    "   - 秩判据（充分条件）：能观矩阵$Q_o(t)=\\begin{bmatrix}C_1(t)\\\\ C_2(t)\\\\ \\vdots\\\\ C_n(t)\\end{bmatrix}$，其中$\\begin{cases}C_1(t)=C(t)\\\\C_i(t)=C_{i-1}(t)A(t)+\\dot C_{i-1}(t)\\end{cases}$。若$Q_o$满秩（$rank(Q_o(t))=n$），则系统状态完全可观。"
   ]
  },
  {
   "cell_type": "markdown",
   "metadata": {},
   "source": [
    "# 线性离散系统的能控性、能观性、能达性\n",
    "\n",
    "> **状态能达性**的直观定义：存在一个最终状态$X_1$，系统受到输入的作用，在t时刻，状态量从零初始状态达到最终状态$X_1$，则称状态$X_1$是可达的。若$X_1$为任意状态空间点，则称系统状态完全可达"
   ]
  },
  {
   "cell_type": "markdown",
   "metadata": {},
   "source": [
    "！待续"
   ]
  },
  {
   "cell_type": "markdown",
   "metadata": {},
   "source": [
    "# 能控规范型和能观规范型\n",
    "\n",
    "> 目标：通过线性变换将系统的状态空间模型变成：1、能方便系统的状态反馈设计的能控规范型；2、能方便系统的状态观测器设计的能观规范型"
   ]
  },
  {
   "cell_type": "markdown",
   "metadata": {},
   "source": [
    "！待续"
   ]
  },
  {
   "cell_type": "markdown",
   "metadata": {},
   "source": [
    "# 对偶原理\n",
    "\n",
    "给定两个线性定常连续系统：$$\\sum(A,B,C):\\begin{cases}\\dot X=AX+BU\\\\Y=CX\\end{cases}$$ $$\\sum(\\bar{A},\\bar{B},\\bar{C}):\\begin{cases}\\dot {\\bar{X}}=\\bar{A}\\bar{X}+\\bar{B}\\bar{U}\\\\Y=\\bar{C}\\bar{X}\\end{cases}$$\n",
    "满足关系：$\\bar{A}=A^T,\\bar{B}=C^T,\\bar{C}=B^T$，则称系统$\\sum(A,B,C)$和系统$\\sum(\\bar{A},\\bar{B},\\bar{C})$互为对偶，有性质：  \n",
    "\n",
    "- 对偶系统传递函数互为转置，特征方程及特征值相同\n",
    "- $\\sum$的能控性（能观性）$\\Leftrightarrow \\bar{\\sum}$的能观性（能控性）"
   ]
  },
  {
   "cell_type": "markdown",
   "metadata": {},
   "source": [
    "# 线性定常连续系统的结构性分解\n",
    "\n",
    "- **能控性分解**  \n",
    "``` \n",
    "[Ac,Bc,Cc,Tc,nc]=ctrbf(A,B,C,tol);\n",
    "``` tol为容许误差，Tc为线性变换阵，nc为能控维数组, \n",
    "$Ac=\\begin{bmatrix}A_{nc}&O\\\\A_{21}&A_c\\end{bmatrix}$ $Bc=\\begin{bmatrix}O\\\\B_c\\end{bmatrix}$ $Cc=\\begin{bmatrix}C_{nc}&C_c\\end{bmatrix}$\n",
    "- **能观性分解**  \n",
    "``` \n",
    "[Ao,Bo,Co,To,no]=ctrbf(A,B,C,tol);\n",
    "``` tol为容许误差，To为线性变换阵，no为能控维数组, \n",
    "$Ao=\\begin{bmatrix}A_{no}&A_{12}\\\\O&A_o\\end{bmatrix}$ $Bo=\\begin{bmatrix}B_{no}\\\\B_o\\end{bmatrix}$ $Cc=\\begin{bmatrix}O&C_o\\end{bmatrix}$"
   ]
  }
 ],
 "metadata": {
  "kernelspec": {
   "display_name": "Matlab",
   "language": "matlab",
   "name": "matlab"
  },
  "language_info": {
   "codemirror_mode": "octave",
   "file_extension": ".m",
   "help_links": [
    {
     "text": "MetaKernel Magics",
     "url": "https://github.com/calysto/metakernel/blob/master/metakernel/magics/README.md"
    }
   ],
   "mimetype": "text/x-octave",
   "name": "matlab",
   "version": "0.15.2"
  }
 },
 "nbformat": 4,
 "nbformat_minor": 2
}
