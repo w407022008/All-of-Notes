{
 "cells": [
  {
   "cell_type": "markdown",
   "metadata": {},
   "source": [
    "# 系统稳定性\n",
    "\n",
    "对于一个状态点$X_e$，满足$f(x_e)=0$，\n",
    "- 如果 $\\forall \\epsilon >0,\\exists \\delta(\\epsilon)>0$，使得$\\forall x_0$满足$\\| x_0-x_e\\| <\\delta$，只要$t\\geq t_0$，就有$\\| x(t)-x_e\\| <\\epsilon$，那么状态点$X_e$被称作**平衡点**\n",
    "- 如果 $\\exists \\delta>0$使得$\\forall X_0$满足$\\| x_0-x_e\\|<\\delta$，且$\\lim\\limits_{t\\rightarrow\\inf}x(t)=a$，则称状态点$X_e$为**渐近稳定平衡点**。\n",
    "- 如果 $\\exists \\alpha,\\beta,\\delta>0$使得$\\forall X_0$满足$\\| x_0-x_e\\|<\\delta$，只要$t\\geq t_0$就有$\\|x(t)-x_e\\|\\leq\\alpha\\|x_0-x_e\\|e^{-\\beta t}$，则称状态点$X_e$为**指数稳定平衡点**。"
   ]
  },
  {
   "cell_type": "markdown",
   "metadata": {},
   "source": [
    "# 李雅普诺夫第一方法\n",
    "\n",
    "**非线性系统**，有状态方程：$\\dot X=f(X)$，且f(X)各项对X有连续偏导数，存在一个平衡点$X_e$，则：$\\dot X=f(x_e)+\\frac{\\partial \\vec{f}}{\\partial \\vec{X}^T}_{(X_e)}(X-X_e)+R_{(X-X_e)}=A(X-X_e)+R_{(X-X_e)}$，其中，矩阵A为Jacobi矩阵：$A=\\begin{bmatrix}\\frac{\\partial f_1}{\\partial X_1}&\\cdots&\\frac{\\partial f_1}{\\partial X_n}\\\\ \\vdots&\\ddots&\\vdots\\\\ \\frac{\\partial f_n}{\\partial X_1}&\\cdots&\\frac{\\partial f_n}{\\partial X_n}\\end{bmatrix}_{(X_e)}$\n",
    "\n",
    "- 如果**矩阵A的所有特征值皆有负实部**，那么系统在平衡点$X_e$附近渐进稳定，且与R无关。\n",
    "- 如果**矩阵A的所有特征值存在正实部**，那么系统在平衡点$X_e$附近不稳定，且与R无关。\n",
    "- 如果**矩阵A的所有特征值皆非正实部，且存在零实部**，那么系统在平衡点$X_e$附近稳定性取决于R。"
   ]
  },
  {
   "cell_type": "markdown",
   "metadata": {},
   "source": [
    "# 李雅普诺夫第二方法\n",
    "\n",
    "建立在能量分的基础上，引入一个正定能量泛函来描述系统，观察泛函是否随时间逐渐衰减，从而确定系统的稳定性。\n",
    "\n",
    "> 注意！李雅普诺夫第二方法是判定稳定性的充分条件。这意味着，如果找不到这样一个泛函，系统也可能是稳定的。\n"
   ]
  },
  {
   "cell_type": "markdown",
   "metadata": {},
   "source": [
    "# 线性系统稳定性分析\n",
    "## - 线性定常连续系统\n",
    "\n",
    "系统状态方程：$\\dot X=AX$在平衡点$X_e$处渐近稳定的充要条件：  \n",
    "任意一个[Hermitian矩阵](https://www.wikiwand.com/en/Hermitian_matrix)Q，总存在一个Hermitian矩阵P，满足李雅普诺夫方程：$$PA+A^TP=-Q$$ 若矩阵P正定，则系统状态稳定，且系统正定能量泛函为$V(x)=X^TPX$。  \n",
    "**Matlab code:**\n",
    "``` matlab\n",
    "P=lyap(A,Q)\n",
    "```"
   ]
  },
  {
   "cell_type": "code",
   "execution_count": 7,
   "metadata": {},
   "outputs": [
    {
     "name": "stdout",
     "output_type": "stream",
     "text": [
      "\n",
      "PropeValue =\n",
      "\n",
      "    0.4384\n",
      "    4.5616\n",
      "\n",
      "\n",
      "detP =\n",
      "\n",
      "    0.1300\n",
      "\n",
      "\n"
     ]
    }
   ],
   "source": [
    "A=[1 2;1 4];\n",
    "PropeValue=eig(A)\n",
    "P=lyap(A,eye(2));\n",
    "detP=det(P)"
   ]
  },
  {
   "cell_type": "markdown",
   "metadata": {},
   "source": [
    "## - 线性时变连续系统\n",
    "\n",
    "系统状态方程：$\\dot X(t)=A(t)X(t)$，在平衡点$X_e$处渐近稳定的充要条件：  \n",
    "任意一个Hermitian矩阵Q，总存在一个Hermitian矩阵P，满足李雅普诺夫方程：$$\\begin{cases}P(t)A(t)+A^T(t)P(t)+\\dot P(t)=-Q(t)& t\\leq t_f \\\\ P(t_f)>0\\end{cases}$$ 若矩阵P正定，则系统状态稳定，且系统正定能量泛函为$V(x,t)=X^TP(t)X$。  \n",
    "由Ricatti矩阵微分方程理论知：$$P(t)=\\Phi^T(t_f,t)P(t_f)\\Phi(t_f,t)+\\int_t^{t_f}\\Phi^T(\\tau,t)Q(\\tau)\\Phi(\\tau,t)d\\tau$$"
   ]
  },
  {
   "cell_type": "markdown",
   "metadata": {},
   "source": [
    "## - 线性定常离散系统\n",
    "\n",
    "系统状态方程：$X(k+1)=GX(k)$，在平衡点$X_e$处渐近稳定的充要条件：  \n",
    "任意一个Hermitian矩阵Q，总存在一个Hermitian矩阵P，满足李雅普诺夫方程：$$G^TPG-P=-Q$$ 若矩阵P正定，则系统状态稳定，且系统正定能量泛函为$V(x,t)=X^TP(t)X$。  \n",
    "**Matlab code:**\n",
    "``` matlab\n",
    "P=dlyap(G,Q)\n",
    "```"
   ]
  },
  {
   "cell_type": "markdown",
   "metadata": {},
   "source": [
    "## 非线性系统稳定性分析\n",
    "\n",
    "在线性系统中，如果状态点$X_e$是平衡点，那么$X_e$是系统唯一的平衡点。但是在非线性系统中，系统可能存在着多个局部渐近稳定平衡点（吸引子），同时还存在多个不稳定平衡点（孤立子）。李雅普诺夫第二方法提供了稳定性的充分性，但比不具有必要性。"
   ]
  },
  {
   "cell_type": "markdown",
   "metadata": {},
   "source": [
    "## - 克拉索夫斯基法\n",
    "\n",
    "非线性定常连续系统状态方程：$\\dot X(t)=f(X)$，有平衡点$X_e$，且f(X)对状态变量X连续可微，则状态点$X_e$是渐近稳定平衡点的充分条件为：\n",
    "$$-Q=J+J^T<0$$ 其中，$J=\\frac{\\partial f}{\\partial X^T}$是Jacobi矩阵，且系统的正定能量泛函为$V(x)=\\dot X^T\\dot X=f^T(X)f(X)$"
   ]
  },
  {
   "cell_type": "markdown",
   "metadata": {},
   "source": [
    "## - 阿依捷尔曼法\n",
    "\n",
    "非线性系统状态方程：$\\dot X=AX+Bf(X)$，有平衡点$X_e=0$，若满足$K_{i1}X\\leq f_i(X)\\leq K_{i2}X$，则系统平衡点$X_e=0$是系统的局部渐近稳定点。"
   ]
  }
 ],
 "metadata": {
  "kernelspec": {
   "display_name": "Matlab",
   "language": "matlab",
   "name": "matlab"
  },
  "language_info": {
   "codemirror_mode": "octave",
   "file_extension": ".m",
   "help_links": [
    {
     "text": "MetaKernel Magics",
     "url": "https://github.com/calysto/metakernel/blob/master/metakernel/magics/README.md"
    }
   ],
   "mimetype": "text/x-octave",
   "name": "matlab",
   "version": "0.15.2"
  }
 },
 "nbformat": 4,
 "nbformat_minor": 2
}
