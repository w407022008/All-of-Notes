{
 "cells": [
  {
   "cell_type": "markdown",
   "metadata": {},
   "source": [
    "# 反馈\n",
    "\n",
    "控制的最近本任务就是，对给定的物理系统，设计出能够满足所期望的性能指标的闭环控制系统，这也就是寻找反馈控制律。\n",
    "\n",
    "- **状态反馈**：  \n",
    "线性定常连续系统$\\sum(A,B,C):\\begin{cases}\\dot X=AX+BU\\\\Y=CX\\end{cases}$的状态反馈律为$U=-KX$：\n",
    "![](http://csd.newcastle.edu.au/simulations/state1.gif)\n",
    "使得$\\sum(A-BK,B,C):\\begin{cases}\\dot X=(A-BK)X\\\\Y=CX\\end{cases}$有平衡点$X_e$的条件为：$eig(A-BK)$有负实部\n",
    "> 状态反馈不改变原系统的状态能控性，但可能改变状态能观性\n",
    "\n",
    "- **输出反馈**：  \n",
    "线性定常连续系统$\\sum(A,B,C):\\begin{cases}\\dot X=AX+BU\\\\Y=CX\\end{cases}$的状态反馈律为$U=-HY+v$：\n",
    "![](https://www.electronics-tutorials.ws/systems/sys28.gif)\n",
    "使得$\\sum(A-BK,B,C):\\begin{cases}\\dot X=(A-BHC)X+Bv\\\\Y=CX\\end{cases}$有平衡点$X_e$的条件为：$eig(A-BHC)$有负实部\n",
    "> 输出反馈不改变原系统的状态能控性和能观性"
   ]
  },
  {
   "cell_type": "markdown",
   "metadata": {},
   "source": [
    "# 极点配置与系统镇定问题\n"
   ]
  },
  {
   "cell_type": "markdown",
   "metadata": {},
   "source": [
    "控制系统的稳定性和各种性能品质在很大程度上是由闭环系统的极点位置所决定的，因此，设计控制器使得闭环系统的极点能够位于具有所期望性能品质的极点处，这可以有效地改善系统整体的性能，这种方法被称为极点配置法。\n",
    "\n",
    "## - 状态反馈极点配置\n",
    "\n",
    "> 由于状态反馈不改变系统的能控性，因此，闭环系统$\\sum_K(A-BK,B,C)$的极点能够被任意配置的充要条件为：系统$\\sum(A,B,C)$的状态完全可控\n",
    "\n",
    "**SISO系统状态反馈极点配置：**任意一个线性定常连续系统$\\sum(A,B,C)$，经过线性变换被转化为能控规范Ⅱ型：\n",
    "$$\\begin{cases} \\bar A=\\begin{bmatrix} 0 & 1 & \\cdots & 0 \\\\ \\vdots & \\vdots & \\ddots & \\vdots \\\\ 0 & 0 & \\cdots & 1 \\\\ -a_n & -a_{n-1} & \\cdots & - a_1 \\end{bmatrix} & \\bar B=\\begin{bmatrix} 0 \\\\ \\vdots \\\\ 0 \\\\ 1 \\end{bmatrix} \\\\ \\bar C=\\begin{bmatrix}b_n & b_{n-1} & \\cdots & b_1 \\end{bmatrix} \\end{cases}$$ \n",
    "其输入输出传递函数为：$$G(s)=\\frac{b_1s^{n-1}+\\cdots+b_n}{s^n+a_1s^{n-1}+\\cdots+a_n}$$  \n",
    "假设状态反馈阵为：$$\\bar K=\\begin{bmatrix}k_n&k_{n-1}&\\cdots&k_1\\end{bmatrix}$$  \n",
    "则，系统$\\sum_K(\\bar A-\\bar B\\bar K,\\bar B,\\bar C)$有：$$\\bar A-\\bar B\\bar K=\\begin{bmatrix} 0 & 1 & \\cdots & 0 \\\\ \\vdots & \\vdots & \\ddots & \\vdots \\\\ 0 & 0 & \\cdots & 1 \\\\ -a_n-k_n & -a_{n-1}-k_{n-1} & \\cdots & - a_1-k_1 \\end{bmatrix}$$\n",
    "其输入输出传递函数模型为：$$G_K(s)=\\frac{b_1s^{n-1}+\\cdots+b_n}{s^n+(a_1+k_1)s^{n-1}+\\cdots+(a_n+k_n)}=\\frac{b_1s^{n-1}+\\cdots+b_n}{s^n+a_1^*s^{n-1}+\\cdots+a_n^*}=G^*(s)$$\n",
    "显然：$k_i=a^*_i-a_i$\n",
    "\n",
    "我们可以发现：\n",
    "- 状态反馈虽然可以改变闭环系统的极点位置，但不能改变零点位置；\n",
    "- 当闭环系统极点恰好被配置在与开环系统零点重合时，系统将会出现零极点相消的现象。我们可以通过这一过程减少闭合系统的零极点数量，从而降低系统的阶数。但是消去零极点对会改变系统的能观性。\n",
    "- 此处虽然所引入的控制律是状态反馈，但不妨碍我们得到相应的**输出反馈矩阵**：$H=KC^T(CC^T)^{-1}$\n",
    "\n",
    "**Matlab code**  \n",
    "``` matlab\n",
    "K=acker(A,B,p);% p is a one-dimensional array of target poles\n",
    "```\n",
    "\n",
    "**MIMO系统状态反馈极点配置方法：**  \n",
    "！待续  \n",
    "**Matlab code**  \n",
    "``` matlab\n",
    "K=place(A,B,p); % based on robust eigenstructure\n",
    "```"
   ]
  },
  {
   "cell_type": "code",
   "execution_count": 3,
   "metadata": {},
   "outputs": [
    {
     "name": "stdout",
     "output_type": "stream",
     "text": [
      "\n",
      "ans =\n",
      "\n",
      "     1\n",
      "     1\n",
      "\n",
      "\n",
      "ans =\n",
      "\n",
      "   -5.0000\n",
      "   -4.0000\n",
      "\n",
      "\n"
     ]
    }
   ],
   "source": [
    "A=[1 0;1 1];B=[1;0];C=[1 0];\n",
    "eig(A)\n",
    "K=place(A,B,[-4 -5]); % or K=ackr(A,B,[-4 -5]);\n",
    "eig(A-B*K)"
   ]
  },
  {
   "cell_type": "markdown",
   "metadata": {},
   "source": [
    "## - 系统镇定问题\n",
    "\n",
    ">受控系统通过状态反馈控制或者输出反馈控制使得闭环系统渐近稳定，这样的过程被称为**系统的镇定**。  \n",
    "\n",
    "使得系统镇定的方法即是：**寻找一反馈律（反馈阵K），配置闭环系统的极点，使得系统稳定在期望的极点上。**"
   ]
  },
  {
   "cell_type": "markdown",
   "metadata": {},
   "source": [
    "# 系统解耦问题"
   ]
  },
  {
   "cell_type": "markdown",
   "metadata": {},
   "source": [
    "> 在一个闭环MIMO系统中，系统的每个输入值都受到多个输出值的影响而每个输出值又受到多个输入值的影响，如果一个输入值发生改变会使得系统大多数的输入和输出值发生改变，这种现象被称作**耦合**。而消除这种现象的过程被称作**解耦**，解耦也就是使得一个闭环系统的传递函数矩阵为对角线矩阵。\n",
    "\n",
    "## - 状态反馈动态解耦\n",
    "\n",
    "对于一个受控系统：$\\begin{cases}\\dot X=AX+BU \\\\ Y=CX\\end{cases}$，引入一个状态反馈控制律：$U=-KX+HV$，使得闭环系统输入输出值解耦。  \n",
    "那么，有被解耦系统：$\\begin{cases}\\dot X=(A-BK)X+BHV \\\\ Y=CX\\end{cases}$，他的输入输出传递函数：$G(s)=C(sI-A+BK)^{-1}BH$为对角线矩阵$\\begin{bmatrix} \\frac{1}{s^{l_1+1}}&&&\\\\ &\\frac{1}{s^{l_2+1}}&&\\\\&&\\ddots&\\\\&&&\\frac{1}{s^{l_m+1}}\\end{bmatrix}$  \n",
    "应满足条件：$H^{-1}=E=\\begin{bmatrix}C_1A^{l_1}B\\\\C_2A^{l_2}B\\\\\\vdots\\\\C_mA^{l_m}B\\end{bmatrix}$，$K=HF=E^{-1}\\begin{bmatrix}C_1A^{l_1+1}B\\\\C_2A^{l_2+1}B\\\\\\vdots\\\\C_mA^{l_m+1}B\\end{bmatrix}$，其中，$l_i=\\begin{cases} j& if,C_iA^kB=0(k=0,1,\\cdots,j-1) &and,C_iA^jB\\neq 0 \\\\ n-1 &if,C_iA^kB=0(k=1,2,\\cdots,n-1)\\end{cases}$"
   ]
  },
  {
   "cell_type": "markdown",
   "metadata": {},
   "source": [
    "# 无静差跟踪问题"
   ]
  },
  {
   "cell_type": "markdown",
   "metadata": {},
   "source": [
    "一个作为内模的受控系统$\\sum_o:\\begin{cases}\\dot X=AX+BU+B_wW\\\\Y=CX+DU+D_wW\\\\U=-KX+V\\end{cases}$是完全能控的，引入一个控制律：$\\sum_c:\\begin{cases}\\dot X_c=A_cX_c+B_ce \\\\ V=K_cX_c \\\\ e=y_0-Y\\end{cases}$  \n",
    "则$\\sum_o$与$\\sum_c$的组合系统为：$$\\sum:\\begin{cases} \\begin{pmatrix} \\dot X\\\\ \\dot{X}_c\\end{pmatrix} = \\begin{bmatrix}A&O\\\\-B_cC&A_c\\end{bmatrix} \\begin{pmatrix}X\\\\X_c\\end{pmatrix} + \\begin{bmatrix} B \\\\ -B_cD \\end{bmatrix}U + \\begin{bmatrix} B_w \\\\ -B_cD_w \\end{bmatrix}W+\\begin{bmatrix} O \\\\ B_c \\end{bmatrix}y_0 \\\\ U=\\begin{bmatrix} -K & K_c \\end{bmatrix} \\begin{pmatrix} X \\\\ X_c \\end{pmatrix} \\end{cases}$$"
   ]
  },
  {
   "cell_type": "markdown",
   "metadata": {},
   "source": [
    "令$\\bar A=\\begin{bmatrix} A-BK & BK_c \\\\ B_c(DK-C) & A_c-B_cDK_c \\end{bmatrix}$，$\\bar B=\\begin{bmatrix}B_w\\\\-B_cD_w\\end{bmatrix}$，$\\bar X=\\begin{pmatrix} X \\\\ X_c\\end{pmatrix}-AA^{-1}\\begin{bmatrix} O \\\\ B_c\\end{bmatrix}y_0$  \n",
    "则：$$\\bar{\\sum}:\\dot{\\bar{X}} = \\bar A\\bar X+ \\bar BW$$\n",
    "\n",
    "无静差跟踪的充分条件为：矩阵$\\begin{bmatrix}\\lambda_iI-A & B\\\\-C&D\\end{bmatrix}$满秩，其中$\\lambda_i$为系统$\\sum_c$的特征值"
   ]
  },
  {
   "cell_type": "markdown",
   "metadata": {},
   "source": [
    "# 状态观测器设计"
   ]
  },
  {
   "cell_type": "markdown",
   "metadata": {},
   "source": [
    "状态变量是描述系统内部运动特性的变量，有时候他仅仅是一个数学意义上的变量而不能被直接地或精确地测量（但可观），这时候需要引入一个状态观测器来估计状态。\n",
    "\n",
    "## - 全维状态观测器  \n",
    "\n",
    "对于线性时不变连续系统$\\sum:\\begin{cases}\\dot X=AX+BU\\\\Y=CX+DU\\end{cases}$，构造一个仿真系统：$\\sum_L:\\begin{cases}\\dot{\\hat{X}}=A\\hat X+BU+L(Y-\\hat Y)\\\\\\hat Y+C\\hat X\\end{cases}$  \n",
    "则有，状态估计的误差：$e=X-\\hat X$满足：$\\dot e=(A-LC)e$  \n",
    "显然，若使状态估计的误差趋于零，只需找到一个合适的矩阵L使得矩阵A-LC有负实部特征值（或期望的特征值）。\n",
    "> **系统能够通过矩阵L来任意配置系统特征值的充要条件为：系统$\\sum(A,C)$可观**"
   ]
  },
  {
   "cell_type": "markdown",
   "metadata": {},
   "source": [
    "**Matlab code**  \n",
    "``` matlab\n",
    "[sys_kal,L,P,K,Z]=kalman(sys,Q,R,N,Ym,U);\n",
    "```\n",
    "其中，sys_kal为仿真系统$\\sum_L$，sys为被观测系统$\\sum:\\begin{cases}\\dot X=AX+BU+Gw\\\\Y=CX+DU+Hv\\end{cases}$，$L=PC^TR{-1}$为反馈矩阵，P为状态预估协方差矩阵，Z为状态协方差矩阵，$Q=E(w^Tw)$，$R=E(v^Tv)$，$N=E(w^Tv)$，Ym为被观测系统的输出测量值，U为被观测系统的输入值。"
   ]
  },
  {
   "cell_type": "markdown",
   "metadata": {},
   "source": [
    "## - 降维状态观测器  \n",
    "！待续"
   ]
  },
  {
   "cell_type": "markdown",
   "metadata": {},
   "source": [
    "# 控制器与观测器设计综合"
   ]
  },
  {
   "cell_type": "markdown",
   "metadata": {},
   "source": [
    "系统的输入值和输出值是唯一可被直接测量的量，所以通常我们可以采用输出反馈来引入控制律。如果状态变量容易被直接测量，我们可以采用状态反馈来引入控制律。否则，我们需要引入状态观测器来首先观测到状态变量从而引入控制律。由于输入值和输出值总是存在着扰动，所以采用状态观测器估计状态变量将能够获得更加准确的控制律。\n",
    "\n",
    "对于线性时不变连续系统：$\\sum(A,B,C)$，引入全维状态观测器：$\\begin{cases}\\dot{\\hat{X}}=A\\hat X+BU+L(Y-\\hat Y)\\\\\\hat Y+C\\hat X\\end{cases}$，从而引入控制律：$U=-K\\hat X+V$，有结构图如下：  \n",
    "![](https://i.stack.imgur.com/aw084.png)  \n",
    "令状态观测误差为：$e=X-\\hat X$，则有组合系统：\n",
    "$$\\sum:\\begin{cases} \\begin{pmatrix} \\dot X\\\\ \\dot e \\end{pmatrix}=\\begin{bmatrix} A-BK & BK \\\\ O & A-LC \\end{bmatrix} \\begin{pmatrix} X \\\\ e \\end{pmatrix} +\\begin{bmatrix} B \\\\ O \\end{bmatrix} V \\\\ Y=\\begin{bmatrix}C&O\\end{bmatrix}\\begin{pmatrix}X\\\\e\\end{pmatrix}\\end{cases}$$\n",
    "特性：\n",
    "- 可以分别配置控制器的极点和观测器的极点。一般在工程上，为保证有较好的控制精度、速度和超调量，相比于控制器的极点，观测器的极点实部应当更小。\n",
    "- 观测器和控制器的引入不会改变原始系统的传递函数矩阵。$\\begin{bmatrix}C&O\\end{bmatrix}(sI-\\begin{bmatrix}A-BK & BK \\\\ O & A-LC \\end{bmatrix})^{-1}\\begin{bmatrix}B\\\\O\\end{bmatrix}=C(sI-A+BK)^{-1}B$\n",
    "- 状态观测误差不可控"
   ]
  }
 ],
 "metadata": {
  "kernelspec": {
   "display_name": "Matlab",
   "language": "matlab",
   "name": "matlab"
  },
  "language_info": {
   "codemirror_mode": "octave",
   "file_extension": ".m",
   "help_links": [
    {
     "text": "MetaKernel Magics",
     "url": "https://github.com/calysto/metakernel/blob/master/metakernel/magics/README.md"
    }
   ],
   "mimetype": "text/x-octave",
   "name": "matlab",
   "version": "0.15.2"
  }
 },
 "nbformat": 4,
 "nbformat_minor": 2
}
