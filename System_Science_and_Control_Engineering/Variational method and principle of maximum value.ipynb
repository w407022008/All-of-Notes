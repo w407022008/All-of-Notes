{
 "cells": [
  {
   "cell_type": "markdown",
   "metadata": {},
   "source": [
    "[中文版](http://nbviewer.jupyter.org/github/w407022008/All-of-Notes/blob/master/System_Science_and_Control_Engineering/变分法与极大值原理.ipynb)"
   ]
  },
  {
   "cell_type": "markdown",
   "metadata": {},
   "source": [
    "# Variational method and principle of maximum value\n",
    "\n",
    "Nonlinear system state equation：$$\\dot X(t)=f(X(t),U9t),t)$$ There is an initial time $t_0$, initial state $X(t_0)$, termination time $t_f$, termination state $X(t_f)$, termination state constraint equation：$$X(t_f)\\in g(X(t_f),t_f)=0$$  \n",
    "Introducing performance indicator functionals：$J(x,u,t)=S(X(t_f),t_f)+\\int_{t_0}^{t_f}L(x,u,t)dt$  \n",
    "Introducing system state constraint Lagrangian multiplier：$\\lambda(t)$  \n",
    "Introducing a termination state constraint Lagrangian multiplier：$\\mu$  \n",
    "\n",
    "So, there is a new functional：$J(x,u,t)=S(X(t_f),t_f)+\\mu g(X(t_f),t_f)+\\int_{t_0}^{t_f}(L(x,u,t)+\\lambda(t) (f(x,u,t)-\\dot X(t))dt$  \n",
    "if $$\\begin{cases}\\bar S(X(t_f),t_f)=S(X(t_f),t_f)+\\mu g(X(t_f),t_f)\\\\ H(x,u,t)=L(x,u,t)+\\lambda(t) (f(x,u,t)-\\dot X(t))\\end{cases}$$  \n",
    "Thus, there is a performance function：$$J(x,u,t)=\\bar S(X(t_f),t_f)+\\lambda^T(t_0)X(t_0)-\\lambda^T(t_f)X(t_f)+\\int_{t_0}^{t_f}(H(x,u,t)+\\dot \\lambda(t)X(t))dt$$\n",
    "Therefore, the first order variation：\n",
    "$$\\delta J(x,u,t)=(\\frac{\\partial \\bar S^T}{\\partial X}-\\lambda^T)(\\delta X+\\dot X\\delta t_f)\\mid_{t_f}+(\\frac{\\partial \\bar S^T}{\\partial t_f}+H)\\delta t_f\\mid_{t_f}+\\int_{t_0}^{t_f}[(\\frac{\\partial H}{\\partial X}+\\dot \\lambda^T)\\delta X+\\frac{\\partial H}{\\partial U}\\delta U]dt=0$$\n",
    "Therefore, there is a **canonical equation**：$\\dot X=\\frac{\\partial H}{\\partial \\lambda}=f(x,u,t)\\tag{1}$  \n",
    "\n",
    "$\\dot \\lambda(t)=-\\frac{\\partial H}{\\partial X}=-\\frac{\\partial L}{\\partial X}-\\frac{\\partial f^T}{\\partial X}\\lambda\\tag{2}$  \n",
    "\n",
    "**Boundary conditions**：$X(t_0)=X_0;g(X(t_f),t_f)=0\\tag{3}$  \n",
    "\n",
    "$\\lambda(t_f)=\\frac{\\partial \\bar S(X(t_f),t_f)}{\\partial X(t_f)}\\tag{4}$  \n",
    "\n",
    "$H(t_f)=-\\frac{\\partial \\bar S}{\\partial t_f}\\mid_{t_f}\\tag{5}$  \n",
    "\n",
    "**Extreme condition**：$\\frac{\\partial H(x,u,\\lambda,t)}{\\partial U}=0\\tag{6}$"
   ]
  }
 ],
 "metadata": {
  "kernelspec": {
   "display_name": "Matlab",
   "language": "matlab",
   "name": "matlab"
  },
  "language_info": {
   "codemirror_mode": "octave",
   "file_extension": ".m",
   "help_links": [
    {
     "text": "MetaKernel Magics",
     "url": "https://github.com/calysto/metakernel/blob/master/metakernel/magics/README.md"
    }
   ],
   "mimetype": "text/x-octave",
   "name": "matlab",
   "version": "0.15.2"
  }
 },
 "nbformat": 4,
 "nbformat_minor": 2
}
