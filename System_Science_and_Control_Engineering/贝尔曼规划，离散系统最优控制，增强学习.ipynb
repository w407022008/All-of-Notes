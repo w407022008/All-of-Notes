{
 "cells": [
  {
   "cell_type": "markdown",
   "metadata": {},
   "source": [
    "# 贝尔曼最优性原理\n",
    "\n",
    "- **马尔可夫性**：在一次决策输入$U(k)$作用下，状态$X(k)$转移到了状态$X(k+1)$的过程中，状态$X(k+1)$只与输入$U(k)$和先状态$X(k)$有关，则这个过程具有马尔可夫性，被写作：$X(k+1)=f(X(k),U(k),k)$  \n",
    "- 对于一个N阶段一般决策过程，有一组输入集合$U^*(0,N-1)$为最优性决策的充要条件：  \n",
    "最优性能函数满足：$$J^*(X(0),U^*(0,N-1))=\\min_{U(0,k-1)} [J(X(0),U(0,k-1)+\\min_{U(k,N-1)}J(X(k),U(k,N-1))],\\forall k\\in (0,N-1)$$"
   ]
  },
  {
   "cell_type": "markdown",
   "metadata": {},
   "source": [
    "# 离散系统动态规划\n",
    "\n",
    "离散系统状态方程：$X(k+1)=f(X(k),U(k),k)$  \n",
    "满足性能指标函数：$$\\min_{U(0,k-1)} J(u)=\\min_{U(0,k-1)} [S(X(k_f),k_f)+\\sum_{k=k_0}^{k_f-1}L(X(k),U(k),k)]$$\n",
    "则有贝尔曼递推公式：$$\\begin{cases}J^*(X(k),U^*(k,k_f-1))=\\min_{U(k)\\in U} [L(X(k),U(k),k)+J^*(X(k+1),U^*(k+1,k_f-1))]\\\\J^*(X(k_f),k_f)=S(X(k_f,k_f)\\end{cases}$$\n",
    "**Matlab code**  \n",
    "- discrete-time algebric Riccati equations\n",
    "``` matlab\n",
    "[P,L,K]=dare(G,H,Q,R);\n",
    "```\n",
    "$K=(H^TPH+R)^{-1}H^TPG$ \n",
    "- linear-quadratic regulater\n",
    "``` matlab\n",
    "[K,P,L]=dlqr(G,H,Q,R);\n",
    "```\n",
    "L表示极点数组"
   ]
  },
  {
   "cell_type": "markdown",
   "metadata": {},
   "source": [
    "# 增强学习\n",
    "\n",
    "！待续"
   ]
  }
 ],
 "metadata": {
  "kernelspec": {
   "display_name": "Matlab",
   "language": "matlab",
   "name": "matlab"
  },
  "language_info": {
   "codemirror_mode": "octave",
   "file_extension": ".m",
   "help_links": [
    {
     "text": "MetaKernel Magics",
     "url": "https://github.com/calysto/metakernel/blob/master/metakernel/magics/README.md"
    }
   ],
   "mimetype": "text/x-octave",
   "name": "matlab",
   "version": "0.15.2"
  }
 },
 "nbformat": 4,
 "nbformat_minor": 2
}
