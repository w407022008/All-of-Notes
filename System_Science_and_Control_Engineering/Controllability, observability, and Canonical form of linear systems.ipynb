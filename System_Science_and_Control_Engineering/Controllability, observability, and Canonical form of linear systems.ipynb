{
 "cells": [
  {
   "cell_type": "markdown",
   "metadata": {},
   "source": [
    "# Controllability of linear continuous systems\n",
    "\n",
    ">Intuitive definition of **state controllability**：If the state variable $X(t)$ can be affected by the inputs, the state variables can be controlled from any initial state to the origin within a finite time from any time.** Output controllability** is the same."
   ]
  },
  {
   "cell_type": "markdown",
   "metadata": {},
   "source": [
    "## - State Controllability Criterion of Linear Time-Invariant Continuous Systems\n",
    "   - **Algebraic criterion：**\n",
    "       - If the rows of the matrix $e^{At}B$ are linearly independent, the system is controllable\n",
    "       - **If this controllability matrix$Q_c=\\begin{bmatrix}B& AB& A^2B& \\cdots& A^{n-1}B\\end{bmatrix}$satisfy$rank(Q_c)=n$($Q_c$ is linearly independent of each line, then the system is controllable**\n",
    "       - When the state dimension is n, the input dimension is p and $rank(B)=r$, if$rank(Q_{n-r+1})=rank(\\begin{bmatrix}B& AB& \\cdots& A^{n-r}B\\end{bmatrix})=n$, the system is controllable.\n",
    "   - **Modal criterion：**\n",
    "   > Linear transformation of linear time-invariant systems does not change state controllability \n",
    "   \n",
    "      - If A is a Jordan matrix with only one Jordan block for each eigenvalue, then the system is controllable. The necessary and sufficient condition is that the components of the last row of the submatrix in the matrix B, corresponding to each Jordan block of the matrix A are not all zero. .\n",
    "      - If there is a case where one eigenvalue corresponds to a plurality of Jordan blocks, the system is controllable. The necessary and sufficient condition is that the last rows of the submatrixs in the matrix B, corresponding to the Jordan blocks of every eigenvalue of the A matrix are linearly independent.  \n",
    "      i.e. \n",
    "         1. $A=\\begin{bmatrix}-7&0\\\\0&-5\\end{bmatrix},B=\\begin{bmatrix}2\\\\5\\end{bmatrix}$. Obviously, A is a Jordan matrix with different eigenvalues. The components of each row in B are not all zero, so the system is completely controllable.\n",
    "         2. $A=\\begin{bmatrix}-4&1&0\\\\0&-4&0\\\\0&0&-3\\end{bmatrix},B=\\begin{bmatrix}0&0\\\\0&0\\\\1&1\\end{bmatrix}$. Obviously, there is a Jordan block with eigenvalue -4 and eigenvalue -3, where the components of the second row of the B matrix are all zero, so the system is not fully controllable\n",
    "         3. $A=\\begin{bmatrix}-4&1&0&0\\\\0&-4&0&0\\\\0&0&-3&0\\\\0&0&0&-4\\end{bmatrix},B=\\begin{bmatrix}0\\\\1\\\\2\\\\3\\end{bmatrix}$. Obviously, there are Jordan blocks with eigenvalue -4 and eigenvalue -3, and eigenvalue -4 exists for two Jordan blocks, where the second and fourth rows of the B matrix are linearly related, so the system is not fully controllable\n",
    "    \n",
    "   - **PBH rank criterion：**  \n",
    "        **For all eigenvalues$\\lambda_i$, if there is $rank(\\begin{bmatrix}\\lambda_iI-A& B\\end{bmatrix})=n$, then the state of the system $\\sum(A,B)$ are fully controllable. **"
   ]
  },
  {
   "cell_type": "markdown",
   "metadata": {},
   "source": [
    "## - Output Controllability Criterion of Linear Time-Invariant Continuous Systems\n",
    "    \n",
    "   Necessary and sufficient conditions: output control matrix $Q_c=\\begin{bmatrix}CB& CAB& CA^2B& \\cdots& CA^{n-1}B& D\\end{bmatrix}$ is full rank.\n",
    "    > Attention! Output controllability and state controllability are not equivalent, and there is no necessary connection\n",
    "**MATLAB code**\n",
    "``` matlab\n",
    "Qc=ctrb(A,B);```\n",
    "or\n",
    "``` matlab\n",
    "Qc=ctrb(sys);\n",
    "```"
   ]
  },
  {
   "cell_type": "code",
   "execution_count": 19,
   "metadata": {},
   "outputs": [
    {
     "name": "stdout",
     "output_type": "stream",
     "text": [
      "\n",
      "ans =\n",
      "\n",
      "  logical\n",
      "\n",
      "   0\n",
      "\n",
      "\n",
      "ans =\n",
      "\n",
      "  logical\n",
      "\n",
      "   1\n",
      "\n",
      "\n"
     ]
    }
   ],
   "source": [
    "A=[1 0;0 1]; B=[1;0];C=[1 0];D=[];\n",
    "Qc=ctrb(A,B);\n",
    "rank(Qc)==size(Qc,1)\n",
    "Q=[C*B C*A*B D];\n",
    "rank(Q)==size(Q,1)"
   ]
  },
  {
   "cell_type": "markdown",
   "metadata": {},
   "source": [
    "## - State controllability of linear time-variant continuous systems\n",
    "\n",
    "   - Gram Matrix criterion：if $\\exists t_1>t_0$ make the matrix$W_c(t_0,t_1)=\\lmoustache_{t_0}^{t_1}\\phi(t_0,t)B(t)B^T(t)\\phi^T(t_0,t)dt$ non-singular, then the system $\\sum(A(t),B(t))$ is fully controllable at the initial time $t_0$.\n",
    "   - Rank criterion (sufficient condition)：Controllability matrix $Q_c(t)=\\begin{bmatrix}B_1(t)& B_2(t)& \\cdots& B_n(t)\\end{bmatrix}$, where $\\begin{cases}B_1(t)=B(t)\\\\B_i(t)=-A(t)B_{i-1}(t)+\\dot B_{i-1}(t)\\end{cases}$. if the matrix $Q_c$ is full rank($rank(Q_c(t))=n$),then the system is full controllable."
   ]
  },
  {
   "cell_type": "markdown",
   "metadata": {},
   "source": [
    "# Observability of linear continuous systems\n",
    "\n",
    "> Intuitive definition of **state observability**: In the case that there is any initial state $X_0$ at any initial time $t_0$, without considering the input, if the initial state of the system can be uniquely determined from the output variable Y, the system is fully observable."
   ]
  },
  {
   "cell_type": "markdown",
   "metadata": {},
   "source": [
    "## - State Observability Criterion for Linear Time-Invariant Continuous Systems\n",
    "\n",
    "   - **Algebraic criterion**\n",
    "       - The columns of the matrix function $Ce^{At}$ are linearly independent, and the system state is fully obsevable.\n",
    "       - **if the obsevablity matrix $Q_o=\\begin{bmatrix}C\\\\CA\\\\ \\vdots\\\\CA^{n-1}\\end{bmatrix}$ is full rank($rank(Q_o)=n$), the system is full observable.**  \n",
    "       \n",
    "        **MATLAB Code**\n",
    "``` matlab\n",
    "Qo=obsv(A,C);\n",
    "Qo=obsv(sys);\n",
    "```\n",
    "   - **Modal criterion**\n",
    "       > Linear transformation of linear time-invariant continuous systems does not change state observability  \n",
    "       \n",
    "       - If each eigenvalue of the A matrix has only one Jordan block, then the necessary and sufficient condition of state observability: the components of the last column of the submatrix corresponding to each Jordan block of the A matrix in the C matrix are not all zero.\n",
    "       - If there is a case where one eigenvalue corresponds to multiple Jordan blocks, the necessary and sufficient condition for state observability: The last columns of the submatrixs of the matrix C, corresponding to the Jordan blocks of every eigenvalue of the matrix A are linearly independent\n",
    "   - **PBH rank criterion**  \n",
    "       **for the all eigenvalue $\\lambda_i$, if there is $rank(\\begin{bmatrix}\\lambda_iI-A \\\\ C\\end{bmatrix})=n$, the states of the system $\\sum(A,C)$ are fully observable**"
   ]
  },
  {
   "cell_type": "markdown",
   "metadata": {},
   "source": [
    "## - State Observability Criterion for Linear Time-Variant Continuous Systems\n",
    "\n",
    "   - Gram Matrix Criterion：if $\\exists t_1>t_0$ make the matrix $W_o(t_0,t_1)=\\lmoustache_{t_0}^{t_1}\\phi^T(t_0,t)C^T(t)C(t)\\phi(t_0,t)dt$ non-singular, the states of the system $\\sum(A(t),C(t))$ are fully observable at the initial time $t_0$.\n",
    "   - Rank criterion (sufficient condition): the observability matrix $Q_o(t)=\\begin{bmatrix}C_1(t)\\\\ C_2(t)\\\\ \\vdots\\\\ C_n(t)\\end{bmatrix}$, where $\\begin{cases}C_1(t)=C(t)\\\\C_i(t)=C_{i-1}(t)A(t)+\\dot C_{i-1}(t)\\end{cases}$. if the matrix $Q_o$ is full rank($rank(Q_o(t))=n$), the states of the system are observable."
   ]
  },
  {
   "cell_type": "markdown",
   "metadata": {},
   "source": [
    "# Controllability, Observability, and Accessibility of Linear Discrete Systems\n",
    "\n",
    ">Intuitive definition of **state reachability**: There is a final state of $X_1$, and the system is affected by the input. At time t, the state quantity reaches the final state $X_1$ from the initial zero state, and the state $X_1$ is said to be reachable. If $X_1$ is any state space point, the system state is fully reachable."
   ]
  },
  {
   "cell_type": "markdown",
   "metadata": {},
   "source": [
    "! to be continued"
   ]
  },
  {
   "cell_type": "markdown",
   "metadata": {},
   "source": [
    "# Controllable Canonical form and observable Canonical form\n",
    "\n",
    "> Objective: To change the state space model of the system by linear transformation into:1. A controllable canonical form that can facilitate the design of the state feedback of the system; 2. An observable canonical form that can facilitate the design of the state observer of the system."
   ]
  },
  {
   "cell_type": "markdown",
   "metadata": {},
   "source": [
    "! to be continued"
   ]
  },
  {
   "cell_type": "markdown",
   "metadata": {},
   "source": [
    "# Dual principle\n",
    "\n",
    "Given two linear steady-state continuous systems: $$\\sum(A,B,C):\\begin{cases}\\dot X=AX+BU\\\\Y=CX\\end{cases}$$ $$\\sum(\\bar{A},\\bar{B},\\bar{C}):\\begin{cases}\\dot {\\bar{X}}=\\bar{A}\\bar{X}+\\bar{B}\\bar{U}\\\\Y=\\bar{C}\\bar{X}\\end{cases}$$\n",
    "if they satisfy the relationship:$\\bar{A}=A^T,\\bar{B}=C^T,\\bar{C}=B^T$, the system $\\sum(A,B,C)$ and the system $\\sum(\\bar{A},\\bar{B},\\bar{C})$ can be said as mutually dual. There are properties：  \n",
    "\n",
    "- The transfer functions of the dual system are transposed each other, and the characteristic equations and eigenvalues are the same.\n",
    "- the controllability(the observability) of the system $\\sum$ is equal to the observability(the controllability) of the system$\\bar{\\sum}$."
   ]
  },
  {
   "cell_type": "markdown",
   "metadata": {},
   "source": [
    "# Structural Decomposition of Linear Time-Invariant Continuous Systems\n",
    "\n",
    "- **Controllable decomposition**  \n",
    "``` \n",
    "[Ac,Bc,Cc,Tc,nc]=ctrbf(A,B,C,tol);\n",
    "``` Tol is the tolerance, Tc is the linear transformation matrix, and nc is the array of controllable dimensions. \n",
    "$Ac=\\begin{bmatrix}A_{nc}&O\\\\A_{21}&A_c\\end{bmatrix}$ $Bc=\\begin{bmatrix}O\\\\B_c\\end{bmatrix}$ $Cc=\\begin{bmatrix}C_{nc}&C_c\\end{bmatrix}$\n",
    "- **Observable decomposition**  \n",
    "``` \n",
    "[Ao,Bo,Co,To,no]=ctrbf(A,B,C,tol);\n",
    "``` Tol is the tolerance, To is the linear transformation matrix, and no is the array of controllable dimensions. \n",
    "$Ao=\\begin{bmatrix}A_{no}&A_{12}\\\\O&A_o\\end{bmatrix}$ $Bo=\\begin{bmatrix}B_{no}\\\\B_o\\end{bmatrix}$ $Cc=\\begin{bmatrix}O&C_o\\end{bmatrix}$"
   ]
  }
 ],
 "metadata": {
  "kernelspec": {
   "display_name": "Matlab",
   "language": "matlab",
   "name": "matlab"
  },
  "language_info": {
   "codemirror_mode": "octave",
   "file_extension": ".m",
   "help_links": [
    {
     "text": "MetaKernel Magics",
     "url": "https://github.com/calysto/metakernel/blob/master/metakernel/magics/README.md"
    }
   ],
   "mimetype": "text/x-octave",
   "name": "matlab",
   "version": "0.15.2"
  }
 },
 "nbformat": 4,
 "nbformat_minor": 2
}
