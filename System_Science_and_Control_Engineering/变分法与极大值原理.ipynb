{
 "cells": [
  {
   "cell_type": "markdown",
   "metadata": {},
   "source": [
    "# 变分法与极大值原理\n",
    "\n",
    "非线性系统状态方程：$$\\dot X(t)=f(X(t),U9t),t)$$ 有初始时刻$t_0$，初始状态$X(t_0)$，终止时刻$t_f$，终止状态$X(t_f)$，终止状态约束方程：$$X(t_f)\\in g(X(t_f),t_f)=0$$  \n",
    "引入性能指标泛函：$J(x,u,t)=S(X(t_f),t_f)+\\int_{t_0}^{t_f}L(x,u,t)dt$  \n",
    "引入系统状态约束拉格朗日乘子：$\\lambda(t)$  \n",
    "引入终止状态约束拉格朗日乘子：$\\mu$  \n",
    "\n",
    "于是，有新的泛函：$J(x,u,t)=S(X(t_f),t_f)+\\mu g(X(t_f),t_f)+\\int_{t_0}^{t_f}(L(x,u,t)+\\lambda(t) (f(x,u,t)-\\dot X(t))dt$  \n",
    "令$$\\begin{cases}\\bar S(X(t_f),t_f)=S(X(t_f),t_f)+\\mu g(X(t_f),t_f)\\\\ H(x,u,t)=L(x,u,t)+\\lambda(t) (f(x,u,t)-\\dot X(t))\\end{cases}$$  \n",
    "于是，有性能指标泛函：$$J(x,u,t)=\\bar S(X(t_f),t_f)+\\lambda^T(t_0)X(t_0)-\\lambda^T(t_f)X(t_f)+\\int_{t_0}^{t_f}(H(x,u,t)+\\dot \\lambda(t)X(t))dt$$\n",
    "因此，一阶变分为：\n",
    "$$\\delta J(x,u,t)=(\\frac{\\partial \\bar S^T}{\\partial X}-\\lambda^T)(\\delta X+\\dot X\\delta t_f)\\mid_{t_f}+(\\frac{\\partial \\bar S^T}{\\partial t_f}+H)\\delta t_f\\mid_{t_f}+\\int_{t_0}^{t_f}[(\\frac{\\partial H}{\\partial X}+\\dot \\lambda^T)\\delta X+\\frac{\\partial H}{\\partial U}\\delta U]dt=0$$\n",
    "因此，有**规范方程**：$\\dot X=\\frac{\\partial H}{\\partial \\lambda}=f(x,u,t)\\tag{1}$  \n",
    "\n",
    "$\\dot \\lambda(t)=-\\frac{\\partial H}{\\partial X}=-\\frac{\\partial L}{\\partial X}-\\frac{\\partial f^T}{\\partial X}\\lambda\\tag{2}$  \n",
    "\n",
    "**边界条件**：$X(t_0)=X_0;g(X(t_f),t_f)=0\\tag{3}$  \n",
    "\n",
    "$\\lambda(t_f)=\\frac{\\partial \\bar S(X(t_f),t_f)}{\\partial X(t_f)}\\tag{4}$  \n",
    "\n",
    "$H(t_f)=-\\frac{\\partial \\bar S}{\\partial t_f}\\mid_{t_f}\\tag{5}$  \n",
    "\n",
    "**极值条件**：$\\frac{\\partial H(x,u,\\lambda,t)}{\\partial U}=0\\tag{6}$"
   ]
  }
 ],
 "metadata": {
  "kernelspec": {
   "display_name": "Matlab",
   "language": "matlab",
   "name": "matlab"
  },
  "language_info": {
   "codemirror_mode": "octave",
   "file_extension": ".m",
   "help_links": [
    {
     "text": "MetaKernel Magics",
     "url": "https://github.com/calysto/metakernel/blob/master/metakernel/magics/README.md"
    }
   ],
   "mimetype": "text/x-octave",
   "name": "matlab",
   "version": "0.15.2"
  }
 },
 "nbformat": 4,
 "nbformat_minor": 2
}
