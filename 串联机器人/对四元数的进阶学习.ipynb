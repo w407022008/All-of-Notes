{
 "cells": [
  {
   "cell_type": "markdown",
   "metadata": {},
   "source": [
    "![]()\n",
    "我们可以总结四元数、欧拉角、变换矩阵、绕轴转动之间关系为，两个**主要相互关系**，两个**转换关系**，以及其他**衍生关系**"
   ]
  },
  {
   "cell_type": "markdown",
   "metadata": {},
   "source": [
    "## 1. 首先，介绍关系：$M\\Leftarrow Q \\Leftrightarrow A$\n",
    "    \n",
    "在这三个当中，Axis_Angle是描述几何变换的过程，而Matrix是通过代数的形式来描述变换，Quaternion四元数是中间的桥梁，是用数学变量描述代替几何描述，并通过数学云散转化为矩阵Matrix的形式。\n",
    "\n",
    "其中，有：  \n",
    "\n",
    "a. 在绕轴$\\vec q$逆时针旋转angle角时，有关系：\n",
    "$$P_1\\longrightarrow _{angle}^{\\vec q} \\longrightarrow P_2 \\Leftrightarrow P_2=qP_1q^{-1} \\Leftrightarrow P_2=RP_1=R_QP_1$$  \n",
    "\n",
    "b. 在绕轴$\\vec q$顺时针旋转angle角时，有关系：\n",
    "$$P_1\\longrightarrow _{-angle}^{\\vec q} \\longrightarrow P_2 \\Leftrightarrow P_2=q^{-1}P_1q \\Leftrightarrow P_2=RP_1=R_Q^TP_1$$\n",
    "  \n",
    "在这里轴$\\vec q$是定义在我选定的任意坐标系内的任意单位矢量(x,y,z),angle是标量转动角  \n",
    "\n",
    "q是由$\\vec q$与angle定义的单位四元数$q=q_w+q_xi+q_yj+q_zk=cos\\frac{angle}{2}+(xi+yj+zk)sin\\frac{angle}{2}$  \n",
    "  \n",
    "  即有：$$ \\left\\{\n",
    "\\begin{aligned}\n",
    "q_w & = & cos\\frac{angle}{2} \\\\\n",
    "q_x & = & x·sin\\frac{angle}{2} \\\\\n",
    "q_y & = & y·sin\\frac{angle}{2} \\\\\n",
    "q_z & = & z·sin\\frac{angle}{2}\n",
    "\\end{aligned}\n",
    "\\right.\n",
    "\\Leftrightarrow\n",
    "\\left\\{\n",
    "\\begin{aligned}\n",
    "angle & = & 2\\arccos {q_w} \\\\\n",
    "x & = & \\frac{q_x}{\\sqrt{1-q_w^2}} \\\\\n",
    "y & = & \\frac{q_y}{\\sqrt{1-q_w^2}} \\\\\n",
    "z & = & \\frac{q_z}{\\sqrt{1-q_w^2}}\n",
    "\\end{aligned}\n",
    "\\right.\n",
    "\\tag{1}\n",
    "$$\n",
    "\n",
    "$q^{-1}$表示q的共轭或逆：$q^{-1}=q_w-q_xi-q_yj-q_zk$\n",
    "\n",
    "通过等价的数学表达形式：$P_2=qP_1q^{-1}\\Leftrightarrow P_2=R_QP_1或P_2=q^{-1}P_1q\\Leftrightarrow P_2=R_Q^TP_1$并将上式代入，可得：\n",
    "> 在这里，P是纯四元数，即P=0+p_xi+p_yj+p_zk,表示直角空间坐标系下的点或者向量\n",
    "\n",
    "- 逆时针转动angle角时：$$R=R_Q=\\left [\\begin{matrix}\n",
    "   q_w^2+q_x^2-q_y^2-q_z^2 & 2q_xq_y-2q_zq_w & 2q_xq_z+2q_yq_w \\\\\n",
    "   2q_xq_y+2q_zq_w & q_w^2+q_y^2-q_x^2-q_z^2 & 2q_yq_z-2q_xq_w \\\\\n",
    "   2q_xq_z-2q_yq_w & 2q_yq_z+2q_xq_w & q_w^2+q_z^2-q_x^2-q_y^2\n",
    "  \\end{matrix}\\right] =\\left [\\begin{matrix}\n",
    "  tx^2+c & txy-zs & txz+ys \\\\\n",
    "  txy+zs & ty^2+c & tyz-xs \\\\\n",
    "  txz-ys & tyz+xs & tz^2+c\n",
    "  \\end{matrix}\\right]\n",
    "  \\tag{2}$$\n",
    "  \n",
    "  \n",
    "- 顺时针转动angle角时：$R=R_Q^T$\n",
    "\n",
    "符号：*$\\begin{matrix}\n",
    "c=cos(angle) & t=1-c \\\\\n",
    "s=sin(angle) & \\vec q=(x,y,z) \\end{matrix}$*"
   ]
  },
  {
   "cell_type": "markdown",
   "metadata": {},
   "source": [
    "## 2.其次,介绍关系：$M\\leftrightarrow \\leftrightarrow E$\n",
    "\n",
    "    Euler_Angle包括滚转角、俯仰角、偏航角，这3各角轴线并未特定规定，因此，为对应坐标系x、y、z便有6种组合，而对应每个组合，在相同的几何变换描述中，不仅有相同的Euler角，在讨论特定坐标系下的Euler角。\n",
    "\n",
    "    我们假设任意坐标系下的Euler角为x、y、z，则可以给出顺次绕x、y、z轴转动x、y、z角的变换关系为：\n",
    "    \n",
    "$$P_1 \\rightarrow P_2: P_2=R_zR_yR_xP_1=RP_1$$\n",
    "\n",
    "即有：$$R=\\left[\\begin{matrix}\n",
    "cosz & -sinz & \\\\\n",
    "sinz & cosz  & \\\\\n",
    "0  & 0  & 1 \n",
    "\\end{matrix}\\right].\\left[\\begin{matrix}\n",
    "cosy & 0 & siny \\\\\n",
    "0  & 1 & 0\\\\\n",
    "-siny & 0 & cosy\n",
    "\\end{matrix}\\right].\\left[\\begin{matrix}\n",
    "1 & 0 & 0 \\\\\n",
    "0 & cosx & -sinx \\\\\n",
    "0 & sinx & cosx\n",
    "\\end{matrix}\\right]\\tag{3}$$\n",
    "\n",
    "$$=\\left[\\begin{matrix}\n",
    "cosycosz & sinxsinycosz-cosxsinz & cosxsinycosz+sinxsinz \\\\\n",
    "cosysinz & sinxsinysinz+cosxcosz & cosxsinysinz-sinxcosz \\\\\n",
    "-siny & sinxcosy &cosxcosy \n",
    "\\end{matrix}\\right]$$"
   ]
  },
  {
   "cell_type": "markdown",
   "metadata": {},
   "source": [
    "从而，有：\n",
    "$$ \\left\\{\n",
    "\\begin{aligned}\n",
    "x & = & \\arctan\\frac{m_{21}}{m_{22}} & = & \\arctan\\frac{ 2q_yq_z+2q_wq_x}{ 2q_w^2+2q_z^2-1}  & = & \\arctan\\frac{tyz+xs}{tz^2+c} \\\\\n",
    "y & = & -\\arcsin(m_{20}) & = & -\\arcsin(2q_xq_z-2q_wq_y) & = & -\\arcsin(txz-ys)  \\\\\n",
    "z & = & \\arctan\\frac{m_{10}}{m_{00}} & = & \\arctan\\frac{ 2q_xq_y+2q_wq_z}{ 2q_w^2+2q_x^2-1} & = & \\arctan\\frac{txy+zs}{tx^2+c}\n",
    "\\end{aligned}\n",
    "\\right.\n",
    "\\tag{4}\n",
    "$$"
   ]
  },
  {
   "cell_type": "markdown",
   "metadata": {},
   "source": [
    "> **注意**：这里的欧拉角表示：机体坐标系$P_1$顺次绕轴x、y、z逆时针旋转x、y、z角度后得到世界坐标系$P_2$。而通常情况下，我们是要得到世界坐标系$P_2$到机体坐标系$P_1$的变换，所看到的程序常与此互为相反数，原因在此。"
   ]
  },
  {
   "cell_type": "markdown",
   "metadata": {},
   "source": [
    "因此，对于特定坐标系：  \n",
    "\n",
    "如：![]()\n",
    "\n",
    "有：$$\\left\\{\\begin{aligned}\n",
    "滚转角=\\phi=x \\\\\n",
    "俯仰角=\\theta=y \\\\\n",
    "偏航角=\\psi=z\n",
    "\\end{aligned}\n",
    "\\right.\\tag{a}$$\n",
    "\n",
    "又如：![]()\n",
    "\n",
    "有：$$\\left\\{\\begin{aligned}\n",
    "滚转角=\\phi=x \\\\\n",
    "俯仰角=\\theta=z \\\\\n",
    "偏航角=\\psi=y\n",
    "\\end{aligned}\n",
    "\\right.\\tag{b}$$"
   ]
  },
  {
   "cell_type": "markdown",
   "metadata": {},
   "source": [
    "同时，有：\n",
    "\n",
    "$$\\left\\{\\begin{aligned}\n",
    "q_w=cos\\frac{Roll}{2}cos\\frac{Pitch}{2}cos\\frac{Yaw}{2}+sin\\frac{Roll}{2}sin\\frac{Pitch}{2}sin\\frac{Yaw}{2} \\\\\n",
    "q_x=-cos\\frac{Roll}{2}sin\\frac{Pitch}{2}sin\\frac{Yaw}{2}+sin\\frac{Roll}{2}cos\\frac{Pitch}{2}cos\\frac{Yaw}{2} \\\\\n",
    "q_y=cos\\frac{Roll}{2}sin\\frac{Pitch}{2}cos\\frac{Yaw}{2}+sin\\frac{Roll}{2}cos\\frac{Pitch}{2}sin\\frac{Yaw}{2} \\\\\n",
    "q_z=cos\\frac{Roll}{2}cos\\frac{Pitch}{2}sin\\frac{Yaw}{2}-sin\\frac{Roll}{2}sin\\frac{Pitch}{2}cos\\frac{Yaw}{2}\n",
    "\\end{aligned}\n",
    "\\right.\\tag{a}$$\n",
    "\n",
    "\n",
    "$$\\left\\{\\begin{aligned}\n",
    "q_w=cos\\frac{Roll}{2}cos\\frac{Pitch}{2}cos\\frac{Yaw}{2}-sin\\frac{Roll}{2}sin\\frac{Pitch}{2}sin\\frac{Yaw}{2} \\\\\n",
    "q_x=cos\\frac{Roll}{2}sin\\frac{Pitch}{2}sin\\frac{Yaw}{2}+sin\\frac{Roll}{2}cos\\frac{Pitch}{2}cos\\frac{Yaw}{2} \\\\\n",
    "q_y=cos\\frac{Roll}{2}cos\\frac{Pitch}{2}sin\\frac{Yaw}{2}+sin\\frac{Roll}{2}sin\\frac{Pitch}{2}cos\\frac{Yaw}{2} \\\\\n",
    "q_z=cos\\frac{Roll}{2}sin\\frac{Pitch}{2}cos\\frac{Yaw}{2}-sin\\frac{Roll}{2}cos\\frac{Pitch}{2}sin\\frac{Yaw}{2}\n",
    "\\end{aligned}\n",
    "\\right.\\tag{b}$$"
   ]
  },
  {
   "cell_type": "markdown",
   "metadata": {},
   "source": [
    "## 3. 转换表达式$P_2=RP_1$的意义\n",
    "\n",
    "这个表达式应当可以写成3种形式：  \n",
    "\n",
    "  a. $P_2=RP_1 \\rightarrow$在$s_0$坐标中观察，$P_1$去哪儿了？  \n",
    "  b. $P_3^T=P_1^TR \\rightarrow$在$s_1$坐标中观察，$P_1^T$从那儿来？  \n",
    "  c. $P_4=R^TP_1 \\rightarrow$在$s_1$坐标中观察，绝对静止矢量$P_1$在哪儿？\n",
    "\n",
    "实际上，bc的结果互为转置，即b中$P_1^T$从哪而来？（$P_3^T$）,$P_1^T$自然从前一个状态来的，而前一个状态我们同样看作是暂时的绝对静止矢量，那么b便等效于，在$s_1$坐标中观察，绝对静止矢量在哪儿？\n",
    "\n",
    "通常情况下，我们使用a来表示，站在绝对坐标系下(基座标系、世界坐标系）观察运动物体连续运动变化，使用c式来表示，跟随运动坐标系，来观察绝对静止物体的相对位置，常用于位置较准。"
   ]
  },
  {
   "cell_type": "markdown",
   "metadata": {},
   "source": [
    "## 4.四元数的一些应用$_{(积累)}$"
   ]
  },
  {
   "cell_type": "markdown",
   "metadata": {},
   "source": [
    "- 空间多连杆机构中，一串联连杆逐次单自由度转动后的末端位姿问题：  \n",
    "\n",
    "    位置：$P=\\sum_{i=1}^n  q_i P_i q_i^{-1}$ ,$P_i$为每杆的长度矢量，$q_i$为当前转动四元数由轴$\\vec q_i$与角$\\alpha _i$确定\n",
    "    \n",
    "    姿态：$\\left\\{\\begin{aligned}\n",
    "    &\\vec d=\\vec d_{ini} \\rightarrow_{\\alpha_1,\\alpha_2...\\alpha_n}^{\\vec q_1,\\vec q_2...\\vec q_n}\\rightarrow \\vec d_n &\\\\\n",
    "    &\\vec q_i \\rightarrow_{\\alpha_1,...,\\alpha_{i-1}}^{\\vec q_1,...,\\vec q_{i-1}} \\rightarrow \\vec q_i & 其中i=2,3,4...\n",
    "    \\end{aligned}\\right.$,  \n",
    "    "
   ]
  },
  {
   "cell_type": "markdown",
   "metadata": {},
   "source": [
    "## 5.四元数、欧拉角、绕轴转动、空间矩阵变换的一些注意\n",
    "\n",
    "- **欧拉角**：  \n",
    "    - **万向节死锁**：这是欧拉角的一个本质上的缺点，因为他本身来源于陀螺仪的建模，所以不可避免的存在90°时的死锁现象（奇点，自由度退化），详情参考[这里](https://www.zhihu.com/question/47736315/answer/236284413)"
   ]
  }
 ],
 "metadata": {
  "kernelspec": {
   "display_name": "Python 3",
   "language": "python",
   "name": "python3"
  },
  "language_info": {
   "codemirror_mode": {
    "name": "ipython",
    "version": 3
   },
   "file_extension": ".py",
   "mimetype": "text/x-python",
   "name": "python",
   "nbconvert_exporter": "python",
   "pygments_lexer": "ipython3",
   "version": "3.6.1"
  }
 },
 "nbformat": 4,
 "nbformat_minor": 2
}
