{
 "cells": [
  {
   "cell_type": "markdown",
   "metadata": {},
   "source": [
    "# BT无线下载\n",
    "\n",
    ">这一page讲述了怎么用BT蓝牙来烧录程序到板子上，，以后再也不用拖着长长的线满地追着机器人跑了"
   ]
  },
  {
   "cell_type": "markdown",
   "metadata": {},
   "source": [
    "# HC-05\n",
    "\n",
    ">蓝牙模块BT-HC05模块是一款高性能的蓝牙串口模块。 1、可用于各种带蓝牙功能的电脑、蓝牙主机、手机、PDA、PSP等智能终端配对。 2、宽波特率范围4800~1382400，并且模块兼容单片机系统。 3、当主从模式两个蓝牙模块配对成功后，可以简单的，更改为无线的蓝牙，让您设备或者产品更高级，更时尚。 4、您可以很容易的使用提供的蓝牙手机软件\n",
    "\n",
    "就这玩意儿\n",
    "![bt](http://odaps2f9v.bkt.clouddn.com/bluetooth-model.jpg)"
   ]
  },
  {
   "cell_type": "markdown",
   "metadata": {},
   "source": [
    "## 蓝牙干啥用？\n",
    "\n",
    "**我们得首先明白蓝牙卵用**\n",
    "\n",
    "蓝牙模块也称蓝牙串口通讯模块，原来它是和串口通讯有关，串口我们都知道，比如我平时USB-ISP烧写单片机程序，用的就是串口。但这是用导线把单片机和下载模块连接的，而蓝牙模块的作用，正是那一根导线。\n",
    "![bt](http://odaps2f9v.bkt.clouddn.com/%E7%A4%BA%E6%84%8F%E5%9B%BE.png)\n",
    "发送方发送的数据并不是直接到接收方，而是先到模块，经过模块的中转，再到接收方。可以看到从发送方到模块这一段，用的是无线蓝牙传输（这正是我们需要的），而从模块到接收方是用有线（其实就是把模块插上去），蓝牙模块充当“传话人”的角色。"
   ]
  },
  {
   "cell_type": "markdown",
   "metadata": {},
   "source": [
    "## 蓝牙串口连接\n",
    "\n",
    "![](http://s3.51cto.com/wyfs02/M01/5A/16/wKiom1T1m9jjaNyxAAJSYo9YfPc969.jpg)\n",
    "蓝牙模块上有五六个串口，其中主要用的是VCC&GND&RX&TX四个，也即是Serial通信的连接串口。我们在连接蓝牙模块和主体板子的时候，我们都要通过连接这四个接口来实现通信，连接方法如下：\n",
    "![](http://s3.51cto.com/wyfs02/M00/5A/11/wKioL1T1m2iwUZBDAAFEebozxZc035.jpg)\n",
    "![](http://s3.51cto.com/wyfs02/M00/5A/15/wKiom1T1mlXC9nisAAEnDPt0LV0348.jpg)\n",
    "![](http://s3.51cto.com/wyfs02/M00/5A/15/wKiom1T1mlXC9nisAAEnDPt0LV0348.jpg)\n",
    "其中板子和模块之间通讯时，TX&RX一定是交错连接的。"
   ]
  },
  {
   "cell_type": "markdown",
   "metadata": {},
   "source": [
    "## 设置蓝牙模块参数\n",
    "\n",
    "**工作状态**\n",
    "\n",
    "HC-05有两种工作模式，官方称为命令响应工作模式和自动连接工作模式，我们可以理解为“参数设置模式”和“正常工作模式”。在参数设置模式下，用户可以通过AT指令对蓝牙模块进行常用参数的设置，比如名称、连接密码等。正常工作模式就是按照在用户设置的参数工作，配对、收发数据。\n",
    "\n",
    "**在参数设置模式下设置模块参数**\n",
    "\n",
    "模块上电后就进入了自动连接工作模式，我们要能够设置参数，就得先进入命令响应工作模式，如何实现呢？看看手册怎么说：\n",
    "\n",
    ">通过控制模块外部引脚（PIO11）输入电平，可以实现模块工作状态的动态转换。  \n",
    "PIO11 模块状态切换脚，高电平–>AT 命令响应工作状态，低电平或悬空–>蓝牙常规工 作状态。\n",
    "\n",
    "那么，PIO11又是什么鬼？看看电路图\n",
    "![](http://odaps2f9v.bkt.clouddn.com/%E6%A8%A1%E5%9D%97%E7%94%B5%E8%B7%AF%E5%9B%BE.jpg)\n",
    "其实PIO11是模块内部芯片的引脚，在模块上已经和一个小按键串联到VCC了（有的模块没有按键，所以手册才统一说明引脚），这样一来我们只要把这小按键按住，再上电就可以进入参数设置模式  \n",
    "\n",
    "就是这个玩意儿：\n",
    "![](http://odaps2f9v.bkt.clouddn.com/%E5%B0%8F%E6%8C%89%E9%94%AE.jpg)"
   ]
  },
  {
   "cell_type": "markdown",
   "metadata": {},
   "source": [
    "## 通过串口设置模块参数（重点）\n",
    "\n",
    "参数设置需要使用[AT指令集](http://www.pibot.com/pxl/bluetooth/hc-05-cmd-set.pdf)，但这里我们使用更简便的软件设置方式。老规矩，先把蓝牙模块与USB转串口模块连接，记住串口号。注意参数设置时只能用有线连接的方式，与正常工作模式的蓝牙配对不同，按住小按键，最后把USB模块插上电脑。上电后模块的LED慢闪，表示已处于参数设置模式。  \n",
    "\n",
    "![](http://odaps2f9v.bkt.clouddn.com/%E6%A8%A1%E5%9D%97%E8%BF%9E%E6%8E%A5%E7%94%B5%E8%84%91.jpg)"
   ]
  },
  {
   "cell_type": "markdown",
   "metadata": {},
   "source": [
    "### 打开串口\n",
    "\n",
    "我们先查看一下串口编号\n",
    "![](http://odaps2f9v.bkt.clouddn.com/%E8%AE%BE%E5%A4%87%E7%AE%A1%E7%90%86%E5%99%A8.png)\n",
    "然后，打开[蓝牙测试软件](https://pan.baidu.com/s/1o6BiNDS#list/path=%2F)，点击“搜索端口”按钮。串口打开成功后在旁边会有提示，多次点击按钮切换串口号：\n",
    "![](http://odaps2f9v.bkt.clouddn.com/%E8%93%9D%E7%89%99%E6%B5%8B%E8%AF%95%E8%BD%AF%E4%BB%B6.png)"
   ]
  },
  {
   "cell_type": "markdown",
   "metadata": {},
   "source": [
    "### 测试连接  \n",
    "\n",
    "点“获取模块信息”按钮测试一下\n",
    "\n",
    "![](http://odaps2f9v.bkt.clouddn.com/%E8%8E%B7%E5%8F%96%E6%A8%A1%E5%9D%97%E4%BF%A1%E6%81%AF.png)"
   ]
  },
  {
   "cell_type": "markdown",
   "metadata": {},
   "source": [
    "### 参数设置\n",
    "\n",
    "接下来在右边的表格填上要设置的参数，常用的设置：1、设备名称 2、连接密码 3、主从角色 4、波特率，再点击“更新模块信息”按钮即可收到模块反馈结果，”OK”表示设置成功，”ERRO:(0)”表示失败：\n",
    "\n",
    "![](http://odaps2f9v.bkt.clouddn.com/%E5%8F%82%E6%95%B0%E8%AE%BE%E7%BD%AE.png)\n",
    "\n",
    "**注意！这些图是我盗的** ，哈哈哈，**重点**是这里的通信波特率写法需要注意，而且首项为你的传输波特率**需要和你的板子一致**，这样子才能实现笔记本烧录程序时能够通过BT烧入，所以需要查看一下你的板子的通信波特率，arduino的几款是这样子的：\n",
    ">uno，mega 用的是 115200  \n",
    "atmega328 用的是 57600  \n",
    "atmega168，atmega8 用的是 19200\n",
    "\n",
    "设置成功后重新上电，模块进入正常工作模式，用电脑测试是否能配对，配对成功指示灯闪烁频率会变慢。\n",
    "\n",
    "**波特率一定要一致，而且之后的串口通讯的时候也要选用这个波特率！**"
   ]
  },
  {
   "cell_type": "markdown",
   "metadata": {},
   "source": [
    "## 电脑蓝牙驱动配置\n",
    "\n",
    "好了！正题开始了，其实前面的很重要。"
   ]
  },
  {
   "cell_type": "markdown",
   "metadata": {},
   "source": [
    "### 添加com口\n",
    "\n",
    "我们打开‘蓝牙设备管理’设置，win10同志你就点左下角那里，然后右键蓝牙进入设置。下拉点击‘更多蓝牙选项’，然后电机‘com端口’标签，添加一个com端，一路确定就好\n",
    "![](http://image.geek-workshop.com/forum/201309/17/213053yddd0w9cc55a7bwz.png)"
   ]
  },
  {
   "cell_type": "markdown",
   "metadata": {},
   "source": [
    "### 烧录程序\n",
    "\n",
    "就这么快，这就配置好了。。回到IDE上，选择端口，，啊！在这之前你要先让电脑连接BT哦，连接上了的话，模块频闪会变慢的，，然后你再选择端口，通常你会看见多了两个端口，回到刚才‘COM端口’配置窗口，会显示一个端口为‘传出’另一个为‘传入’，，我们选择传出的那个端口，然后就烧录吧!!!!\n",
    "\n",
    "**注意啊！**，，，程序开始下载的时候，需要让板子复位一下，，如下图所示\n",
    "![](http://image.geek-workshop.com/forum/201309/17/213901o9sg493u5zu7lgz9.png)"
   ]
  },
  {
   "cell_type": "markdown",
   "metadata": {},
   "source": [
    "好了，大功告成！！不过，还是挺麻烦的，烧录的时候还得复位一下，，能不能不复位啊，，有线烧录也不用啊。。我再研究研究"
   ]
  },
  {
   "cell_type": "markdown",
   "metadata": {},
   "source": []
  }
 ],
 "metadata": {
  "kernelspec": {
   "display_name": "Python 3",
   "language": "python",
   "name": "python3"
  },
  "language_info": {
   "codemirror_mode": {
    "name": "ipython",
    "version": 3
   },
   "file_extension": ".py",
   "mimetype": "text/x-python",
   "name": "python",
   "nbconvert_exporter": "python",
   "pygments_lexer": "ipython3",
   "version": "3.6.1"
  }
 },
 "nbformat": 4,
 "nbformat_minor": 2
}
