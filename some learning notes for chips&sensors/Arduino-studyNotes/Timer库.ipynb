{
 "cells": [
  {
   "cell_type": "markdown",
   "metadata": {},
   "source": [
    "# Timer.h库概要\n"
   ]
  },
  {
   "cell_type": "markdown",
   "metadata": {},
   "source": [
    "引用$<keyword.txt>$;\n",
    "\n",
    ">## Datatypes (KEYWORD1)  \n",
    "  \n",
    ">$Timer$  \n",
    "$Event$\t  \n",
    "\n",
    ">## Methods and Functions (KEYWORD2)\n",
    "\n",
    ">$every$\t\n",
    "$after$\t\n",
    "$oscillate$\t\n",
    "$pulse$\t\n",
    "$pulseImmediate$ \n",
    "$stop$\t\n",
    "$update$\t\n",
    "$findFreeEventIndex$\t\n",
    ">\n",
    "## Instances (KEYWORD2)  \n",
    ">\n",
    "## Constants (LITERAL1)  "
   ]
  },
  {
   "cell_type": "markdown",
   "metadata": {},
   "source": [
    "## 主要用法\n",
    "  \n",
    "\n",
    "- ```c\n",
    "    int every(long period, callback, int repeatCount)```    \n",
    "    每“period”个毫秒调用“callback”方法，共“repeatCount”次,repeatCount默认无限（值大小为-1）。\n",
    "    返回定时事件的ID。\n",
    "- ```c\n",
    "    int after(long duration, callback)```\n",
    "    在“period”个毫秒**后**调用“callback”方法**一次**。\n",
    "    返回定时事件的ID。\n",
    "\n",
    "- ```c\n",
    "    int oscillate(int pin, long period, int startingValue, int repeatCount)```\n",
    "    每“period”个毫秒**切换**数字输出引脚“pin”的状态，共“repeatCount”次，repeatCount默认无限（值大小为-1）。引脚的初始值由“startingValue”定义，应为HIGH或LOW。\n",
    "    返回定时事件的ID。\n",
    "- ```c\n",
    "    int pulse(int pin, long period, int startingValue)```\n",
    "    在“period”个毫秒**后***切换*数字输出引脚“pin”的状态一次。引脚的初始值由“startingValue”定义，应为HIGH或LOW。\n",
    "    返回定时事件的ID。\n",
    "- ```c\n",
    "    int stop(int id)```\n",
    "    停止正在运行的定时事件。\n",
    "    返回定时事件的ID。\n",
    "- ```c\n",
    "    int update()```\n",
    "    必须在“loop”中调用。Must be called from 'loop'. 它会服务所有与定时器相关的事件。\n"
   ]
  },
  {
   "cell_type": "markdown",
   "metadata": {},
   "source": [
    "## 解释\n",
    "\n",
    "这里，我们罗列出的是Timer.h库中所有的方法名，用法如上所述，而除了Timer.cpp文件外，我们还会看到库文件里面有Event.cpp，改文件是用来解释Timer.cpp中对repeatCount的使用，即设定repeatCount，则需调用Event.h来对repeatCount的行为做出定义，通常情况下，repeatCount默认值为-1.\n",
    "\n",
    "\n",
    "在这些方法名中：\n",
    "\n",
    "    update()函数无参数，且必须出现在loop()函数中，是基本结构之一。\n",
    "    stop(event_id)函数，用于停止某一事件\n",
    "    pulse()和oscillate()函数为一对函数，用于切换状态，都表示一段时间后执行切换操作，但前者强调只执行一次，后者强调周期重复，如果想要多次执行，可以在程序中自行构造\n",
    "    after()和every()函数也是一堆函数，用于调用方法，都表示一段时间后执行操作，但前者强调只执行一次，后者强调周期重复，如果想要多次执行，可以在程序中自行构造"
   ]
  },
  {
   "cell_type": "markdown",
   "metadata": {},
   "source": [
    "## 例子\n",
    "\n",
    "执行LED灯10s后点亮：\n",
    "```c\n",
    "Timer t;\n",
    "int pin = 13;\n",
    "\n",
    "void setup()\n",
    "{\n",
    "  pinMode(pin, OUTPUT);\n",
    "  t.pulse(pin, 10 * 1000, HIGH); // 10 seconds\n",
    "  // t.pulse(pin, 10 * 60 * 1000, HIGH); // 10 minutes  \n",
    "}\n",
    "\n",
    "void loop()\n",
    "{\n",
    "  t.update();\n",
    "}\n",
    "```\n",
    "\n",
    "执行电机每半秒钟正反交替运转：\n",
    "```c\n",
    "#define ENA 3\n",
    "#define IN1 5\n",
    "#define IN2 6\n",
    "#include <Timer.h>\n",
    "Timer t;\n",
    "\n",
    "void setup() {\n",
    "  pinMode(ENA, OUTPUT); //PWM\n",
    "  pinMode(IN1, OUTPUT);\n",
    "  pinMode(IN2, OUTPUT);\n",
    "  int event1 = t.oscillate(5,500,HIGH);\n",
    "  int event2 = t.oscillate(6,500,LOW);\n",
    "}\n",
    "\n",
    "void loop()\n",
    "{\n",
    "  analogWrite(ENA, 70);\n",
    "  t.update();\n",
    "}\n",
    "\n",
    "```"
   ]
  },
  {
   "cell_type": "markdown",
   "metadata": {},
   "source": []
  },
  {
   "cell_type": "markdown",
   "metadata": {},
   "source": []
  },
  {
   "cell_type": "markdown",
   "metadata": {},
   "source": []
  },
  {
   "cell_type": "markdown",
   "metadata": {},
   "source": []
  }
 ],
 "metadata": {
  "kernelspec": {
   "display_name": "Python 3",
   "language": "python",
   "name": "python3"
  },
  "language_info": {
   "codemirror_mode": {
    "name": "ipython",
    "version": 3
   },
   "file_extension": ".py",
   "mimetype": "text/x-python",
   "name": "python",
   "nbconvert_exporter": "python",
   "pygments_lexer": "ipython3",
   "version": "3.6.0"
  }
 },
 "nbformat": 4,
 "nbformat_minor": 2
}
